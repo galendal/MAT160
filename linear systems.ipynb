{
 "cells": [
  {
   "cell_type": "code",
   "execution_count": 8,
   "id": "4250ef46",
   "metadata": {},
   "outputs": [
    {
     "name": "stdout",
     "output_type": "stream",
     "text": [
      "Original A:\n",
      " [[ 2.  1. -1.]\n",
      " [-3. -1.  2.]\n",
      " [-2.  1.  2.]]\n",
      "\n",
      "Matrix A after iteration 1:\n",
      "[[-3.         -1.          2.        ]\n",
      " [ 0.          0.33333333  0.33333333]\n",
      " [ 0.          1.66666667  0.66666667]]\n",
      "\n",
      "Matrix A after iteration 2:\n",
      "[[-3.         -1.          2.        ]\n",
      " [ 0.          1.66666667  0.66666667]\n",
      " [ 0.          0.          0.2       ]]\n",
      "\n",
      "Matrix A after iteration 3:\n",
      "[[-3.         -1.          2.        ]\n",
      " [ 0.          1.66666667  0.66666667]\n",
      " [ 0.          0.          0.2       ]]\n",
      "\n",
      "matrix A:     [[ 2.  1. -1.]\n",
      " [-3. -1.  2.]\n",
      " [-2.  1.  2.]]\n",
      "vector b:     [  8. -11.  -3.]\n",
      "\n",
      "System of equations:\n",
      "Eq1:   2.0*x1 +   1.0*x2 + -  1.0*x3 =   8.0\n",
      "Eq2: -  3.0*x1 + -  1.0*x2 +   2.0*x3 = -11.0\n",
      "Eq3: -  2.0*x1 +   1.0*x2 +   2.0*x3 =  -3.0\n",
      "\n",
      "Solution:\n",
      "x1 = 2.0\n",
      "x2 = 3.0000000000000004\n",
      "x3 = -0.9999999999999999\n",
      "Solution: [ 2.  3. -1.]\n"
     ]
    }
   ],
   "source": [
    "import numpy as np\n",
    "\n",
    "def gauss_elimination(A, b):\n",
    "    n = len(b)\n",
    "    # Forward elimination\n",
    "    print(f\"Original A:\\n {A}\\n\")\n",
    "    for i in range(n):\n",
    "        # Partial pivoting\n",
    "        max_row = np.argmax(abs(A[i:, i])) + i\n",
    "        if i != max_row:\n",
    "            A[[i, max_row]] = A[[max_row, i]]\n",
    "            b[[i, max_row]] = b[[max_row, i]]\n",
    "        # Eliminate entries below pivot\n",
    "        for j in range(i+1, n):\n",
    "            factor = A[j, i] / A[i, i]\n",
    "            A[j, i:] -= factor * A[i, i:]\n",
    "            b[j] -= factor * b[i]\n",
    "        print(f\"Matrix A after iteration {i+1}:\\n{A}\\n\")\n",
    "    # Back substitution\n",
    "    x = np.zeros(n)\n",
    "    for i in range(n-1, -1, -1):\n",
    "        x[i] = (b[i] - np.dot(A[i, i+1:], x[i+1:])) / A[i, i]\n",
    "    return x\n",
    "\n",
    "# Example usage:\n",
    "A = np.array([[2.0, 1.0, -1.0],\n",
    "              [-3.0, -1.0, 2.0],\n",
    "              [-2.0, 1.0, 2.0]])\n",
    "b = np.array([8.0, -11.0, -3.0])\n",
    "x = gauss_elimination(A.copy(), b.copy())\n",
    "print(\"matrix A:    \", A)\n",
    "print(\"vector b:    \", b)\n",
    "print(\"\\nSystem of equations:\")\n",
    "for i in range(A.shape[0]):\n",
    "    row = \" + \".join([f\"{A[i, j]:>5}*x{j+1}\" if A[i, j] >= 0 else f\"- {abs(A[i, j]):>4}*x{j+1}\" for j in range(A.shape[1])])\n",
    "    print(f\"Eq{i+1}: {row} = {b[i]:>5}\")\n",
    "\n",
    "print(\"\\nSolution:\")\n",
    "for i, val in enumerate(x, 1):\n",
    "    print(f\"x{i} = {val}\")\n",
    "print(\"Solution:\", x)"
   ]
  },
  {
   "cell_type": "code",
   "execution_count": null,
   "id": "36f2dc6a",
   "metadata": {},
   "outputs": [],
   "source": []
  },
  {
   "cell_type": "code",
   "execution_count": null,
   "id": "0942ed0a",
   "metadata": {},
   "outputs": [],
   "source": [
    "3 0 1 −1 060 1 1 0 −1 0 −1 1 0 10"
   ]
  },
  {
   "cell_type": "code",
   "execution_count": 21,
   "id": "7dc3aa38",
   "metadata": {},
   "outputs": [
    {
     "data": {
      "image/png": "[encoded data removed]",
      "text/plain": [
       "<Figure size 640x480 with 1 Axes>"
      ]
     },
     "metadata": {},
     "output_type": "display_data"
    }
   ],
   "source": [
    "import matplotlib.pyplot as plt\n",
    "A = np.array([[3, 0, 1],\n",
    "              [0.5, 4, 0],\n",
    "              [1, 1, 5]], dtype=float)\n",
    "A = np.array([[3, 0, 1,-1],\n",
    "              [0, 6, 0,1],\n",
    "              [1, 0, -1,0],\n",
    "              [-1,1,0,10]], dtype=float)\n",
    "# Compute Gerschgorin discs for matrix A\n",
    "fig, ax = plt.subplots()\n",
    "n = A.shape[0]\n",
    "for i in range(n):\n",
    "    center = A[i, i]\n",
    "    radius = np.sum(np.abs(A[i, :])) - np.abs(center)\n",
    "    circle = plt.Circle((center.real, center.imag), radius, color='b', fill=False, linestyle='--', label='Gerschgorin disc' if i == 0 else \"\")\n",
    "    ax.add_artist(circle)\n",
    "    ax.plot(center.real, center.imag, 'ro')  # Mark the center\n",
    "\n",
    "# Plot settings\n",
    "ax.set_xlabel('Real')\n",
    "ax.set_ylabel('Imaginary')\n",
    "ax.set_title(\"Gerschgorin Discs for Matrix A\")\n",
    "ax.set_aspect('equal', 'box')\n",
    "plt.grid(True)\n",
    "plt.legend(['Disc center'])\n",
    "ax.set_xlim(min_real - max(radii), max_real + max(radii))\n",
    "ax.set_ylim(-max(radii), max(radii))\n",
    "plt.show()"
   ]
  },
  {
   "cell_type": "code",
   "execution_count": null,
   "id": "e40f1540",
   "metadata": {},
   "outputs": [],
   "source": []
  }
 ],
 "metadata": {
  "kernelspec": {
   "display_name": "base",
   "language": "python",
   "name": "python3"
  },
  "language_info": {
   "codemirror_mode": {
    "name": "ipython",
    "version": 3
   },
   "file_extension": ".py",
   "mimetype": "text/x-python",
   "name": "python",
   "nbconvert_exporter": "python",
   "pygments_lexer": "ipython3",
   "version": "3.10.13"
  }
 },
 "nbformat": 4,
 "nbformat_minor": 5
}
