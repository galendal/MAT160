{
 "cells": [
  {
   "cell_type": "markdown",
   "id": "da270a44",
   "metadata": {},
   "source": [
    "# Numerical Linear Algebra\n",
    "Based on Turner et al. \n",
    "\n",
    "We're looking at \n",
    "$$\n",
    "A{\\bf x}={\\bf b}\n",
    "$$\n",
    "where $A$ is a $nxn$ matrix, and ${\\bf x}$  and ${\\bf b}$ are $n$-dimensional vectors. \n"
   ]
  },
  {
   "cell_type": "markdown",
   "id": "24b6f469",
   "metadata": {},
   "source": [
    "## Matrix operations in Python\n",
    "Matrix operations are fundamental in numerical computing, and Python, with the help of the NumPy library, provides efficient and intuitive tools for working with matrices. NumPy supports a wide range of matrix operations, including addition, multiplication, transposition, inversion, and decomposition. These capabilities make it a powerful choice for scientific computing, data analysis, and machine learning tasks. In this section, we will explore how to perform basic and advanced matrix operations using NumPy.\n",
    "\n",
    "- **Matrix addition:**  \n",
    "    `C = A + A`  &nbsp;# Element-wise addition\n",
    "\n",
    "- **Matrix multiplication:**  \n",
    "    `C = A @ A`  &nbsp;# Matrix product (dot product)\n",
    "\n",
    "- **Matrix vector multiplication:**  \n",
    "    `w = A @ v`  &nbsp;# Matrix vector product (dot product)\n",
    "    \n",
    "- **Vector dot product:**\n",
    "    `s = w @ v`  &nbsp;# Matrix vector product (dot product)\n",
    "\n",
    "- **Transpose:**  \n",
    "    `A_T = A.T`\n",
    "\n",
    "- **Inverse:**  \n",
    "    `A_inv = np.linalg.inv(A)`\n",
    "\n",
    "- **Determinant:**  \n",
    "    `det_A = np.linalg.det(A)`\n",
    "\n",
    "- **Extract diagonal:**  \n",
    "    `diag_A = np.diag(A)`\n",
    "\n",
    "- **Solve linear system $Ax = b$:**  \n",
    "    `x = np.linalg.solve(A, b)`\n"
   ]
  },
  {
   "cell_type": "code",
   "execution_count": 34,
   "id": "afc80feb",
   "metadata": {},
   "outputs": [
    {
     "name": "stdout",
     "output_type": "stream",
     "text": [
      "Matrix Addition:\n",
      " [[ 6  8]\n",
      " [10 12]]\n",
      "\n",
      "Matrix Multiplication:\n",
      " [[19 22]\n",
      " [43 50]]\n",
      "\n",
      "Vector Addition: [4 6]\n",
      "Dot Product: 11\n",
      "Norm of v1: 2.23606797749979\n",
      "\n",
      "Matrix-Vector Multiplication (A @ v1): [ 5 11]\n",
      "Element-wise multiplication (A * v1):\n",
      " [[1 4]\n",
      " [3 8]]\n",
      "\n",
      "Transpose of A:\n",
      " [[1 3]\n",
      " [2 4]]\n",
      "\n",
      "Inverse of A:\n",
      " [[-2.   1. ]\n",
      " [ 1.5 -0.5]]\n",
      "\n",
      "Determinant of A: -2.0000000000000004\n",
      "\n",
      "Diagonal of A: [1 4]\n",
      "\n",
      "Solution to Ax = b: [0.  0.5]\n"
     ]
    }
   ],
   "source": [
    "import numpy as np\n",
    "\n",
    "# Example matrices\n",
    "A = np.array([[1, 2], [3, 4]])\n",
    "B = np.array([[5, 6], [7, 8]])\n",
    "\n",
    "# Example vectors\n",
    "v1 = np.array([1, 2])\n",
    "v2 = np.array([3, 4])\n",
    "\n",
    "# Matrix addition\n",
    "C_add = A + B\n",
    "print(\"Matrix Addition:\\n\", C_add)\n",
    "\n",
    "# Matrix multiplication (dot product)\n",
    "C_mul = A @ B\n",
    "print(\"\\nMatrix Multiplication:\\n\", C_mul)\n",
    "\n",
    "# Vector addition\n",
    "v_add = v1 + v2\n",
    "print(\"\\nVector Addition:\", v_add)\n",
    "\n",
    "# Dot product\n",
    "v_dot = np.dot(v1, v2)\n",
    "print(\"Dot Product:\", v_dot)\n",
    "\n",
    "# Norm of a vector\n",
    "v1_norm = np.linalg.norm(v1)\n",
    "print(\"Norm of v1:\", v1_norm)\n",
    "\n",
    "# Matrix vector multiplication\n",
    "Av1 = A @ v1\n",
    "print(\"\\nMatrix-Vector Multiplication (A @ v1):\", Av1)\n",
    "\n",
    "print(f\"Element-wise multiplication (A * v1):\\n {A * v1}\")\n",
    "\n",
    "# Transpose\n",
    "A_T = A.T\n",
    "print(\"\\nTranspose of A:\\n\", A_T)\n",
    "\n",
    "# Inverse\n",
    "A_inv = np.linalg.inv(A)\n",
    "print(\"\\nInverse of A:\\n\", A_inv)\n",
    "\n",
    "# Determinant\n",
    "det_A = np.linalg.det(A)\n",
    "print(\"\\nDeterminant of A:\", det_A)\n",
    "\n",
    "# Extract diagonal\n",
    "diag_A = np.diag(A)\n",
    "print(\"\\nDiagonal of A:\", diag_A)\n",
    "\n",
    "# Solve linear system Ax = b\n",
    "b = np.array([1, 2])\n",
    "x = np.linalg.solve(A, b)\n",
    "print(\"\\nSolution to Ax = b:\", x)"
   ]
  },
  {
   "cell_type": "code",
   "execution_count": 36,
   "id": "4670ceee",
   "metadata": {},
   "outputs": [],
   "source": [
    "#help(np.linalg)"
   ]
  },
  {
   "cell_type": "markdown",
   "id": "0c36980c",
   "metadata": {},
   "source": [
    "## Gauss elimination\n",
    "Treated in courses in linear algebra. Here is a demonstration. \n",
    "\n",
    "Might have to pivot rows to avoid dividing with zero and to prevent round off errors. \n",
    "\n",
    "To be aware of in numerical Gaussian elimination; division by zero, round off errors, dividing with small numbers, subtracting small numbers ...\n",
    "\n",
    "A short demonstration below. "
   ]
  },
  {
   "cell_type": "code",
   "execution_count": null,
   "id": "4250ef46",
   "metadata": {},
   "outputs": [],
   "source": [
    "import numpy as np\n",
    "\n",
    "def gauss_elimination(A, b, pivoting=False,verbatim=True): # Slightly different than the code in Turner et al. \n",
    "    n = len(b) # Number of equations\n",
    "    # Forward elimination\n",
    "    if verbatim: print(f\"Original A:\\n {A}\\n\") # Print original matrix if verbatim is True\n",
    "    for i in range(n): \n",
    "        # Partial pivoting\n",
    "        max_row = np.argmax(abs(A[i:, i])) + i # Find the index of the maximum element in the current column\n",
    "        if pivoting and i != max_row: # Swap rows if needed\n",
    "            A[[i, max_row]] = A[[max_row, i]] # Swap rows in A\n",
    "            b[[i, max_row]] = b[[max_row, i]] # Swap corresponding elements in b\n",
    "        # Eliminate entries below pivot\n",
    "        for j in range(i+1, n):\n",
    "            factor = A[j, i] / A[i, i]\n",
    "            A[j, i:] -= factor * A[i, i:]\n",
    "            b[j] -= factor * b[i]\n",
    "        if verbatim: print(f\"Matrix A after iteration {i+1}:\\n{A}\\n\")\n",
    "    # Back substitution\n",
    "    x = np.zeros(n) # Initialize solution vector\n",
    "    for i in range(n-1, -1, -1):\n",
    "        x[i] = (b[i] - np.dot(A[i, i+1:], x[i+1:])) / A[i, i] # Back substitution\n",
    "    return x\n"
   ]
  },
  {
   "cell_type": "code",
   "execution_count": 85,
   "id": "141e74c4",
   "metadata": {},
   "outputs": [
    {
     "name": "stdout",
     "output_type": "stream",
     "text": [
      "Original A:\n",
      " [[1. 3. 5.]\n",
      " [3. 5. 5.]\n",
      " [5. 5. 5.]]\n",
      "\n",
      "Matrix A after iteration 1:\n",
      "[[  1.   3.   5.]\n",
      " [  0.  -4. -10.]\n",
      " [  0. -10. -20.]]\n",
      "\n",
      "Matrix A after iteration 2:\n",
      "[[  1.   3.   5.]\n",
      " [  0.  -4. -10.]\n",
      " [  0.   0.   5.]]\n",
      "\n",
      "Matrix A after iteration 3:\n",
      "[[  1.   3.   5.]\n",
      " [  0.  -4. -10.]\n",
      " [  0.   0.   5.]]\n",
      "\n",
      "matrix A: \n",
      " [[1. 3. 5.]\n",
      " [3. 5. 5.]\n",
      " [5. 5. 5.]]\n",
      "vector b:     [ 9. 13. 15.]\n",
      "\n",
      "System of equations:\n",
      "Eq1:   1.0*x1 +   3.0*x2 +   5.0*x3 =   9.0\n",
      "Eq2:   3.0*x1 +   5.0*x2 +   5.0*x3 =  13.0\n",
      "Eq3:   5.0*x1 +   5.0*x2 +   5.0*x3 =  15.0\n",
      "\n",
      "Solution:\n",
      "x1 = 1.0\n",
      "x2 = 1.0\n",
      "x3 = 1.0\n",
      "Solution: [1. 1. 1.]\n"
     ]
    }
   ],
   "source": [
    "\n",
    "# Example usage:\n",
    "A = np.array([[1.0, 3.0, 5.0],\n",
    "              [3.0, 5.0, 5.0],\n",
    "              [5.0, 5.0, 5.0]])\n",
    "b = np.array([9.0, 13.0, 15.0])\n",
    "x = gauss_elimination(A.copy(), b.copy())\n",
    "print(\"matrix A: \\n\", A)\n",
    "print(\"vector b:    \", b)\n",
    "print(\"\\nSystem of equations:\")\n",
    "for i in range(A.shape[0]):\n",
    "    row = \" + \".join([f\"{A[i, j]:>5}*x{j+1}\" if A[i, j] >= 0 else f\"- {abs(A[i, j]):>4}*x{j+1}\" for j in range(A.shape[1])])\n",
    "    print(f\"Eq{i+1}: {row} = {b[i]:>5}\")\n",
    "\n",
    "print(\"\\nSolution:\")\n",
    "for i, val in enumerate(x, 1):\n",
    "    print(f\"x{i} = {val}\")\n",
    "print(\"Solution:\", x)"
   ]
  },
  {
   "cell_type": "markdown",
   "id": "6cee30e5",
   "metadata": {},
   "source": [
    "**Task**\n",
    "Use the example code above to solve Example 3 on p. 87 in Turner: \n",
    "$$\n",
    "\\left[\\begin{array}{rrr}\n",
    "7 & -7 & 1 \\\\\n",
    "-3 & 3 & 2 \\\\\n",
    "7 & 7 & -72 \n",
    "\\end{array}\n",
    "\\right]\n",
    "\\left[\\begin{array}{rrr}\n",
    "x \\\\\n",
    "y\\\\\n",
    "z\n",
    "\\end{array}\n",
    "\\right]\n",
    "= \n",
    "\\left[\\begin{array}{rrr}\n",
    "1\\\\\n",
    "2\\\\\n",
    "7\n",
    "\\end{array}\n",
    "\\right]\n",
    "$$"
   ]
  },
  {
   "cell_type": "code",
   "execution_count": null,
   "id": "18661ac1",
   "metadata": {},
   "outputs": [],
   "source": []
  },
  {
   "cell_type": "markdown",
   "id": "f951622f",
   "metadata": {},
   "source": [
    "### Hilbert matrices\n",
    "\n",
    "Hilbert matrices are a special class of square matrices with elements given by \n",
    "$$H_{ij} = \\frac{1}{i + j - 1},\n",
    "$$\n",
    " where $i$ and $j$ are the row and column indices, respectively. These matrices are symmetric and positive definite, making them important in numerical analysis and linear algebra. However, Hilbert matrices are also notoriously ill-conditioned, meaning that small changes in input can lead to large errors in solutions when solving linear systems involving them. This property makes Hilbert matrices a classic example for testing the stability and accuracy of numerical algorithms.\n",
    "\n",
    "The $5 \\times 5$ Hilbert matrix:\n",
    "\n",
    "$$\n",
    "H = \\begin{bmatrix}\n",
    "1 & \\frac{1}{2} & \\frac{1}{3} & \\frac{1}{4} & \\frac{1}{5} \\\\\n",
    "\\frac{1}{2} & \\frac{1}{3} & \\frac{1}{4} & \\frac{1}{5} & \\frac{1}{6} \\\\\n",
    "\\frac{1}{3} & \\frac{1}{4} & \\frac{1}{5} & \\frac{1}{6} & \\frac{1}{7} \\\\\n",
    "\\frac{1}{4} & \\frac{1}{5} & \\frac{1}{6} & \\frac{1}{7} & \\frac{1}{8} \\\\\n",
    "\\frac{1}{5} & \\frac{1}{6} & \\frac{1}{7} & \\frac{1}{8} & \\frac{1}{9}\n",
    "\\end{bmatrix}\n",
    "$$\n",
    "\n",
    "Let's do Example 6 on p. 92\n"
   ]
  },
  {
   "cell_type": "code",
   "execution_count": 80,
   "id": "fa8396b4",
   "metadata": {},
   "outputs": [
    {
     "name": "stdout",
     "output_type": "stream",
     "text": [
      "solution with precision 4: [1. 1. 1. 1. 1. 1.] \n",
      "solution with precision 15: [0.999999999999228 1.000000000021937 0.999999999851792 1.00000000038537\n",
      " 0.999999999574584 1.00000000016768 ] \n"
     ]
    }
   ],
   "source": [
    "from scipy.linalg import hilbert\n",
    "import numpy as np\n",
    "H=hilbert(6)\n",
    "rsH = np.sum(H, axis=1)\n",
    "x = gauss_elimination(H, rsH, verbatim=False)\n",
    "prec=4\n",
    "np.set_printoptions(precision=prec)\n",
    "print(f\"solution with precision {prec}: {x} \")\n",
    "prec=15\n",
    "np.set_printoptions(precision=prec)\n",
    "print(f\"solution with precision {prec}: {x} \")"
   ]
  },
  {
   "cell_type": "markdown",
   "id": "2f04c290",
   "metadata": {},
   "source": [
    "**Task**\n",
    "\n",
    "Do this with a 10x10 Hilbert matrix. Do you get the same result as in the book?"
   ]
  },
  {
   "cell_type": "markdown",
   "id": "185dd849",
   "metadata": {},
   "source": [
    "### Testing the Gauss elimination routine\n"
   ]
  },
  {
   "cell_type": "code",
   "execution_count": 74,
   "id": "fbf6581e",
   "metadata": {},
   "outputs": [
    {
     "name": "stdout",
     "output_type": "stream",
     "text": [
      "Max error for each system size:\n",
      "n=4: 2.52e-14, mean=2.01e-15, #larger than 1.e-14: 5\n",
      "n=5: 1.14e-13, mean=6.26e-15, #larger than 1.e-14: 12\n",
      "n=6: 1.00e-12, mean=1.84e-14, #larger than 1.e-14: 17\n",
      "n=7: 5.96e-13, mean=3.13e-14, #larger than 1.e-14: 31\n",
      "n=8: 6.62e-13, mean=2.85e-14, #larger than 1.e-14: 36\n",
      "n=9: 4.57e-12, mean=1.21e-13, #larger than 1.e-14: 45\n",
      "n=10: 7.13e-13, mean=4.34e-14, #larger than 1.e-14: 57\n"
     ]
    }
   ],
   "source": [
    "np.random.seed(42) # For reproducibility\n",
    "E = np.zeros((100, 7)) # Error matrix\n",
    "for n in range(4, 11): # Iterate over different system sizes\n",
    "    for k in range(100):\n",
    "        A = np.random.uniform(-5, 5, size=(n, n)) # Random n x n matrix\n",
    "        b = np.sum(A, axis=1) # Right-hand side vector\n",
    "        x = gauss_elimination(A, b,verbatim=False) # Solve system\n",
    "        E[k, n-4] = np.max(np.abs(x - 1)) # Error calculation\n",
    "\n",
    "print(f\"Max error for each system size:\")\n",
    "for n in range(7):\n",
    "    print(f\"n={n+4}: {np.max(E[:, n]):.2e}, mean={np.mean(E[:, n]):.2e}, #larger than 1.e-14: {np.sum(E[:, n] > 1.e-14)}\")"
   ]
  },
  {
   "cell_type": "markdown",
   "id": "0c021dcc",
   "metadata": {},
   "source": [
    "## Tri-diagonal matrices\n",
    "Tri-diagonal matrices are a special type of sparse matrix where nonzero elements appear only on the main diagonal, the diagonal above it, and the diagonal below it. In other words, all other entries are zero. These matrices commonly arise in the discretization of differential equations, especially in finite difference methods for solving boundary value problems. Their structure allows for highly efficient algorithms, such as the Thomas algorithm, to solve linear systems involving tri-diagonal matrices with significantly reduced computational effort compared to general dense matrices.\n",
    "The one-dimensional heat equation describes how heat diffuses through a rod over time and is given by:\n",
    "$$\n",
    "\\frac{\\partial u}{\\partial t} = \\alpha \\frac{\\partial^2 u}{\\partial x^2} + f(x,t)\n",
    "$$\n",
    "where $u(x, t)$ is the temperature at position $x$ and time $t$, and $\\alpha$ is the thermal diffusivity.\n",
    "\n",
    "### Implicit Scheme (Backward Euler)\n",
    "\n",
    "For numerical solutions, we discretize both space and time. Let $u_j^n$ denote the temperature at position $x_j$ and time $t_n$. The implicit (backward Euler) scheme for the heat equation is:\n",
    "$$\n",
    "\\frac{u_j^{n+1} - u_j^n}{\\Delta t} = \\alpha \\frac{u_{j+1}^{n+1} - 2u_j^{n+1} + u_{j-1}^{n+1}}{(\\Delta x)^2} + f_j^{n+1}\n",
    "$$\n",
    "This leads to a linear system for $u^{n+1}$ at each time step, which can be written as a tri-diagonal matrix equation:\n",
    "$$\n",
    "A \\mathbf{u}^{n+1} = \\mathbf{u}^n + \\mathbf{f}^n\n",
    "$$\n",
    "where $A$ is a tri-diagonal matrix with main diagonal $1 + 2r$, and off-diagonals $-r$, with $r = \\alpha \\Delta t / (\\Delta x)^2$.\n",
    "\n",
    "The tri-diagonal structure of $A$ allows efficient solution using specialized algorithms.\n",
    "\n",
    "**Applications:**  \n",
    "Implicit methods are unconditionally stable and allow for larger time steps compared to explicit methods, making them suitable for stiff problems and long-time simulations. The tri-diagonal matrix structure arises naturally from the finite difference discretization of the second derivative in space.\n",
    "\n",
    "\n",
    "\n"
   ]
  },
  {
   "cell_type": "markdown",
   "id": "36f2dc6a",
   "metadata": {},
   "source": [
    "# LU factorization\n",
    "\n",
    "LU factorization is a method of decomposing a square matrix $A$ into the product of a lower triangular matrix $L$ and an upper triangular matrix $U$, such that $A = LU$. This technique simplifies the process of solving systems of linear equations, computing determinants, and inverting matrices. LU factorization is widely used in numerical linear algebra due to its efficiency and stability, especially for large systems.\n",
    "\n",
    "LU factorization allows us to efficiently solve multiple systems of linear equations with the same coefficient matrix $A$ but different right-hand sides $b$. Once $A$ is decomposed into $L$ and $U$, we can solve $Ax = b$ by first solving $Ly = b$ (forward substitution) and then $Ux = y$ (back substitution), which is computationally cheaper than performing Gaussian elimination for each new $b$. This is especially useful in applications such as simulations, optimization, and engineering problems where the same system structure is reused with varying inputs."
   ]
  },
  {
   "cell_type": "code",
   "execution_count": 81,
   "id": "4d282d70",
   "metadata": {},
   "outputs": [
    {
     "name": "stdout",
     "output_type": "stream",
     "text": [
      "Matrix A:\n",
      "[[1, 2, 3], [4, 5, 6], [7, 8, 9]]\n",
      "\n",
      "Permutation matrix P:\n",
      "[[0. 1. 0.]\n",
      " [0. 0. 1.]\n",
      " [1. 0. 0.]]\n",
      "\n",
      "Lower triangular matrix L:\n",
      "[[1.                0.                0.               ]\n",
      " [0.142857142857143 1.                0.               ]\n",
      " [0.571428571428571 0.5               1.               ]]\n",
      "\n",
      "Upper triangular matrix U:\n",
      "[[ 7.000000000000000e+00  8.000000000000000e+00  9.000000000000000e+00]\n",
      " [ 0.000000000000000e+00  8.571428571428572e-01  1.714285714285714e+00]\n",
      " [ 0.000000000000000e+00  0.000000000000000e+00 -1.586032892321652e-16]]\n",
      "\n",
      "Check: A == P @ L @ U ?\n",
      "True\n",
      "[[ True  True  True]\n",
      " [ True  True  True]\n",
      " [ True  True  True]]\n",
      "\n",
      "P @ L @ U:\n",
      "[[1. 2. 3.]\n",
      " [4. 5. 6.]\n",
      " [7. 8. 9.]]\n"
     ]
    }
   ],
   "source": [
    "from scipy.linalg import lu\n",
    "A=[[1,2,3],[4,5,6],[7,8,9]]\n",
    "# Perform LU factorization of matrix A\n",
    "P, L, U = lu(A)\n",
    "\n",
    "print(\"Matrix A:\")\n",
    "print(A)\n",
    "print(\"\\nPermutation matrix P:\")\n",
    "print(P)\n",
    "print(\"\\nLower triangular matrix L:\")\n",
    "print(L)\n",
    "print(\"\\nUpper triangular matrix U:\")\n",
    "print(U)\n",
    "\n",
    "# Verify the factorization: P @ A = L @ U\n",
    "print(\"\\nCheck: A == P @ L @ U ?\")\n",
    "print(np.allclose( A, P @L @ U))\n",
    "print( A== P @L @ U)\n",
    "print(\"\\nP @ L @ U:\")\n",
    "print(P @ L @ U)    "
   ]
  },
  {
   "cell_type": "markdown",
   "id": "986cc894",
   "metadata": {},
   "source": [
    "The results above demonstrate the process of solving a system of linear equations $Ax = b$ using Gaussian elimination and LU factorization.\n",
    "\n",
    "- **Matrix $A$** is the coefficient matrix of the system.\n",
    "- **Vector $b$** contains the right-hand side values.\n",
    "- **Gaussian elimination** is used to transform $A$ into an upper triangular form, allowing for back substitution to find the solution vector $x$.\n",
    "- The computed **solution $x = [2, 3, -1]$** satisfies the system $Ax = b$.\n",
    "\n",
    "**LU factorization** decomposes $A$ into:\n",
    "- **$P$:** Permutation matrix (for row swaps during pivoting)\n",
    "- **$L$:** Lower triangular matrix\n",
    "- **$U$:** Upper triangular matrix\n",
    "\n",
    "This factorization enables efficient solutions for multiple right-hand sides and verifies the correctness of the decomposition by checking if $A = PLU$. The values of $L$, $U$, and $P$ shown above correspond to the decomposition of $A$ used in the calculations."
   ]
  },
  {
   "cell_type": "markdown",
   "id": "3e4c8182",
   "metadata": {},
   "source": [
    "**Tasks**\n",
    "Do LU factorization the $A$ matrix in Example 3 on p. 87 in Turner: \n",
    "$$\n",
    "\\left[\\begin{array}{rrr}\n",
    "7 & -7 & 1 \\\\\n",
    "-3 & 3 & 2 \\\\\n",
    "7 & 7 & -72 \n",
    "\\end{array}\n",
    "\\right]\n",
    "\\left[\\begin{array}{rrr}\n",
    "x \\\\\n",
    "y\\\\\n",
    "z\n",
    "\\end{array}\n",
    "\\right]\n",
    "= \n",
    "\\left[\\begin{array}{rrr}\n",
    "1\\\\\n",
    "2\\\\\n",
    "7\n",
    "\\end{array}\n",
    "\\right]\n",
    "$$"
   ]
  },
  {
   "cell_type": "markdown",
   "id": "70b0135e",
   "metadata": {},
   "source": [
    "# Iterative methods. \n",
    "Iterative methods are algorithms used to solve systems of linear equations by generating a sequence of approximations that converge to the exact solution. Unlike direct methods (such as Gaussian elimination), which attempt to solve the system in a finite number of steps, iterative methods start with an initial guess and improve it through repeated updates. \n",
    "\n",
    "We need iterative methods because they are often more efficient and practical for large, sparse, or structured systems where direct methods become computationally expensive or require excessive memory. Iterative techniques, such as the Jacobi and Gauss-Seidel methods, are especially useful in scientific computing, engineering simulations, and when dealing with matrices that arise from discretizing partial differential equations. They can exploit matrix sparsity, are easier to parallelize, and can provide approximate solutions quickly when high precision is not required.\n",
    "\n",
    "### Jacobi Method Equations\n",
    "\n",
    "Given a linear system $A\\mathbf{x} = \\mathbf{b}$, the Jacobi method updates each component of $\\mathbf{x}$ iteratively as follows:\n",
    "\n",
    "$$\n",
    "x_i^{(k+1)} = \\frac{1}{a_{ii}} \\left( b_i - \\sum_{\\substack{j=1 \\\\ j \\neq i}}^{n} a_{ij} x_j^{(k)} \\right), \\quad i = 1, 2, \\ldots, n\n",
    "$$\n",
    "\n",
    "where:\n",
    "- $x_i^{(k+1)}$ is the new value of the $i$-th variable at iteration $k+1$,\n",
    "- $a_{ii}$ is the diagonal element of $A$,\n",
    "- $b_i$ is the $i$-th entry of $\\mathbf{b}$,\n",
    "- $a_{ij}$ are the off-diagonal elements of $A$,\n",
    "- $x_j^{(k)}$ are the values from the previous iteration.\n",
    "\n",
    "All updates for $x_i^{(k+1)}$ use only the values from the previous iteration $k$. This makes the Jacobi method easy to parallelize."
   ]
  },
  {
   "cell_type": "code",
   "execution_count": null,
   "id": "1d2c2cf0",
   "metadata": {},
   "outputs": [],
   "source": [
    "def jacobi (A , b , Nits ) :  # Jacobi method\n",
    "    \"\"\" Performs Function for computing  Nits  iterations \n",
    "    of the Jacobi method for Ax=b \n",
    "    where A  must be square .  \"\"\"\n",
    "    D = np . diag ( A ) # Extract diagonal\n",
    "    n = A . shape [0]\n",
    "    A_D = A - np . diag ( D ) # This is L+U\n",
    "    x = np . zeros ( n ) # Initial guess\n",
    "    s = np . zeros ( ( n , Nits ) ) # Store all iterations\n",
    "    for k in range ( Nits ) :\n",
    "        x = ( b - A_D . dot ( x ) ) / D\n",
    "        s [: , k] = x\n",
    "    return s"
   ]
  },
  {
   "cell_type": "code",
   "execution_count": 87,
   "id": "62b41301",
   "metadata": {},
   "outputs": [
    {
     "name": "stdout",
     "output_type": "stream",
     "text": [
      "('A:\\n'\n",
      " '[[10.374540118847362  0.950714306409916  0.731993941811405\\n'\n",
      " '   0.598658484197037  0.156018640442437]\\n'\n",
      " ' [ 0.155994520336203 10.058083612168199  0.866176145774935\\n'\n",
      " '   0.601115011743209  0.708072577796045]\\n'\n",
      " ' [ 0.020584494295802  0.969909852161994 10.832442640800421\\n'\n",
      " '   0.212339110678276  0.181824967207101]\\n'\n",
      " ' [ 0.183404509853434  0.304242242959538  0.524756431632238\\n'\n",
      " '  10.431945018642116  0.291229140198042]\\n'\n",
      " ' [ 0.611852894722379  0.139493860652042  0.292144648535218\\n'\n",
      " '   0.366361843293692 10.456069984217036]]')\n",
      "('S:\\n'\n",
      " '[[1.234939124523969 0.960501252708292 1.006314776100398 0.998928905459292\\n'\n",
      " '  1.000177120621496 0.999970472290329]\\n'\n",
      " ' [1.231789508374133 0.968387570174682 1.005849470732872 0.999069167939661\\n'\n",
      " '  1.00015773433911  0.999973949080708]\\n'\n",
      " ' [1.127825133283222 0.974086860016365 1.00373496896403  0.999323022686731\\n'\n",
      " '  1.000108267243687 0.999981677216007]\\n'\n",
      " ' [1.12496541367057  0.97891531746649  1.003611961278389 0.999413367380737\\n'\n",
      " '  1.00009897291739  0.999983641346233]\\n'\n",
      " ' [1.134835865610257 0.97520986516599  1.004195856679105 0.999321531388973\\n'\n",
      " '  1.000114564340308 0.999981038350594]]')\n"
     ]
    }
   ],
   "source": [
    "import pprint\n",
    "\n",
    "dim=5\n",
    "np.random.seed(42) # For reproducibility\n",
    "A = 10 * np.eye(dim) # Diagonal matrix\n",
    "A += np.random.rand(dim, dim)\n",
    "b = np.sum(A, axis=1)\n",
    "pprint.pprint(f\"A:\\n{A}\")\n",
    "S = jacobi(A, b, 6)\n",
    "pprint.pprint(f\"S:\\n{S}\")"
   ]
  },
  {
   "cell_type": "code",
   "execution_count": 48,
   "id": "0a3132ea",
   "metadata": {},
   "outputs": [
    {
     "name": "stdout",
     "output_type": "stream",
     "text": [
      "Gauss-Seidel iterations (columns are successive approximations):\n",
      "[[1.23493912 0.97862127 1.00000482 1.00001687 0.99999972 0.99999999]\n",
      " [1.21263638 0.99911791 0.99985267 1.00000337 1.00000009 1.        ]\n",
      " [1.01690199 1.00008771 0.99997511 1.00000018 1.00000002 1.        ]\n",
      " [1.01673493 1.00088972 0.99997115 0.9999995  1.00000003 1.        ]\n",
      " [0.9823568  1.00122915 1.00000339 0.99999898 1.00000001 1.        ]]\n"
     ]
    }
   ],
   "source": [
    "def gauss_seidel(A, b, Nits):\n",
    "    \"\"\"Performs Nits iterations of the Gauss-Seidel method for Ax=b.\"\"\"\n",
    "    n = A.shape[0]\n",
    "    x = np.zeros(n)\n",
    "    s = np.zeros((n, Nits))\n",
    "    for k in range(Nits):\n",
    "        for i in range(n):\n",
    "            sum1 = np.dot(A[i, :i], x[:i])\n",
    "            sum2 = np.dot(A[i, i+1:], x[i+1:])\n",
    "            x[i] = (b[i] - sum1 - sum2) / A[i, i]\n",
    "        s[:, k] = x\n",
    "    return s\n",
    "\n",
    "# Demonstration with the same A and b as before\n",
    "S_gs = gauss_seidel(A, b, 6)\n",
    "print(\"Gauss-Seidel iterations (columns are successive approximations):\")\n",
    "print(S_gs)"
   ]
  },
  {
   "cell_type": "markdown",
   "id": "5bbeba5d",
   "metadata": {},
   "source": [
    "## Eigenvalues"
   ]
  },
  {
   "cell_type": "markdown",
   "id": "058df519",
   "metadata": {},
   "source": [
    "### Gerschgorin discs"
   ]
  },
  {
   "cell_type": "code",
   "execution_count": 49,
   "id": "7dc3aa38",
   "metadata": {},
   "outputs": [
    {
     "ename": "NameError",
     "evalue": "name 'min_real' is not defined",
     "output_type": "error",
     "traceback": [
      "\u001b[0;31m---------------------------------------------------------------------------\u001b[0m",
      "\u001b[0;31mNameError\u001b[0m                                 Traceback (most recent call last)",
      "Cell \u001b[0;32mIn[49], line 26\u001b[0m\n\u001b[1;32m     24\u001b[0m plt\u001b[38;5;241m.\u001b[39mgrid(\u001b[38;5;28;01mTrue\u001b[39;00m)\n\u001b[1;32m     25\u001b[0m plt\u001b[38;5;241m.\u001b[39mlegend([\u001b[38;5;124m'\u001b[39m\u001b[38;5;124mDisc center\u001b[39m\u001b[38;5;124m'\u001b[39m])\n\u001b[0;32m---> 26\u001b[0m ax\u001b[38;5;241m.\u001b[39mset_xlim(\u001b[43mmin_real\u001b[49m \u001b[38;5;241m-\u001b[39m \u001b[38;5;28mmax\u001b[39m(radii), max_real \u001b[38;5;241m+\u001b[39m \u001b[38;5;28mmax\u001b[39m(radii))\n\u001b[1;32m     27\u001b[0m ax\u001b[38;5;241m.\u001b[39mset_ylim(\u001b[38;5;241m-\u001b[39m\u001b[38;5;28mmax\u001b[39m(radii), \u001b[38;5;28mmax\u001b[39m(radii))\n\u001b[1;32m     28\u001b[0m plt\u001b[38;5;241m.\u001b[39mshow()\n",
      "\u001b[0;31mNameError\u001b[0m: name 'min_real' is not defined"
     ]
    },
    {
     "data": {
      "image/png": "[encoded data removed]",
      "text/plain": [
       "<Figure size 640x480 with 1 Axes>"
      ]
     },
     "metadata": {},
     "output_type": "display_data"
    }
   ],
   "source": [
    "import matplotlib.pyplot as plt\n",
    "A = np.array([[3, 0, 1],\n",
    "              [0.5, 4, 0],\n",
    "              [1, 1, 5]], dtype=float)\n",
    "A = np.array([[3, 0, 1,-1],\n",
    "              [0, 6, 0,1],\n",
    "              [1, 0, -1,0],\n",
    "              [-1,1,0,10]], dtype=float)\n",
    "# Compute Gerschgorin discs for matrix A\n",
    "fig, ax = plt.subplots()\n",
    "n = A.shape[0]\n",
    "for i in range(n):\n",
    "    center = A[i, i]\n",
    "    radius = np.sum(np.abs(A[i, :])) - np.abs(center)\n",
    "    circle = plt.Circle((center.real, center.imag), radius, color='b', fill=False, linestyle='--', label='Gerschgorin disc' if i == 0 else \"\")\n",
    "    ax.add_artist(circle)\n",
    "    ax.plot(center.real, center.imag, 'ro')  # Mark the center\n",
    "\n",
    "# Plot settings\n",
    "ax.set_xlabel('Real')\n",
    "ax.set_ylabel('Imaginary')\n",
    "ax.set_title(\"Gerschgorin Discs for Matrix A\")\n",
    "ax.set_aspect('equal', 'box')\n",
    "plt.grid(True)\n",
    "plt.legend(['Disc center'])\n",
    "ax.set_xlim(min_real - max(radii), max_real + max(radii))\n",
    "ax.set_ylim(-max(radii), max(radii))\n",
    "plt.show()"
   ]
  },
  {
   "cell_type": "code",
   "execution_count": null,
   "id": "e40f1540",
   "metadata": {},
   "outputs": [],
   "source": []
  }
 ],
 "metadata": {
  "kernelspec": {
   "display_name": "base",
   "language": "python",
   "name": "python3"
  },
  "language_info": {
   "codemirror_mode": {
    "name": "ipython",
    "version": 3
   },
   "file_extension": ".py",
   "mimetype": "text/x-python",
   "name": "python",
   "nbconvert_exporter": "python",
   "pygments_lexer": "ipython3",
   "version": "3.10.13"
  }
 },
 "nbformat": 4,
 "nbformat_minor": 5
}
