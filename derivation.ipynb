{
 "cells": [
  {
   "cell_type": "markdown",
   "id": "5f003208",
   "metadata": {},
   "source": [
    "# Numerical differentiation."
   ]
  },
  {
   "cell_type": "markdown",
   "id": "1ab0f818",
   "metadata": {},
   "source": [
    "Remember that \n",
    "\n",
    "$$\n",
    "f'(x)=\\lim_{h\\rightarrow 0} \\frac{f(x+h)- f(x)}{h}\n",
    "$$\n",
    "\n",
    "what if we avoid to let $h\\rightarrow 0$, but use a very small number? We can write:\n",
    "\n",
    "$$\n",
    "f'(x) \\sim \\frac{f(x+h)- f(x)}{h}.\n",
    "$$\n",
    "\n"
   ]
  },
  {
   "cell_type": "code",
   "execution_count": 3,
   "id": "9eb50a95",
   "metadata": {},
   "outputs": [
    {
     "data": {
      "image/png": "[encoded data removed]",
      "text/plain": [
       "<Figure size 800x100 with 1 Axes>"
      ]
     },
     "metadata": {},
     "output_type": "display_data"
    }
   ],
   "source": [
    "import numpy as np\n",
    "import matplotlib.pyplot as plt\n",
    "\n",
    "# Define the interval and number of partitions\n",
    "a, b = 0, 1\n",
    "n = 5\n",
    "x = np.linspace(a, b, n)\n",
    "\n",
    "# Plot the real line and partitions\n",
    "plt.figure(figsize=(8, 1))\n",
    "plt.hlines(0, a, b, colors='black')\n",
    "plt.plot(x, np.zeros_like(x), 'o', color='red')\n",
    "for xi in x:\n",
    "    plt.vlines(xi, -0.05, 0.05, colors='blue')\n",
    "plt.yticks([])\n",
    "plt.xlabel('x')\n",
    "plt.title('Partition of the real line into equal intervals')\n",
    "plt.show()"
   ]
  },
  {
   "cell_type": "markdown",
   "id": "c99271a6",
   "metadata": {},
   "source": [
    "We have used Python’s numpy library *np.linspace()* function, that partitions an interval in exactly the way that we want. The command takes the form *np.linspace(a, b, n)* where the interval is $[a,b]$ and $n$ the number of points used to create the partition. For example, *np.linspace(0,1,5)* will produce the list of numbers 0, 0.25, 0.5, 0.75, 1. Notice that there are 5 total points, the first point is $0$, the last point is $1$, and there are $4$ total sub intervals in the partition. Hence, if we want to partition the interval  into 20 equal sub intervals then we would use the command np.linspace(0,1,21) which would result in a list of numbers starting with 0, 0.05, 0.1, 0.15, etc. \n",
    "\n",
    "What command would you use to partition the interval $[5,10]$ into 100 equal sub intervals?"
   ]
  },
  {
   "cell_type": "markdown",
   "id": "961e8154",
   "metadata": {},
   "source": [
    "Here we have used the numpy function *linspace*. \n",
    "\n",
    "\n",
    "*Exercise:* Use different  "
   ]
  }
 ],
 "metadata": {
  "kernelspec": {
   "display_name": "base",
   "language": "python",
   "name": "python3"
  },
  "language_info": {
   "codemirror_mode": {
    "name": "ipython",
    "version": 3
   },
   "file_extension": ".py",
   "mimetype": "text/x-python",
   "name": "python",
   "nbconvert_exporter": "python",
   "pygments_lexer": "ipython3",
   "version": "3.10.13"
  }
 },
 "nbformat": 4,
 "nbformat_minor": 5
}
