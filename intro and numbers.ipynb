{
 "cells": [
  {
   "cell_type": "markdown",
   "id": "d2ab4e7f",
   "metadata": {},
   "source": [
    "# Introduction and numerical representation. "
   ]
  },
  {
   "cell_type": "markdown",
   "id": "19806521",
   "metadata": {},
   "source": [
    "Much of the following is based on this: \n",
    "\n",
    "https://pythonnumericalmethods.studentorg.berkeley.edu/notebooks/chapter09.01-BaseN-and-Binary.html\n",
    "\n",
    "Lets' load some libraries:"
   ]
  },
  {
   "cell_type": "code",
   "execution_count": 2,
   "id": "bd7da95c",
   "metadata": {},
   "outputs": [],
   "source": [
    "import numpy as np \n",
    "import scipy as sp  \n",
    "import matplotlib.pyplot as plt\n",
    "import sys"
   ]
  },
  {
   "cell_type": "markdown",
   "id": "706bfa03",
   "metadata": {},
   "source": [
    "## Machine accuracy"
   ]
  },
  {
   "cell_type": "code",
   "execution_count": 3,
   "id": "328357e6",
   "metadata": {},
   "outputs": [
    {
     "data": {
      "text/plain": [
       "sys.float_info(max=1.7976931348623157e+308, max_exp=1024, max_10_exp=308, min=2.2250738585072014e-308, min_exp=-1021, min_10_exp=-307, dig=15, mant_dig=53, epsilon=2.220446049250313e-16, radix=2, rounds=1)"
      ]
     },
     "execution_count": 3,
     "metadata": {},
     "output_type": "execute_result"
    }
   ],
   "source": [
    "\n",
    "sys.float_info\n"
   ]
  },
  {
   "cell_type": "markdown",
   "id": "f47b13d4",
   "metadata": {},
   "source": [
    "`sys.float_info` provides detailed information about the properties of floating point numbers (type `float`) on your system, according to the IEEE 754 double-precision standard (which is what Python uses for `float`). Here’s what the main fields mean:\n",
    "\n",
    "- **max**: Largest representable positive float (`1.7976931348623157e+308`)\n",
    "- **min**: Smallest positive normalized float (`2.2250738585072014e-308`)\n",
    "- **epsilon**: The difference between 1 and the next representable float (`2.220446049250313e-16`). This is the machine precision.\n",
    "- **dig**: Number of decimal digits of precision (15)\n",
    "- **mant_dig**: Number of bits in the mantissa (53)\n",
    "- **max_exp**: Maximum exponent for base 2 (1024)\n",
    "- **min_exp**: Minimum exponent for base 2 (-1021)\n",
    "- **max_10_exp**: Maximum exponent for base 10 (308)\n",
    "- **min_10_exp**: Minimum exponent for base 10 (-307)\n",
    "- **radix**: Base of the exponent (2, since binary)\n",
    "- **rounds**: Rounding mode (1 means round to nearest)\n",
    "\n",
    "In summary, this tells you the range, precision, and behavior of floating point numbers in Python on your system."
   ]
  },
  {
   "cell_type": "markdown",
   "id": "acf43d3e",
   "metadata": {},
   "source": [
    "The **mantissa** (also called the significand) and the **exponent base** are key components of floating-point numbers, which are used to represent real numbers in computers.\n",
    "\n",
    "- **Mantissa (Significand):**  \n",
    "    This is the part of a floating-point number that contains its significant digits. For example, in scientific notation, the number 6.022 × 10²³ has a mantissa of 6.022.\n",
    "\n",
    "- **Exponent Base:**  \n",
    "    This is the base used for the exponent part of the number. In most computer systems (following the IEEE 754 standard), the base is 2 (binary). So, a floating-point number is represented as:  \n",
    "    **number = mantissa × (base)^(exponent)**  \n",
    "    For example, 1.5 × 2³ = 12.\n",
    "\n",
    "In summary, the mantissa determines the precision of the number, while the exponent (with its base) determines the scale or magnitude. In Python, the base is always 2 for floating-point numbers."
   ]
  },
  {
   "cell_type": "code",
   "execution_count": 4,
   "id": "819e83bb",
   "metadata": {},
   "outputs": [
    {
     "data": {
      "text/plain": [
       "sys.int_info(bits_per_digit=30, sizeof_digit=4, default_max_str_digits=4300, str_digits_check_threshold=640)"
      ]
     },
     "execution_count": 4,
     "metadata": {},
     "output_type": "execute_result"
    }
   ],
   "source": [
    "sys.int_info "
   ]
  },
  {
   "cell_type": "markdown",
   "id": "b586b3b2",
   "metadata": {},
   "source": [
    "`sys.int_info` provides information about how Python represents arbitrary-precision integers (`int`) internally. Here’s what the fields mean:\n",
    "\n",
    "- **bits_per_digit**: Number of bits used for each internal \"digit\" in Python's representation of large integers (30 bits per digit).\n",
    "- **sizeof_digit**: Size in bytes of each internal digit (4 bytes).\n",
    "- **default_max_str_digits**: Maximum number of digits allowed when converting an integer to a string (default is 4300). This is a security feature to prevent denial-of-service attacks from extremely large integers.\n",
    "- **str_digits_check_threshold**: The threshold above which Python checks the number of digits when converting an integer to a string (640).\n",
    "\n",
    "In summary, these settings control how efficiently and safely Python can handle very large integers."
   ]
  },
  {
   "cell_type": "markdown",
   "id": "1421a4e3",
   "metadata": {},
   "source": [
    "### The numpy library"
   ]
  },
  {
   "cell_type": "code",
   "execution_count": 5,
   "id": "6895cbda",
   "metadata": {},
   "outputs": [
    {
     "data": {
      "text/plain": [
       "np.float64(1.1920928955078125e-07)"
      ]
     },
     "execution_count": 5,
     "metadata": {},
     "output_type": "execute_result"
    }
   ],
   "source": [
    "import numpy as np\n",
    "np.spacing(1e9)"
   ]
  },
  {
   "cell_type": "markdown",
   "id": "7962d8b0",
   "metadata": {},
   "source": [
    "`np.spacing(1e9)` returns the smallest possible difference between two distinct floating point numbers around the value `1e9` (one billion), using NumPy's float64 precision.\n",
    "\n",
    "The result, `1.1920928955078125e-07`, is the distance between `1e9` and the next larger representable float. This value is also known as the **machine epsilon** at that scale. It shows the precision limit of floating point arithmetic near `1e9`: any two numbers closer than this cannot be distinguished by a float64 variable.\n",
    "\n",
    "Try with other values. "
   ]
  },
  {
   "cell_type": "code",
   "execution_count": 6,
   "id": "b8eb81eb",
   "metadata": {},
   "outputs": [
    {
     "data": {
      "text/plain": [
       "np.float64(2.220446049250313e-16)"
      ]
     },
     "execution_count": 6,
     "metadata": {},
     "output_type": "execute_result"
    }
   ],
   "source": [
    "np.spacing(1)"
   ]
  },
  {
   "cell_type": "code",
   "execution_count": 7,
   "id": "f0849af3",
   "metadata": {},
   "outputs": [
    {
     "name": "stdout",
     "output_type": "stream",
     "text": [
      "The variable x has the value 7  and has type <class 'int'> . \n",
      "\n",
      "The variable y has the value 7.0  and has type <class 'float'> . \n",
      "\n"
     ]
    }
   ],
   "source": [
    "# assign some variables\n",
    "x = 7 # integer assignment of the integer 7\n",
    "y = 7.0 # floating point assignment of the decimal number 7.0\n",
    "print(\"The variable x has the value\", x, \" and has type\", type(x), \". \\n\")\n",
    "print(\"The variable y has the value\", y, \" and has type\", type(y), \". \\n\")"
   ]
  },
  {
   "cell_type": "code",
   "execution_count": 8,
   "id": "219a222e",
   "metadata": {},
   "outputs": [
    {
     "name": "stdout",
     "output_type": "stream",
     "text": [
      "Multiplying x by 1.0 gives 7.0\n",
      "The type of this value is <class 'float'> . \n",
      "\n"
     ]
    }
   ],
   "source": [
    "# multiplying by a float will convert an integer to a float\n",
    "x = 7 # integer assignment of the integer 7\n",
    "print(\"Multiplying x by 1.0 gives\", 1.0*x)\n",
    "print(\"The type of this value is\", type(1.0*x), \". \\n\")"
   ]
  },
  {
   "cell_type": "markdown",
   "id": "bdfbe8ca",
   "metadata": {},
   "source": [
    "**Exercise** Write code to define positive integers  and  of your own choosing. Then calculate  and . When you have all three values computed, check to see if your three values form a Pythagorean Triple so that . Have Python simply say True or False to verify that you do, or do not, have a Pythagorean Triple defined. Hint: You will need to use the == Boolean check just like in other programming languages."
   ]
  },
  {
   "cell_type": "code",
   "execution_count": 4,
   "id": "01b58bfb",
   "metadata": {},
   "outputs": [
    {
     "name": "stdout",
     "output_type": "stream",
     "text": [
      "True\n"
     ]
    }
   ],
   "source": [
    "# Define positive integers a and b\n",
    "a = 3\n",
    "b = 4\n",
    "\n",
    "# Calculate c\n",
    "c = (a**2 + b**2)**0.5\n",
    "\n",
    "# Check if (a, b, c) form a Pythagorean Triple\n",
    "is_pythagorean_triple = a**2 + b**2 == c**2\n",
    "print(is_pythagorean_triple)"
   ]
  },
  {
   "cell_type": "code",
   "execution_count": 11,
   "id": "f34b0080",
   "metadata": {},
   "outputs": [
    {
     "name": "stdout",
     "output_type": "stream",
     "text": [
      "Sum using running total: 25502500\n",
      "Time for running total: 4.506111145019531e-05 seconds\n",
      "Sum using sum() on list: 25502500\n",
      "Time for sum() on list: 5.0067901611328125e-05 seconds\n",
      "time difference: 0.00012993812561035156 seconds\n",
      "time difference in percent: 288.35978835978835 %\n"
     ]
    }
   ],
   "source": [
    "import time\n",
    "\n",
    "# Method 1: Running total using a for loop\n",
    "Total = 0\n",
    "\n",
    "start1 = time.time()\n",
    "for i in range(1, 101):\n",
    "    Total += i**3\n",
    "end1 = time.time()\n",
    "print(\"Sum using running total:\", Total)\n",
    "print(\"Time for running total:\", end1 - start1, \"seconds\")\n",
    "\n",
    "    # Method 2: Build a list of perfect cubes and sum with sum()\n",
    "cubes = []\n",
    "start2 = time.time()\n",
    "for i in range(1, 101):\n",
    "    cubes.append(i**3)\n",
    "sum_cubes = sum(cubes)\n",
    "end2 = time.time()\n",
    "print(\"Sum using sum() on list:\", sum_cubes)\n",
    "print(\"Time for sum() on list:\", end2 - start2, \"seconds\")\n",
    "print(\"time difference:\", (end2 - start1)-(end1 - start1), \"seconds\")\n",
    "print(\"time difference in percent:\", ((end2 - start1)-(end1 - start1)) / (end1 - start1) * 100, \"%\")\n"
   ]
  },
  {
   "cell_type": "code",
   "execution_count": 13,
   "id": "2dd3c683",
   "metadata": {},
   "outputs": [
    {
     "name": "stdout",
     "output_type": "stream",
     "text": [
      "[2, 4, 8, 16, 32, 64, 128, 256, 512, 1024, 2048, 4096, 8192, 16384, 32768, 65536, 131072, 262144, 524288, 1048576]\n"
     ]
    }
   ],
   "source": [
    "# Pre-allocate a list of size 20 for the sequence\n",
    "sequence = [0] * 20\n",
    "\n",
    "# Build the sequence: a_n = 2^n for n = 1 to 20\n",
    "for n in range(1, 21):\n",
    "    sequence[n-1] = 2**n\n",
    "\n",
    "# Print the list after all computations\n",
    "print(sequence)"
   ]
  },
  {
   "cell_type": "code",
   "execution_count": 15,
   "id": "e6704f1d",
   "metadata": {},
   "outputs": [
    {
     "name": "stdout",
     "output_type": "stream",
     "text": [
      "0.25\n",
      "0.5\n",
      "1.0\n",
      "1.0\n",
      "1.0\n",
      "1.0\n",
      "1.0\n",
      "1.0\n",
      "1.0\n",
      "1.0\n",
      "1.0\n",
      "1.0\n",
      "1.0\n",
      "1.0\n",
      "1.0\n",
      "1.0\n",
      "1.0\n",
      "1.0\n",
      "1.0\n",
      "1.0\n",
      "1.0\n",
      "1.0\n",
      "1.0\n",
      "1.0\n",
      "1.0\n",
      "1.0\n",
      "1.0\n",
      "1.0\n",
      "1.0\n",
      "1.0\n",
      "1.0\n",
      "1.0\n",
      "1.0\n",
      "1.0\n",
      "1.0\n",
      "1.0\n",
      "1.0\n",
      "1.0\n",
      "1.0\n",
      "1.0\n",
      "1.0\n",
      "1.0\n",
      "1.0\n",
      "1.0\n",
      "1.0\n",
      "1.0\n",
      "1.0\n",
      "1.0\n",
      "1.0\n",
      "1.0\n"
     ]
    }
   ],
   "source": [
    "x = 1.0/8\n",
    "for n in range(50):\n",
    "    if x<= 0.5:\n",
    "        x=2*x# put the correct assignment here\n",
    "    else:\n",
    "        x=2*x-1# put the correct assigment here\n",
    "    print(x)"
   ]
  },
  {
   "cell_type": "code",
   "execution_count": 19,
   "id": "b052b51b",
   "metadata": {},
   "outputs": [
    {
     "name": "stdout",
     "output_type": "stream",
     "text": [
      "Binary (approx, 10 bits): 0.1000010000000\n"
     ]
    }
   ],
   "source": [
    "fraction = 4.125\n",
    "binary_representation = format(int(fraction * 2**10), '010b')\n",
    "print(\"Binary (approx, 10 bits): 0.\" + binary_representation)"
   ]
  },
  {
   "cell_type": "code",
   "execution_count": 23,
   "id": "45673f14",
   "metadata": {},
   "outputs": [
    {
     "data": {
      "text/plain": [
       "0.12345695495605469"
      ]
     },
     "execution_count": 23,
     "metadata": {},
     "output_type": "execute_result"
    }
   ],
   "source": [
    "10**10  + 0.123456789 - 10**10 "
   ]
  },
  {
   "cell_type": "code",
   "execution_count": 27,
   "id": "2e951a25",
   "metadata": {},
   "outputs": [
    {
     "name": "stdout",
     "output_type": "stream",
     "text": [
      "n = 1  1/n= 1.0  x_10 = 1.0  x_29 = 1.0\n",
      "n = 2  1/n= 0.5  x_10 = 0.5  x_29 = 0.5\n",
      "n = 3  1/n= 0.3333333333333333  x_10 = 0.3333333333139308  x_29 = -5592405.0\n",
      "n = 4  1/n= 0.25  x_10 = 0.25  x_29 = 0.25\n",
      "n = 5  1/n= 0.2  x_10 = 0.20000000179015842  x_29 = 65959556527001.77\n",
      "n = 6  1/n= 0.16666666666666666  x_10 = 0.16666666069313285  x_29 = -1.9234215915856572e+16\n",
      "n = 7  1/n= 0.14285714285714285  x_10 = 0.1428571343421936  x_29 = -1.3176245766935393e+18\n",
      "n = 8  1/n= 0.125  x_10 = 0.125  x_29 = 0.125\n",
      "n = 9  1/n= 0.1111111111111111  x_10 = 0.11111116045435665  x_29 = 4.934324553889585e+21\n",
      "n = 10  1/n= 0.1  x_10 = 0.10000020942782539  x_29 = 3.322173065069967e+23\n"
     ]
    }
   ],
   "source": [
    "a = [ ] \n",
    "for n in range (1 ,11) : \n",
    "    x = 1/n \n",
    "    for k in range (10) : \n",
    "        x = (n + 1) * x - 1 \n",
    "    x_10= x\n",
    "    for k in range (29) :\n",
    "        x = (n + 1) * x - 1\n",
    "    x_29= x\n",
    "    print(\"n =\", n, \" 1/n=\", 1/n, \" x_10 =\", x_10, \" x_29 =\", x_29)"
   ]
  },
  {
   "cell_type": "code",
   "execution_count": 33,
   "id": "6763b3ce",
   "metadata": {},
   "outputs": [],
   "source": [
    "import numpy as np\n",
    "import matplotlib.pyplot as plt\n",
    "import seaborn as sns\n",
    "sns.set_context('poster')\n",
    "%matplotlib inline"
   ]
  },
  {
   "cell_type": "code",
   "execution_count": 34,
   "id": "cc7c1d68",
   "metadata": {},
   "outputs": [
    {
     "data": {
      "image/png": "[encoded data removed]",
      "text/plain": [
       "<Figure size 1200x800 with 1 Axes>"
      ]
     },
     "metadata": {},
     "output_type": "display_data"
    },
    {
     "name": "stdout",
     "output_type": "stream",
     "text": [
      "0.049984407218554114\n"
     ]
    }
   ],
   "source": [
    "# step size\n",
    "h = 0.1\n",
    "# define grid\n",
    "x = np.arange(0, 2*np.pi, h) \n",
    "# compute function\n",
    "y = np.cos(x) \n",
    "\n",
    "# compute vector of forward differences\n",
    "forward_diff = np.diff(y)/h \n",
    "# compute corresponding grid\n",
    "x_diff = x[:-1:] \n",
    "# compute exact solution\n",
    "exact_solution = -np.sin(x_diff) \n",
    "\n",
    "# Plot solution\n",
    "plt.figure(figsize = (12, 8))\n",
    "plt.plot(x_diff, forward_diff, '--', \\\n",
    "         label = 'Finite difference approximation')\n",
    "plt.plot(x_diff, exact_solution, \\\n",
    "         label = 'Exact solution')\n",
    "plt.legend()\n",
    "plt.show()\n",
    "\n",
    "# Compute max error between \n",
    "# numerical derivative and exact solution\n",
    "max_error = max(abs(exact_solution - forward_diff))\n",
    "print(max_error)"
   ]
  },
  {
   "cell_type": "markdown",
   "id": "418f2ae0",
   "metadata": {},
   "source": [
    "## Computational Complexity of Operations\n",
    "\n",
    "Computational complexity describes how the time (or number of steps) required to perform an operation grows as the size of the input increases. Here are some common complexities:\n",
    "\n",
    "- **O(1): Constant time** — The operation takes the same amount of time regardless of input size. Example: accessing an element in a list by index.\n",
    "- **O(n): Linear time** — The time grows linearly with input size. Example: summing all elements in a list.\n",
    "- **O(n²): Quadratic time** — The time grows with the square of the input size. Example: nested loops over a list.\n",
    "\n",
    "Let's demonstrate this with a numerical example by timing three operations: accessing an element, summing a list, and a nested loop.\n"
   ]
  },
  {
   "cell_type": "code",
   "execution_count": 11,
   "id": "90fe26c6",
   "metadata": {},
   "outputs": [
    {
     "name": "stdout",
     "output_type": "stream",
     "text": [
      "O(log n) binary search time: 3.504753112792969e-05 seconds\n",
      "O(1) access time: 3.2901763916015625e-05 seconds\n",
      "O(n) sum time: 0.0068721771240234375 seconds\n",
      "O(log n) binary search time: 2.9325485229492188e-05 seconds\n",
      "O(n^2) nested loop time: 0.0743868350982666 seconds\n"
     ]
    }
   ],
   "source": [
    "\n",
    "import time\n",
    "import numpy as np\n",
    "import bisect\n",
    "import time\n",
    "\n",
    "n = 10**6\n",
    "lst = list(range(n))\n",
    "\n",
    "# O(log n): Binary search for an element\n",
    "target = n - 1\n",
    "start = time.time()\n",
    "index = bisect.bisect_left(lst, target)\n",
    "end = time.time()\n",
    "print(\"O(log n) binary search time:\", end - start, \"seconds\")\n",
    "\n",
    "n = 10**6\n",
    "lst = list(range(n))\n",
    "\n",
    "# O(1): Accessing an element\n",
    "start = time.time()\n",
    "x = lst[n//2]\n",
    "end = time.time()\n",
    "print(\"O(1) access time:\", end - start, \"seconds\")\n",
    "\n",
    "# O(n): Summing all elements\n",
    "start = time.time()\n",
    "total = sum(lst)\n",
    "end = time.time()\n",
    "print(\"O(n) sum time:\", end - start, \"seconds\")\n",
    "\n",
    "# O(log n): Binary search for an element\n",
    "target = n - 1\n",
    "start = time.time()\n",
    "index = bisect.bisect_left(lst, target)\n",
    "end = time.time()\n",
    "print(\"O(log n) binary search time:\", end - start, \"seconds\")\n",
    "\n",
    "# O(n^2): Nested loop (warning: can be slow for large n)\n",
    "n_small = 1000  # Use a smaller n for quadratic example\n",
    "lst_small = list(range(n_small))\n",
    "start = time.time()\n",
    "count = 0\n",
    "for i in lst_small:\n",
    "    for j in lst_small:\n",
    "        count += i * j\n",
    "end = time.time()\n",
    "print(\"O(n^2) nested loop time:\", end - start, \"seconds\")"
   ]
  },
  {
   "cell_type": "markdown",
   "id": "f229e090",
   "metadata": {},
   "source": [
    "## Theory: Why These Examples Have Their Complexity\n",
    "\n",
    "- **O(1): Constant Time**  \n",
    "  Accessing an element in a list by its index (e.g., `lst[n//2]`) is a constant-time operation. No matter how large the list is, Python can directly retrieve the value at any index without scanning the list. This is because lists are implemented as arrays in memory.\n",
    "\n",
    "- **O(n): Linear Time**  \n",
    "  Summing all elements in a list (e.g., `sum(lst)`) requires visiting each element exactly once. As the list grows, the time taken grows proportionally. If you double the size of the list, the time to sum it roughly doubles.\n",
    "\n",
    "- **O(n²): Quadratic Time**  \n",
    "  A nested loop over a list (e.g., `for i in lst: for j in lst: ...`) means that for every element in the outer loop, you iterate over every element in the inner loop. If the list has `n` elements, you perform `n * n = n²` operations. This means the time increases very rapidly as the list size increases.\n",
    "\n",
    "These examples illustrate how the structure of your code determines how well it will scale to large inputs."
   ]
  }
 ],
 "metadata": {
  "kernelspec": {
   "display_name": "base",
   "language": "python",
   "name": "python3"
  },
  "language_info": {
   "codemirror_mode": {
    "name": "ipython",
    "version": 3
   },
   "file_extension": ".py",
   "mimetype": "text/x-python",
   "name": "python",
   "nbconvert_exporter": "python",
   "pygments_lexer": "ipython3",
   "version": "3.10.13"
  }
 },
 "nbformat": 4,
 "nbformat_minor": 5
}
