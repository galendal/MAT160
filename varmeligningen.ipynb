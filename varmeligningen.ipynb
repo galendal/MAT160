{
 "cells": [
  {
   "cell_type": "markdown",
   "id": "741c7d3b",
   "metadata": {},
   "source": [
    "# 1D Heat Equation\n",
    "\n",
    "\n",
    "The one-dimensional heat equation describes the evolution of temperature $u(x, t)$ in a rod of length $L$ over time $t$:\n",
    "\n",
    "$$\n",
    "\\frac{\\partial u}{\\partial t} = \\alpha \\frac{\\partial^2 u}{\\partial x^2} + S(x, t)\n",
    "$$\n",
    "with boundary conditions:\n",
    "$$\n",
    "u(0, t) = u_0, \\quad u(L, t) = u_1\n",
    "$$\n",
    "and initial condition:\n",
    "$$\n",
    "u(x, 0) = v(x)\n",
    "$$\n",
    "where:\n",
    "- $ u(x, t) $: Temperature at position $ x $ and time $ t $ (units: $ \\mathrm{K} $ or $ \\mathrm{^\\circ C} $)\n",
    "- $ \\alpha $: Thermal diffusivity (units: $ \\mathrm{m}^2/\\mathrm{s} $)\n",
    "- $ x $: Spatial coordinate ($ 0 \\leq x \\leq L $) (units: $ \\mathrm{m} $)\n",
    "- $ t $: Time (units: $ \\mathrm{s} $)\n",
    "- $ S(x, t) $: Source term (units: $ \\mathrm{K/s} $ or $ \\mathrm{^\\circ C/s} $)\n"
   ]
  },
  {
   "cell_type": "markdown",
   "id": "1f4b5d4d",
   "metadata": {},
   "source": [
    "### Task 1: Non-Dimensionalization\n",
    "\n",
    "To simplify the equation and reduce the number of parameters, introduce dimensionless variables:\n",
    "\n",
    "- Dimensionless position: $ X = \\frac{x}{L} $\n",
    "- Dimensionless time: $ \\tau = \\frac{\\alpha t}{L^2} $\n",
    "- Dimensionless temperature: $ U(X, \\tau) = \\frac{u(x, t) - u_0}{u_1 - u_0} $ (where $u_0$ and $u_1$ are the boundary conditions. For the moment assumed constant).\n",
    "\n",
    "Show that by substituting this into the original equation we get:\n",
    "\n",
    "$$\n",
    "\\frac{\\partial U}{\\partial \\tau} = \\frac{\\partial^2 U}{\\partial X^2} + \\mathcal{S}(X, \\tau)\n",
    "$$\n",
    "with boundary conditions:\n",
    "$$\n",
    "U(0, \\tau) = 0, \\quad U(1, \\tau) = 1,\n",
    "$$\n",
    "and initial condition:\n",
    "$$\n",
    "U(X, 0) = \\frac{v(X)-u_0}{u_1-u_0},\n",
    "$$\n",
    "and the dimensionless source term\n",
    "$$\n",
    "\\mathcal{S}(X, \\tau) = \\frac{L^2}{\\alpha } S(x, t).\n",
    "$$\n",
    "\n",
    "\n",
    "This non-dimensional form is universal and independent of the specific values of $ L $ and $ \\alpha $, making analysis and numerical simulation more general."
   ]
  },
  {
   "cell_type": "markdown",
   "id": "a78f936b",
   "metadata": {},
   "source": [
    "### Task 2. Discretization. \n",
    "Assume that the source term $\\mathcal{S}(X, \\tau)=0$. Divide the length of the non-dimensional rod, $\\overline{L}=1$, into an equidistant grid with $nx$ points and intervals $\\Delta X$. In this task, assume initial condition $U(X,0)=\\delta(X-1)$.\n",
    "\n",
    "**a)** *Pen and paper:* Write down the forward difference for the time derivative with a time step of $\\Delta \\tau$. \n",
    "\n",
    "**b)** *Pen and paper:* Write down the discrete form of the second derivative wrt $X$. \n",
    "\n",
    "**c)** *Pen and paper:* Find a recursion equation for updating each grid point when stepping in time. Use the notation $U_i^n$ to show the temperature in grid point $i$ at time step $n$. Write this equation at the right place in the cell below. \n",
    "\n"
   ]
  },
  {
   "cell_type": "code",
   "execution_count": 47,
   "id": "d4b4389b",
   "metadata": {},
   "outputs": [
    {
     "data": {
      "image/png": "[encoded data removed]",
      "text/plain": [
       "<Figure size 400x200 with 1 Axes>"
      ]
     },
     "metadata": {},
     "output_type": "display_data"
    }
   ],
   "source": [
    "import numpy as np\n",
    "import matplotlib.pyplot as plt\n",
    "# This cell numerically solves the 1D heat equation using the explicit Forward Time Centered Space (FTCS) finite difference method.\n",
    "# It sets up the spatial and temporal grid, applies initial and boundary conditions, and iteratively updates the temperature profile.\n",
    "# The results are stored and plotted at selected time steps to visualize the evolution of temperature along the rod.\n",
    "\n",
    "# Parameters\n",
    "L = 1.0         # Length of the rod\n",
    "T = 0.2         # Total non-dimensional time to integrate\n",
    "nx = 5         # Number of spatial points\n",
    "alpha = 1.0     # Thermal diffusivity, one since we have non-dimensionalized\n",
    "\n",
    "dx = L / (nx - 1) #The grid spacing in the x direction\n",
    "dt = 0.0002     # Time step chosen to satisfy stability\n",
    "nt = int(T / dt)  # Update number of time steps accordingly\n",
    "x = np.linspace(0, L, nx) # The grid points in the x direction, for visualization.\n",
    "\n",
    "# Stability criterion for explicit scheme\n",
    "# For the explicit FTCS method, stability requires: alpha * dt / dx**2 < 0.5\n",
    "# This ensures that the numerical solution does not grow unbounded and remains physically meaningful.\n",
    "# If this condition is not met, the simulation may produce incorrect or unstable results.\n",
    "assert alpha * dt / dx**2 < 0.5, \"Stability condition not met!\"\n",
    "\n",
    "# Initial conditions: u(x,0) \n",
    "u = np.zeros(nx) # Set all grid points to zero\n",
    "u[-1] = 1 # Set the last grid point to 1\n",
    "\n",
    "# Store solution for visualization\n",
    "u_hist = [u.copy()]\n",
    "\n",
    "# Time-stepping loop (explicit FTCS, forward time central space)\n",
    "for n in range(nt):\n",
    "    u_new = u.copy()\n",
    "    for i in range(1, nx-1):\n",
    "        u_new[i] =   0 # insert your recursion equation here.\n",
    "    u = u_new\n",
    "    u_hist.append(u.copy())\n",
    "\n",
    "u_hist = np.array(u_hist)\n",
    "\n",
    "# Plotting\n",
    "plt.figure(figsize=(4,2))\n",
    "for t in [0, int(nt/4), int(nt/2), nt]: # plot four of the time steps.\n",
    "    plt.plot(x, u_hist[t], marker='o', linestyle='-', label=f't={t*dt:.2f}')\n",
    "plt.xlabel('x')\n",
    "plt.ylabel('u(x,t)')\n",
    "plt.title('1D Heat Equation Solution')\n",
    "plt.legend()\n",
    "plt.show()"
   ]
  },
  {
   "cell_type": "markdown",
   "id": "9b583404",
   "metadata": {},
   "source": [
    "### Task 3 \n",
    "Hint: Copy the cell to the empty cell below. Also, remember that if you’re on Colab, you can always refresh the page to go back to the original cell. \n",
    "\n",
    "**a)** In the cell above, increase the number of grid points, $nx$, what do you notice? Can you time the time-stepping loop and see how it changes? \n",
    "\n",
    "**b)** Set $nx=30$ and increase the time step $dt$ until you get an error from the assertion line. Now comment out that assertion line. What happens? \n",
    "\n",
    "**c)** The CFL criteria is beyond the scope of this course, it put restrictions on size of the time step taken. Can you change the code to assure small enough time step to avoid being trapped in the assertion line?\n",
    "\n",
    "**d)** Change the initial condition to $U(X,0)=\\sin(\\frac{\\pi }{2}X)$ and observe how the solution evolves. How does the choice of initial condition affect the results?\n",
    "\n",
    "**e)** Use the initial condition from **d**, compute and plot the maximum value of $U$ at each time step. \n",
    "\n",
    "**f)** Has the solution reached a steady state? If not, integrate for a longer time period. \n",
    "\n",
    "**g)** *Pen and paper:* Can you find a steady state solution for the PDE?\n",
    "\n",
    "**h)** *Pen and paper:* Can you find a steady state solution for the recurrence relation? \n",
    "\n"
   ]
  },
  {
   "cell_type": "code",
   "execution_count": null,
   "id": "c4910985",
   "metadata": {},
   "outputs": [],
   "source": []
  },
  {
   "cell_type": "markdown",
   "id": "2e42fac4",
   "metadata": {},
   "source": [
    "### Task 4 Neuman boundary conditions at one end.\n",
    "In previous task we had fixed boundary conditions, these are called Dirichlet boundary conditions.  Another boundary condition could be that gradient is zero at the boundaries, in our case $\\frac{\\partial U}{\\partial X}=0$ at the boundary. \n",
    "\n",
    "**a)** Implement a Neuman boundary condition at the left end of the rod. What do you see? What will be the end solution if you integrate long enough?\n",
    "\n",
    "**b)** Use $nx=5$ and $nx=50$ and read of the value at the left end of the rod, $X=0$. What do you see? Can you explain it?"
   ]
  },
  {
   "cell_type": "code",
   "execution_count": null,
   "id": "db05cc76",
   "metadata": {},
   "outputs": [],
   "source": []
  }
 ],
 "metadata": {
  "kernelspec": {
   "display_name": "base",
   "language": "python",
   "name": "python3"
  },
  "language_info": {
   "codemirror_mode": {
    "name": "ipython",
    "version": 3
   },
   "file_extension": ".py",
   "mimetype": "text/x-python",
   "name": "python",
   "nbconvert_exporter": "python",
   "pygments_lexer": "ipython3",
   "version": "3.10.13"
  }
 },
 "nbformat": 4,
 "nbformat_minor": 5
}
