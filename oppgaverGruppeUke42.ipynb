{
 "cells": [
  {
   "cell_type": "markdown",
   "id": "422e0057",
   "metadata": {},
   "source": [
    "# Ukeoppgaver – Interpolasjon\n",
    "\n",
    "---\n",
    "\n",
    "## Oppgaver for hånd\n",
    "\n",
    "---\n",
    "\n",
    "### Oppgave 1 – Lagrange-polynom for hånd\n",
    "Gitt punktene  \n",
    "$(x_0, y_0) = (0,1)$,  \n",
    "$(x_1, y_1) = (1,3)$,  \n",
    "$(x_2, y_2) = (2,2)$.\n",
    "\n",
    "1. Finn **Lagrange-interpolasjons-polynomet** $p(x)$ som går gjennom disse punktene.  \n",
    "2. Beregn $p(1.5)$.  \n",
    "3. Sammenlign med lineær interpolasjon mellom $x=1$ og $x=2$.  \n",
    "\n",
    "---\n",
    "\n",
    "### Oppgave 2 – Feilledd i Lagrange-interpolasjon\n",
    "Anta at den eksakte funksjonen er $f(x) = e^x$ og at vi interpolerer den i punktene $x_0=0$, $x_1=1$, og $x_2=2$.\n",
    "\n",
    "1. Skriv ned uttrykket for **feilleddet** i Lagrange-interpolasjon:\n",
    "   $$R_2(x) = \\frac{f^{(3)}(\\xi)}{3!}(x - x_0)(x - x_1)(x - x_2),$$\n",
    "   for et $\\xi \\in [0,2]$.\n",
    "   og estimer maksimalfeilen for $x=1.5$.  \n",
    "2. Finn Lagrande interpolasjonspolynomet $p(x)$ til $f$ gitt punktene.\n",
    "3. Sammenlign med den faktiske feilen mellom $e^{1.5}$ og Lagrande interpolasjonsverdien $p(1.5)$.  \n",
    "\n",
    "---\n",
    "\n",
    "### Oppgave 3 – Newtons dividerte differanser\n",
    "Gitt punktene $(1, 1)$, $(2, 4)$, $(3, 9)$.\n",
    "\n",
    "1. Sett opp tabellen for **Newtons dividerte differanser**.  \n",
    "2. Skriv ned polynomet i Newton-formen.  \n",
    "3. Bruk **Horners regel** til å vise hvordan det kan evalueres effektivt.  "
   ]
  },
  {
   "cell_type": "markdown",
   "id": "a90a9390",
   "metadata": {},
   "source": [
    "---\n",
    "\n",
    "## Digitale oppgaver (Python)\n",
    "\n",
    "---\n",
    "\n",
    "### Oppgave 4 – Lagrange-interpolasjon og Runges fenomen\n",
    "Bruk funksjonen $f(x) = \\frac{1}{1 + 25x^2}$ på intervallet $[-1,1]$.\n",
    "\n",
    "1. Lag to sett med interpolasjonspunkter:\n",
    "   - 6 jevnt fordelte punkter  \n",
    "   - 12 jevnt fordelte punkter  \n",
    "2. Konstruer Lagrange-polynomet for hvert sett og plott begge sammen med den eksakte funksjonen.  \n",
    "3. Diskuter **Runges fenomen** — hva skjer når antallet punkter øker?  "
   ]
  },
  {
   "cell_type": "code",
   "execution_count": null,
   "id": "da08d4b8",
   "metadata": {},
   "outputs": [],
   "source": [
    "import numpy as np \n",
    "import matplotlib.pyplot as plt\n",
    "\n",
    "def f(x):\n",
    "    # Regner ut funksjonsverdien i et punkt\n",
    "    return 1/(1+25*x**2)\n",
    "\n",
    "\n",
    "def lagrande_interpolasjon(x, px, py):\n",
    "    # Gitt en liste med punkt px og py vi skal interpolere\n",
    "    # Regn ut y-verdien til lagrande-polynomet i punktet x\n",
    "\n",
    "    n = 0 # hvor mange baser har vi?\n",
    "\n",
    "    y = 0 # Start med at verdien er 0\n",
    "    \n",
    "    # Finn ledd (i) med en for-løkke\n",
    "\n",
    "    # Legg sammen y og ledd (i)\n",
    "\n",
    "\n",
    "    \n",
    "    return y \n",
    "\n",
    "\n",
    "xs_mange = np.linspace(-1,1, 100)\n",
    "ys_mange = f(xs_mange)\n",
    "\n",
    "\n",
    "xs_6 = np.linspace(-1,1,6)\n",
    "ys_6 = f(xs_6)\n",
    "ys_lagrande_6 = lagrande_interpolasjon(xs_mange, xs_6, ys_6)\n",
    "\n",
    "xs_12 = np.linspace(-1,1,12)\n",
    "ys_12 = f(xs_12)\n",
    "ys_lagrande_12 = lagrande_interpolasjon(xs_mange, xs_12, ys_12)\n",
    "\n",
    "\n",
    "plt.plot(xs_mange, ys_mange, c='black', label='Nøyaktig')\n",
    "plt.plot(xs_mange, ys_lagrande_6, c='blue', label='6 punkt')\n",
    "plt.scatter(xs_6, ys_6, c='blue')\n",
    "plt.plot(xs_mange, ys_lagrande_12, c='red', label='15 punkt')\n",
    "plt.scatter(xs_12, ys_12, c='red')\n",
    "plt.legend()\n",
    "\n",
    "\n",
    "\n",
    "\n"
   ]
  },
  {
   "cell_type": "markdown",
   "id": "92e56113",
   "metadata": {},
   "source": [
    "---\n",
    "\n",
    "### Oppgave 5 – Newtons dividerte differanser (kode)\n",
    "Lag en funksjon `newton_interp(x, y, x_eval)` som:\n",
    "\n",
    "1. Beregner de **dividerte differansene** til punktene `(x, y)`.  \n",
    "2. Evaluerer polynomet i punktene `x_eval` ved hjelp av **Horners regel**.  \n",
    "3. Test funksjonen på punktene fra Oppgave 1 og sammenlign resultatet med `scipy.interpolate.lagrange`.  "
   ]
  },
  {
   "cell_type": "code",
   "execution_count": null,
   "id": "647df755",
   "metadata": {},
   "outputs": [],
   "source": [
    "import numpy as np\n",
    "\n",
    "def divided_differences(x, y):\n",
    "    # Gitt en liste med punkter (x, y), \n",
    "    # finn coeffientene til Newtons dividerte differenser\n",
    "    n = len(x)\n",
    "    coef = 0\n",
    "    return coef  # coef[0]=f[x0], coef[1]=f[x0,x1], ...\n",
    "\n",
    "def newton_eval(coef, x_nodes, x):\n",
    "    # Horner evaluering for Newtons dividerte differenser\n",
    "    n = len(coef)\n",
    "    result = 0\n",
    "    return result\n",
    "\n",
    "# Test på punktene fra Oppgave 1 i håndoppgavene\n",
    "x = np.array([0.,1.,2.])\n",
    "y = np.array([1.,3.,2.])\n"
   ]
  },
  {
   "cell_type": "markdown",
   "id": "2240bd01",
   "metadata": {},
   "source": [
    "---\n",
    "\n",
    "### Oppgave 6 – Feilledd og konvergens\n",
    "Bruk funksjonen $f(x) = \\sin(x)$ på intervallet $[0,\\pi]$.\n",
    "\n",
    "1. Lag en løkke som interpolerer $f(x)$ med $n=2,4,6,8,10$ punkter.  \n",
    "2. For hvert $n$, beregn maksimalfeilen mellom $f(x)$ og interpolasjonen på et fint rutenett.  \n",
    "3. Plott feilen som funksjon av $n$.  \n",
    "4. Hva observerer du om konvergensen?  "
   ]
  },
  {
   "cell_type": "code",
   "execution_count": 10,
   "id": "b6b3f6c3",
   "metadata": {},
   "outputs": [
    {
     "name": "stdout",
     "output_type": "stream",
     "text": [
      "2\n",
      "4\n",
      "6\n",
      "8\n",
      "10\n"
     ]
    },
    {
     "name": "stderr",
     "output_type": "stream",
     "text": [
      "c:\\Users\\andre\\OneDrive - University of Bergen\\Documents\\UiB\\pliktarbeid\\mat160\\.venv\\Lib\\site-packages\\IPython\\core\\pylabtools.py:170: UserWarning: Data has no positive values, and therefore cannot be log-scaled.\n",
      "  fig.canvas.print_figure(bytes_io, **kw)\n"
     ]
    },
    {
     "data": {
      "image/png": "[encoded data removed]",
      "text/plain": [
       "<Figure size 640x480 with 1 Axes>"
      ]
     },
     "metadata": {},
     "output_type": "display_data"
    }
   ],
   "source": [
    "import numpy as np\n",
    "from scipy.interpolate import BarycentricInterpolator # Bruk enten denne funksjonen\n",
    "import matplotlib.pyplot as plt\n",
    "\n",
    "x_mange = np.linspace(0, np.pi, 2000)\n",
    "ns = [2,4,6,8,10]\n",
    "errs = []\n",
    "\n",
    "for n in ns:\n",
    "    print(n) \n",
    "\n",
    "    # Finn punktene dine x og y\n",
    "\n",
    "    # Interpoler til et finere grid \n",
    "\n",
    "    # Finn max-feilen \n",
    "    errs.append(0)\n",
    "\n",
    "plt.semilogy(ns, errs, '-o')\n",
    "plt.xlabel('n (antall noder)')\n",
    "plt.ylabel('maksimalfeil')\n",
    "plt.grid()\n",
    "plt.show()\n"
   ]
  },
  {
   "cell_type": "markdown",
   "id": "7e84a7ab",
   "metadata": {},
   "source": [
    "---\n",
    "\n",
    "### Oppgave 7 – Splines (praktisk)\n",
    "Gitt data fra temperaturen gjennom en dag:\n",
    "| Tid (timer) | Temperatur (Celcius) |\n",
    "|------------|------------------|\n",
    "| 0          | 14              |\n",
    "| 4          | 13              |\n",
    "| 8          | 16              |\n",
    "| 12          | 22              |\n",
    "| 16          | 25              |\n",
    "| 20          | 20              |\n",
    "| 24          | 16              |\n",
    "\n",
    "1. Bruk `scipy.interpolate.CubicSpline` til å lage:\n",
    "   - En **natural spline**\n",
    "   - En **clamped spline** der du antar at $f'(0)=0$  \n",
    "2. Plott begge splinene og dataene.  \n",
    "3. Kommenter forskjellen i kurveform og glatthet.  "
   ]
  },
  {
   "cell_type": "code",
   "execution_count": null,
   "id": "26011a56",
   "metadata": {},
   "outputs": [],
   "source": [
    "import numpy as np\n",
    "import matplotlib.pyplot as plt\n",
    "from scipy.interpolate import CubicSpline\n",
    "\n",
    "# Tid (i timer)\n",
    "x = np.array([0, 4, 8, 12, 16, 20, 24])\n",
    "# Temperatur i grader Celsius (omtrent som en typisk sommerdag)\n",
    "y = np.array([14, 13, 16, 22, 25, 20, 16])\n",
    "\n",
    "# Natural spline\n",
    "cs_nat = CubicSpline()\n",
    "\n",
    "# Clamped spline — start og slutt med flate helninger (f'(0)=0, f'(24)=0)\n",
    "cs_clamped = CubicSpline()\n",
    "\n",
    "x_mange = np.linspace(0, 24, 300)\n"
   ]
  },
  {
   "cell_type": "markdown",
   "id": "89b89d7d",
   "metadata": {
    "vscode": {
     "languageId": "plaintext"
    }
   },
   "source": [
    "---\n",
    "\n",
    "### Oppgave 8 – Tegn en bokstav med splines\n",
    "Du skal lage en enkel digital signatur eller bokstavform ved hjelp av splines.\n",
    "\n",
    "1. Definer noen håndplukkede punkter som danner f.eks. bokstaven `S` eller `G`.  \n",
    "2. Bruk `scipy.interpolate.splprep` og `splev` for å lage en **parametrisk B-spline** gjennom punktene.  \n",
    "3. Plott resultatet med Matplotlib. "
   ]
  },
  {
   "cell_type": "code",
   "execution_count": null,
   "id": "3b77bcae",
   "metadata": {},
   "outputs": [],
   "source": [
    "# Oppgave 8: Parametrisk B-spline for bokstav 'S' (eksempel)\n",
    "import numpy as np\n",
    "import matplotlib.pyplot as plt\n",
    "from scipy.interpolate import splprep, splev\n",
    "\n",
    "# Punkter omtrent som en '...'\n",
    "pts = np.array([\n",
    "    [0,0],\n",
    "    [0,0],\n",
    "    [0,0]\n",
    "]).T  # shape (2, N)\n",
    "\n",
    "tck, u = splprep(pts, s=0, k=3)\n",
    "u_fine = np.linspace(0,1,200)\n",
    "x_spline, y_spline = splev(u_fine, tck)\n",
    "\n",
    "plt.plot(pts[0], pts[1], 'o', label='knutepunkter')\n",
    "plt.plot(x_spline, y_spline, '-', label='B-spline')\n",
    "plt.axis('equal')\n",
    "plt.legend()\n",
    "plt.title('En enkel S-linje med B-spline')\n",
    "plt.show()\n"
   ]
  }
 ],
 "metadata": {
  "kernelspec": {
   "display_name": ".venv (3.12.3)",
   "language": "python",
   "name": "python3"
  },
  "language_info": {
   "codemirror_mode": {
    "name": "ipython",
    "version": 3
   },
   "file_extension": ".py",
   "mimetype": "text/x-python",
   "name": "python",
   "nbconvert_exporter": "python",
   "pygments_lexer": "ipython3",
   "version": "3.12.3"
  }
 },
 "nbformat": 4,
 "nbformat_minor": 5
}
