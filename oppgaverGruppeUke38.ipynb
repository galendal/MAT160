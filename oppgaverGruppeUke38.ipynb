{
 "cells": [
  {
   "cell_type": "markdown",
   "id": "f7aeee87",
   "metadata": {},
   "source": [
    "# Oppgaver for hånd\n",
    "\n",
    "**Oppgave 1 - Repetisjon**\n",
    "Løs følgende system for hånd ved hjelp av Gauss-eliminasjon uten pivotering:\n",
    "\n",
    "$$\n",
    "\\begin{cases}\n",
    "2x + y - z = 8 \\\\\n",
    "-3x - y + 2z = -11 \\\\\n",
    "-2x + y + 2z = -3\n",
    "\\end{cases}\n",
    "$$\n",
    "\n",
    "**Oppgave 2: Forover- og bakoverfeil**\n",
    "Vi ønsker å skille mellom foroverfeil og bakoverfeil.\n",
    "\n",
    "Gitt systemet\n",
    "\n",
    "$$A = \\begin{bmatrix} 2 & 1 \\\\ 1 & 3 \\end{bmatrix}, \\quad\n",
    "b = \\begin{bmatrix} 3 \\\\ 5 \\end{bmatrix}, \\quad\n",
    "\\tilde{x} = \\begin{bmatrix} 1.0 \\\\ 1.3 \\end{bmatrix}.$$\n",
    "\n",
    "Hvor $\\tilde{x}$ er en tilnærmet løsning.\n",
    "\n",
    "1. Finn den eksakte løsningen x.\n",
    "2. Finn foroverfeilen $||x - \\tilde{x}||$.\n",
    "3. Finn bakoverfeilen ved å beregne $\\tilde{b} = A \\tilde{x}$ og sammenligne med b.\n",
    "\n"
   ]
  },
  {
   "cell_type": "markdown",
   "id": "c0fd1e92",
   "metadata": {},
   "source": [
    "# Oppgaver med koding\n",
    "\n",
    "**Oppgave 3 - Øve på å løse matriser** \n",
    "\n",
    "Under har jeg implementert noen funksjoner for å løse et likningsstem $Ax=b$ med hjelp av Gauss-eliminasjon. \n",
    "\n",
    "Med hjelp av denne metoden løs følgende problemer:\n",
    "\n",
    "a) Oppgave 1 og oppgave 2\n",
    "\n",
    "b) En 3x3 matrise med tilfeldige koeffisienter (np.random.rand(3,3)) og en tilfeldig 3x1 vektor b (np.random.rand(3,1))\n"
   ]
  },
  {
   "cell_type": "code",
   "execution_count": null,
   "id": "fbd7ba66",
   "metadata": {},
   "outputs": [
    {
     "name": "stdout",
     "output_type": "stream",
     "text": [
      "[[1 2 3]\n",
      " [3 4 6]\n",
      " [7 8 9]]\n"
     ]
    }
   ],
   "source": [
    "import numpy as np\n",
    "\n",
    "def gauss_forover(A, b):\n",
    "    # Lager 0 nedenfor diagonalen til matrisen A\n",
    "    # Returnerer den øvre triangulære systemet A og den oppdatere vektoren b\n",
    "\n",
    "    (m,n) = np.shape(A)\n",
    "    \n",
    "    # Vi går kolonne for kolonne\n",
    "    for i in range(m-1):  # diagonal\n",
    "        diagonal = A[i, i]\n",
    "        \n",
    "        for j in range(i+1, m):  # radene under diagonalen\n",
    "            coeff = A[j, i] / diagonal\n",
    "            \n",
    "            # Oppdater alle tallene i raden\n",
    "            for k in range(i, n):  \n",
    "                A[j, k] = A[j, k] - coeff * A[i, k]\n",
    "            \n",
    "            # Oppdater høyresidevektoren\n",
    "            b[j] = b[j] - coeff * b[i]\n",
    "\n",
    "    return A, b\n",
    "\n",
    "\n",
    "def gauss_bakover(A, b):\n",
    "    # Utfører bakover substitusjon på et øvre triangulært system.\n",
    "    # Returnerer løsningen x\n",
    "\n",
    "    (m, n) = np.shape(A)\n",
    "    x = np.zeros(n)\n",
    "    \n",
    "    # Starter fra nederste rad og går oppover\n",
    "    for i in range(m-1, -1, -1):\n",
    "        # Summen av A[i,j] * x[j] for j > i\n",
    "        sum_ax = 0\n",
    "        for j in range(i+1, n):\n",
    "            sum_ax += A[i, j] * x[j]\n",
    "        \n",
    "        x[i] = (b[i] - sum_ax) / A[i, i]\n",
    "    \n",
    "    return x\n",
    "\n",
    "def gauss_elimansjon(A, b):\n",
    "    # Gitt en matrise A og vektor b, finn løsningen x til systemet Ax=b\n",
    "    # Returnerer løsningen x\n",
    "\n",
    "    A, b = gauss_forover(A, b)\n",
    "    x = gauss_bakover(A, b)\n",
    "\n",
    "    return x\n",
    "\n",
    "# Eksempel hvordan lage en matrise:\n",
    "# A = 1  2  3\n",
    "#     4  5  6\n",
    "#     7  8  9\n",
    "\n",
    "A = np.array([[1, 2, 3], [3, 4, 6], [7, 8, 9]])\n",
    "print(A)\n",
    "\n"
   ]
  },
  {
   "cell_type": "markdown",
   "id": "d37e6155",
   "metadata": {},
   "source": [
    "\n",
    "**Oppgave 4: Swamping**\n",
    "Løs systemet\n",
    "\n",
    "$$\n",
    "\\begin{cases}\n",
    "10^{-20}x + 2y = 1 \\\\\n",
    "x + 2y = 4\n",
    "\\end{cases}\n",
    "$$\n",
    "\n",
    "a) Hva er den eksakte løsningen? \n",
    "\n",
    "b) Hvis du bruker metoden for Gauss-eliminasjon fra oppgave X, hva blir den tilnærmete løsningen? Hva har skjedd? \n"
   ]
  },
  {
   "cell_type": "code",
   "execution_count": null,
   "id": "1ceef58f",
   "metadata": {},
   "outputs": [],
   "source": []
  },
  {
   "cell_type": "markdown",
   "id": "dde8c6e0",
   "metadata": {},
   "source": [
    "**Oppgave 5: Gauss-eliminasjon med pivotering**\n",
    "\n",
    "Utvid koden for Gauss-eliminasjon slik at den inkluderer partiell pivotering.\n",
    "Test på systemet fra oppgave 4."
   ]
  },
  {
   "cell_type": "markdown",
   "id": "6fc7a980",
   "metadata": {},
   "source": []
  },
  {
   "cell_type": "markdown",
   "id": "33b553f4",
   "metadata": {},
   "source": [
    "**Oppgave 6 - Tidskompleksitet gauss-eliminasjon** \n",
    "\n",
    "Vi skal teste tidskompleksiteten til gauss-eliminasjon. \n",
    "\n",
    "Anta at tiden koden tar å finne løsningen til et $NxN$ system er: $t=O(N^a)$ hvor $a$ er en konstant vi vil finne. \n",
    "\n",
    "Bruk koden fra oppgave 3 og gjennomfør følgende steg:\n",
    "\n",
    "a) Definer en rekke forskjellige N-verdier (vær obs på at $N>1000$ kan ta veldig lang tid)\n",
    "\n",
    "b) For hver N-verdi lag en tilfeldig matrise $A$ og tilfeldig vektor $b$\n",
    "\n",
    "c) Start tidtaking og kjør metoden fra tidligere. \n",
    "\n",
    "d) Stopp tiden, og lagre tiden $t$ og størrelsen på matrisen $N$\n",
    "\n",
    "e) Når du har tatt tiden for alle N'verdiene, plot verdiene i et logaritmisk diagram (plt.loglog(x,y)) og les av stigningstallet. \n",
    "\n",
    "Stigningstallet fra diagrammet vil være konstanten $a$. Hva betyr det for tiden det vil ta å finne løsningen til et system $Ax=b$ hvis man går fra $N=10$ til $N=100$?"
   ]
  },
  {
   "cell_type": "code",
   "execution_count": null,
   "id": "a26fe6f4",
   "metadata": {},
   "outputs": [],
   "source": []
  },
  {
   "cell_type": "markdown",
   "id": "d2be7975",
   "metadata": {},
   "source": [
    "**Oppgave 7 - Jacobi-iterasjon**\n",
    "\n",
    "a) \n",
    "\n",
    "Løs systemet\n",
    "\n",
    "$$\n",
    "\\begin{cases}\n",
    "10x - y + 2z = 6 \\\\\n",
    "-x + 11y - z = 25 \\\\\n",
    "2x - y + 10z = -11\n",
    "\\end{cases}\n",
    "$$\n",
    "\n",
    "ved hjelp av Jacobi-iterasjon. Start med $x^{(0)} = (0,0,0)$ og utfør 5 iterasjoner.\n",
    "\n",
    "\n",
    "b)\n",
    "\n",
    "Prøv Jacobi på systemet:\n",
    "\n",
    "$$\n",
    "\\begin{cases}\n",
    "1x + 2y = 1 \\\\\n",
    "2x + 1y = 0\n",
    "\\end{cases}\n",
    "$$\n",
    "\n",
    "Bruk en passende startverdi.\n",
    "\n",
    "Hva skjer? Hvorfor får du svaret som du får? "
   ]
  },
  {
   "cell_type": "code",
   "execution_count": null,
   "id": "c887752f",
   "metadata": {},
   "outputs": [
    {
     "data": {
      "text/plain": [
       "array([ 341., -682.])"
      ]
     },
     "execution_count": 14,
     "metadata": {},
     "output_type": "execute_result"
    }
   ],
   "source": [
    "\n",
    "\n",
    "\n",
    "\n"
   ]
  },
  {
   "cell_type": "markdown",
   "id": "f7053aac",
   "metadata": {},
   "source": [
    "**Oppgave 8 - Gauss-Seidel**\n",
    "\n",
    "Løs problemene i oppgave 7 med en implementasjon av Gauss-Seidel istedet. Er det noen forskjell på løsningen etter samme antall iterasjoner? Fungerer Gauss-Seidel der Jacobi fungerer?"
   ]
  },
  {
   "cell_type": "code",
   "execution_count": null,
   "id": "fac1a80f",
   "metadata": {},
   "outputs": [],
   "source": []
  },
  {
   "cell_type": "markdown",
   "id": "8a36ee00",
   "metadata": {},
   "source": [
    "**Oppgave 9 - sammenligning iterative metoder**\n",
    "\n",
    "Bruk systemet\n",
    "$$\n",
    "\\begin{cases}\n",
    "4x + y = 9 \\\\\n",
    "x + 3y = 10\n",
    "\\end{cases}\n",
    "$$\n",
    "\n",
    "Start med $x^{(0)} = (0,0)$.\n",
    "\n",
    "1. Implementer Jacobi og Gauss-Seidel.\n",
    "2. Kjør begge metodene til $\\|x^{(k)} - x^{(k-1)}\\| < 10^{-6}$.\n",
    "3. Sammenlign antall iterasjoner."
   ]
  },
  {
   "cell_type": "code",
   "execution_count": null,
   "id": "c07c5be5",
   "metadata": {},
   "outputs": [],
   "source": []
  }
 ],
 "metadata": {
  "kernelspec": {
   "display_name": "base",
   "language": "python",
   "name": "python3"
  },
  "language_info": {
   "codemirror_mode": {
    "name": "ipython",
    "version": 3
   },
   "file_extension": ".py",
   "mimetype": "text/x-python",
   "name": "python",
   "nbconvert_exporter": "python",
   "pygments_lexer": "ipython3",
   "version": "3.12.3"
  }
 },
 "nbformat": 4,
 "nbformat_minor": 5
}
