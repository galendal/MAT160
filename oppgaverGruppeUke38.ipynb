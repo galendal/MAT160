{
 "cells": [
  {
   "cell_type": "markdown",
   "id": "f7aeee87",
   "metadata": {},
   "source": [
    "# Oppgaver for hånd\n",
    "\n",
    "**Oppgave 1 - Repetisjon**\n",
    "Løs følgende system for hånd ved hjelp av Gauss-eliminasjon uten pivotering:\n",
    "\n",
    "$$\n",
    "\\begin{cases}\n",
    "2x + y - z = 8 \\\\\n",
    "-3x - y + 2z = -11 \\\\\n",
    "-2x + y + 2z = -3\n",
    "\\end{cases}\n",
    "$$\n",
    "\n",
    "**Oppgave 2: Forover- og bakoverfeil**\n",
    "Vi ønsker å skille mellom foroverfeil og bakoverfeil.\n",
    "\n",
    "Gitt systemet\n",
    "\n",
    "$$A = \\begin{bmatrix} 2 & 1 \\\\ 1 & 3 \\end{bmatrix}, \\quad\n",
    "b = \\begin{bmatrix} 3 \\\\ 5 \\end{bmatrix}, \\quad\n",
    "\\tilde{x} = \\begin{bmatrix} 1.0 \\\\ 1.3 \\end{bmatrix}.$$\n",
    "\n",
    "Hvor $\\tilde{x}$ er en tilnærmet løsning.\n",
    "\n",
    "1. Finn den eksakte løsningen x.\n",
    "2. Finn foroverfeilen $||x - \\tilde{x}||$.\n",
    "3. Finn bakoverfeilen ved å beregne $\\tilde{b} = A \\tilde{x}$ og sammenligne med b.\n",
    "\n",
    "**Oppgave 3-**\n",
    "\n"
   ]
  },
  {
   "cell_type": "markdown",
   "id": "40c114cb",
   "metadata": {},
   "source": []
  },
  {
   "cell_type": "markdown",
   "id": "c0fd1e92",
   "metadata": {},
   "source": [
    "# Oppgaver med koding\n",
    "\n",
    "\n"
   ]
  },
  {
   "cell_type": "code",
   "execution_count": null,
   "id": "fbd7ba66",
   "metadata": {},
   "outputs": [
    {
     "name": "stdout",
     "output_type": "stream",
     "text": [
      "[0.33333333 0.33333333]\n"
     ]
    }
   ],
   "source": [
    "import numpy as np\n",
    "\n",
    "def gauss_forover(A, b):\n",
    "    # Lager 0 nedenfor diagonalen til matrisen A\n",
    "    # Returnerer den øvre triangulære systemet A og den oppdatere vektoren b\n",
    "\n",
    "    (m,n) = np.shape(A)\n",
    "    \n",
    "    # Vi går kolonne for kolonne\n",
    "    for i in range(m-1):  # diagonal\n",
    "        diagonal = A[i, i]\n",
    "        \n",
    "        for j in range(i+1, m):  # radene under diagonalen\n",
    "            coeff = A[j, i] / diagonal\n",
    "            \n",
    "            # Oppdater alle tallene i raden\n",
    "            for k in range(i, n):  \n",
    "                A[j, k] = A[j, k] - coeff * A[i, k]\n",
    "            \n",
    "            # Oppdater høyresidevektoren\n",
    "            b[j] = b[j] - coeff * b[i]\n",
    "\n",
    "    return A, b\n",
    "\n",
    "\n",
    "def gauss_bakover(A, b):\n",
    "    # Utfører bakover substitusjon på et øvre triangulært system.\n",
    "    # Returnerer løsningen x\n",
    "\n",
    "    (m, n) = np.shape(A)\n",
    "    x = np.zeros(n)\n",
    "    \n",
    "    # Starter fra nederste rad og går oppover\n",
    "    for i in range(m-1, -1, -1):\n",
    "        # Summen av A[i,j] * x[j] for j > i\n",
    "        sum_ax = 0\n",
    "        for j in range(i+1, n):\n",
    "            sum_ax += A[i, j] * x[j]\n",
    "        \n",
    "        x[i] = (b[i] - sum_ax) / A[i, i]\n",
    "    \n",
    "    return x\n",
    "\n",
    "def gauss_elimansjon(A, b):\n",
    "    # Gitt en matrise A og vektor b, finn løsningen x til systemet Ax=b\n",
    "    # Returnerer løsningen x\n",
    "\n",
    "    A, b = gauss_forover(A, b)\n",
    "    x = gauss_bakover(A, b)\n",
    "\n",
    "    return x\n",
    "\n",
    "\n",
    "\n"
   ]
  },
  {
   "cell_type": "markdown",
   "id": "d37e6155",
   "metadata": {},
   "source": [
    "\n",
    "**Oppgave 3: Swamping**\n",
    "Løs systemet\n",
    "\n",
    "$$\n",
    "\\begin{cases}\n",
    "10^{-20}x + y = 1 \\\\\n",
    "x + y = 2\n",
    "\\end{cases}\n",
    "$$\n",
    "\n",
    "med Gauss-eliminasjon **uten pivotering** og vis problemet."
   ]
  },
  {
   "cell_type": "markdown",
   "id": "33b553f4",
   "metadata": {},
   "source": [
    "**Oppgave X - Tidskompleksitet gauss-eliminasjon** "
   ]
  },
  {
   "cell_type": "code",
   "execution_count": null,
   "id": "a26fe6f4",
   "metadata": {},
   "outputs": [],
   "source": []
  },
  {
   "cell_type": "markdown",
   "id": "d2be7975",
   "metadata": {},
   "source": [
    "**Oppgave X - "
   ]
  },
  {
   "cell_type": "code",
   "execution_count": null,
   "id": "c887752f",
   "metadata": {},
   "outputs": [],
   "source": []
  }
 ],
 "metadata": {
  "kernelspec": {
   "display_name": "base",
   "language": "python",
   "name": "python3"
  },
  "language_info": {
   "codemirror_mode": {
    "name": "ipython",
    "version": 3
   },
   "file_extension": ".py",
   "mimetype": "text/x-python",
   "name": "python",
   "nbconvert_exporter": "python",
   "pygments_lexer": "ipython3",
   "version": "3.12.3"
  }
 },
 "nbformat": 4,
 "nbformat_minor": 5
}
