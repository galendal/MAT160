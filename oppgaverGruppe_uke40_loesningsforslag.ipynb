{
 "cells": [
  {
   "cell_type": "markdown",
   "id": "fa421aa0",
   "metadata": {},
   "source": [
    "# Oppgaver – Ikke-lineære likninger\n",
    "\n",
    "---\n",
    "\n",
    "## Oppgaver for hånd\n",
    "\n",
    "---\n",
    "\n",
    "### Oppgave 1 – Estimering med ulike metoder\n",
    "\n",
    "Estimer en løsning til likningen  \n",
    "\n",
    "$x = x \\ln(x)$\n",
    "\n",
    "ved å bruke:\n",
    "\n",
    "1. Midtpunktsmetoden (bisection) i 2–3 steg med et startintervall du velger.  \n",
    "2. Fix-punkts iterasjon i 2–3 steg med startverdi $x_0=1$.  \n",
    "3. Newtons metode i 2–3 steg med startverdi $x_0=1$.  \n",
    "\n",
    "Skriv ned alle mellomregninger.\n",
    "\n",
    "---\n",
    "\n",
    "### Oppgave 2 – Fix-punkts iterasjon for $\\sqrt{2}$\n",
    "\n",
    "Vis at $x^2=2$ kan skrives som:\n",
    "\n",
    "$x = \\frac{1}{2}\\left(x + \\frac{2}{x}\\right)$\n",
    "\n",
    "Bruk fix-punkts iterasjon for å estimere $\\sqrt{2}$ ved å løse  \n",
    "\n",
    "- Start med $x_0 = 1$  \n",
    "- Utfør 3–4 iterasjoner  \n",
    "- Skriv alle mellomregninger  \n",
    "\n",
    "---\n",
    "\n",
    "### Oppgave 3 – Newtons metode med ikke-konvergens\n",
    "\n",
    "Bruk Newtons metode på likningen  \n",
    "\n",
    "$f(x) = 4x^4 - 6x^2 - \\frac{11}{4} = 0$\n",
    "\n",
    "med startverdi $x_0 = 0.5$.  \n",
    "\n",
    "- Utfør 3 iterasjoner  \n",
    "- Forklar hvorfor metoden hopper frem og tilbake mellom $0.5$ og $-0.5$.  \n",
    "\n",
    "---\n",
    "\n",
    "### Oppgave 4 – Konvergensrate\n",
    "\n",
    "Utled formelen for konvergensraten til Newtons metode:  \n",
    "\n",
    "$e_{n+1} \\approx C e_n^2$\n",
    "\n",
    "der $e_n$ er feilen etter n-te iterasjon.  \n",
    "\n",
    "**Hint for stegvis løsning:**\n",
    "\n",
    "- Definer feilen $e_n = x_n - x^*$. Hvor $x^*$ er den korrekte løsningen. \n",
    "- Sett uttrykket for $x_n$ inn i Newtons metode.\n",
    "- Finn Taylor-utviklingen til $f(x^*+e_n)$ og $f'(x^*+e_n)$ og putt det inn i Newtons metode.\n",
    "- Bruk at $f(x^*)=0$ fordi $x^*$ er løsningen. \n",
    "- Utled konvergensraten fra rekursjonen."
   ]
  },
  {
   "cell_type": "markdown",
   "id": "0c8f804b",
   "metadata": {},
   "source": [
    "---\n",
    "\n",
    "## Digitale oppgaver\n",
    "\n",
    "---\n",
    "\n",
    "### Oppgave 5 – Midtpunktsmetoden\n",
    "\n",
    "a) Implementer midtpunktsmetoden i Python for en funksjon $f(x)=-\\frac{1}{10}x^3+\\frac{1}{30}x^2-\\frac{1}{10}x+\\frac{1}{30}=0$.  \n",
    "\n",
    "- Gi funksjonen, startintervallet $[0,1]$, et maksimalt antall steg, og en toleranse $\\varepsilon=10^{-5}$.  \n",
    "\n",
    "b) Bruk metoden for å finne løsningen av $f(x) = 0$.  \n",
    "\n",
    "- Beregn feilen $|x_n - x^*|$ for hvert steg. ($x^*=0.5$) \n",
    "\n",
    "c) Hvor mange steg bruker metoden på å nå feilen $\\varepsilon$?\n",
    "\n",
    "d) Plot forholdet mellom feilene $e_{i+1}/e_i$ og estimer konvergensraten.  (Bruk `plt.plot(y)`)\n",
    "\n",
    "(Hvis en metode er førsteordens betyr det at $e_{i+1}=C e_{i}$. Altså så burde $e_{i+1}/e_{i}=C$)\n",
    "\n",
    "\n"
   ]
  },
  {
   "cell_type": "code",
   "execution_count": 58,
   "id": "5eda17b9",
   "metadata": {},
   "outputs": [
    {
     "name": "stdout",
     "output_type": "stream",
     "text": [
      "x=0.3333282470703125 er den approksimerte løningen\n",
      "Feilen er 7.62939453125e-06 og det tok 16 iterasjoner og komme dit\n"
     ]
    },
    {
     "data": {
      "image/png": "[encoded data removed]",
      "text/plain": [
       "<Figure size 640x480 with 1 Axes>"
      ]
     },
     "metadata": {},
     "output_type": "display_data"
    }
   ],
   "source": [
    "import matplotlib.pyplot as plt\n",
    "import numpy as np\n",
    "\n",
    "def f(x):\n",
    "    return -0.1*x**3 + 1/30*x**2 - 0.1*x + 1/30\n",
    "\n",
    "a = 0\n",
    "b = 1\n",
    "\n",
    "n_max = 100\n",
    "epsilon = 10**-5\n",
    "\n",
    "i = 0\n",
    "feil = (b-a)/2\n",
    "\n",
    "alle_feil = []\n",
    "\n",
    "while i < n_max and feil > epsilon:\n",
    "\n",
    "    # Finner fortegnet til f(a) og f(b)\n",
    "    fa = f(a)\n",
    "    fb = f(b)\n",
    "\n",
    "    # Finner midtpunktet av a og b\n",
    "    c = (b-a)/2 + a \n",
    "\n",
    "    # Finner funksjonsverdien der\n",
    "    fc = f(c)\n",
    "\n",
    "    if fa*fb > 0:\n",
    "        print(\"f(a) og f(b) kan ikke ha samme fortegn!\")\n",
    "        break\n",
    "\n",
    "    if fa*fc > 0:\n",
    "        a = c \n",
    "    elif fb*fc > 0:\n",
    "        b = c \n",
    "    elif fc == 0:\n",
    "        print(f\"x={c} er den nøyaktige løsningen til maskinpresisjon\")\n",
    "        break\n",
    "    \n",
    "    feil = (b-a)/2\n",
    "    i += 1\n",
    "\n",
    "    alle_feil.append(abs(c-1/3))\n",
    "    \n",
    "\n",
    "print(f\"x={c} er den approksimerte løningen\")\n",
    "print(f\"Feilen er {feil} og det tok {i} iterasjoner og komme dit\")\n",
    "\n",
    "\n",
    "alle_feil = np.array(alle_feil)\n",
    "plt.plot(alle_feil[1:]/alle_feil[:-1])\n",
    "plt.grid()\n"
   ]
  },
  {
   "cell_type": "markdown",
   "id": "0644014a",
   "metadata": {},
   "source": [
    "### Oppgave 6 – Fix-punktsmetoden\n",
    "\n",
    "a) Implementer fix-punktsmetoden i Python for samme funksjon som over $f(x)=-\\frac{1}{10}x^3+\\frac{1}{30}x^2-\\frac{1}{10}x+\\frac{1}{30}=0$.  .  \n",
    "\n",
    "- Gi funksjonen, startintervallet $[0,1]$, et maksimalt antall steg, og en toleranse $\\varepsilon=10^{-5}$.  \n",
    "\n",
    "b) Bruk metoden for å finne løsningen av $f(x) = 0$.  \n",
    "\n",
    "- Beregn feilen $|x_n - x^*|$ for hvert steg. ($x^*=0.5$) \n",
    "\n",
    "c) Hvor mange steg bruker metoden på å nå feilen $\\varepsilon$?\n",
    "\n",
    "d) Plot forholdet mellom feilene $e_{i+1}/e_i$ og estimer konvergensraten.  (Bruk `plt.plot(y)`)\n",
    "\n",
    "(Hvis en metode er førsteordens betyr det at $e_{i+1}=C e_{i}$. Altså så burde $e_{i+1}/e_{i}=C$)\n",
    "\n",
    "\n",
    "\n"
   ]
  },
  {
   "cell_type": "code",
   "execution_count": 59,
   "id": "87c0c3a1",
   "metadata": {},
   "outputs": [
    {
     "name": "stdout",
     "output_type": "stream",
     "text": [
      "x=0.33332343174837986 er den approksimerte løningen\n",
      "Feilen er 9.90158495345339e-06 og det tok 90 iterasjoner og komme dit\n"
     ]
    },
    {
     "data": {
      "image/png": "[encoded data removed]",
      "text/plain": [
       "<Figure size 640x480 with 1 Axes>"
      ]
     },
     "metadata": {},
     "output_type": "display_data"
    }
   ],
   "source": [
    "import matplotlib.pyplot as plt\n",
    "import numpy as np\n",
    "\n",
    "def f(x):\n",
    "    return -0.1*x**3 + 1/30*x**2 + 0.9*x + 1/30 # Merk at denne endres litt fordi vi skal løse x = f(x)\n",
    "\n",
    "x0 = 0\n",
    "\n",
    "n_max = 100\n",
    "epsilon = 10**-5\n",
    "\n",
    "i = 0\n",
    "feil = 1 # Tilfeldig verdi til å starte med\n",
    "\n",
    "alle_feil = []\n",
    "\n",
    "while i < n_max and feil > epsilon:\n",
    "\n",
    "    x = f(x0)\n",
    "    \n",
    "    feil = abs(x - 1/3)\n",
    "    i += 1\n",
    "    x0 = x\n",
    "\n",
    "    alle_feil.append(feil)\n",
    "    \n",
    "\n",
    "print(f\"x={x} er den approksimerte løningen\")\n",
    "print(f\"Feilen er {feil} og det tok {i} iterasjoner og komme dit\")\n",
    "\n",
    "\n",
    "alle_feil = np.array(alle_feil)\n",
    "plt.plot(alle_feil[1:]/alle_feil[:-1])\n",
    "plt.grid()\n"
   ]
  },
  {
   "cell_type": "markdown",
   "id": "e6c54bfe",
   "metadata": {},
   "source": [
    "### Oppgave 7 – Newtons metode\n",
    "\n",
    "a) Implementer Newtons metode i Python for samme funksjon som over $f(x)=-\\frac{1}{10}x^3+\\frac{1}{30}x^2-\\frac{1}{10}x+\\frac{1}{30}=0$.  \n",
    "\n",
    "- Gi funksjonen, startverdi $x_0=1$, et maksimalt antall steg, og en toleranse $\\varepsilon=10^{-10}$.  \n",
    "\n",
    "b) Bruk metoden for å finne løsningen av $f(x) = 0$.  \n",
    "\n",
    "- Beregn feilen $|x_n - x^*|$ for hvert steg. ($x^*=0.5$) \n",
    "\n",
    "c) Hvor mange steg bruker metoden på å nå feilen $\\varepsilon$?\n",
    "\n",
    "d) Plot forholdet mellom feilene $e_{i+1}/e_i^2$ og estimer konvergensraten.  (Bruk `plt.plot(y)`)\n",
    "\n",
    "(Hvis en metode er andreordens betyr det at $e_{i+1}=C e_{i}^2$. Altså så burde $e_{i+1}/e_{i}^2=C$)\n"
   ]
  },
  {
   "cell_type": "code",
   "execution_count": 60,
   "id": "77c55c72",
   "metadata": {},
   "outputs": [
    {
     "name": "stdout",
     "output_type": "stream",
     "text": [
      "x=0.33333333333502513 er den approksimerte løningen\n",
      "Feilen er 1.6918133560750448e-12 og det tok 5 iterasjoner og komme dit\n"
     ]
    },
    {
     "data": {
      "image/png": "[encoded data removed]",
      "text/plain": [
       "<Figure size 640x480 with 1 Axes>"
      ]
     },
     "metadata": {},
     "output_type": "display_data"
    }
   ],
   "source": [
    "import matplotlib.pyplot as plt\n",
    "import numpy as np\n",
    "\n",
    "def f(x):\n",
    "    return -0.1*x**3 + 1/30*x**2 - 0.1*x + 1/30 \n",
    "\n",
    "def fd(x):\n",
    "    return -0.3*x**2 + 2/30*x - 0.1\n",
    "\n",
    "x0 = 1\n",
    "\n",
    "n_max = 100\n",
    "epsilon = 10**-10\n",
    "\n",
    "i = 0\n",
    "feil = 1 # Tilfeldig verdi til å starte med\n",
    "\n",
    "alle_feil = []\n",
    "\n",
    "while i < n_max and feil > epsilon:\n",
    "\n",
    "    x = x0 - f(x0)/fd(x0)\n",
    "    \n",
    "    feil = abs(x - 1/3)\n",
    "    i += 1\n",
    "    x0 = x\n",
    "\n",
    "    alle_feil.append(feil)\n",
    "    \n",
    "\n",
    "print(f\"x={x} er den approksimerte løningen\")\n",
    "print(f\"Feilen er {feil} og det tok {i} iterasjoner og komme dit\")\n",
    "\n",
    "\n",
    "alle_feil = np.array(alle_feil)\n",
    "plt.plot(alle_feil[1:]/alle_feil[:-1]**2)\n",
    "plt.grid()\n"
   ]
  },
  {
   "cell_type": "markdown",
   "id": "2fc8a414",
   "metadata": {},
   "source": [
    "### Oppgave 8 – Newtons metode med kvadratfunksjon\n",
    "\n",
    "Bruk Newtons metode på $f(x) = x^2.$\n",
    "\n",
    "- Start med $x_0 = 0.1$\n",
    "- Beregn feilen $|x_n - x^*|$ for hver iterasjon.  \n",
    "- Plot feilen vs antall steg og forklar konvergensraten (lineær eller kvadratisk).\n"
   ]
  },
  {
   "cell_type": "code",
   "execution_count": 61,
   "id": "6511f894",
   "metadata": {},
   "outputs": [
    {
     "name": "stdout",
     "output_type": "stream",
     "text": [
      "x=9.313225746154784e-11 er den approksimerte løningen\n",
      "Feilen er 9.313225746154784e-11 og det tok 30 iterasjoner og komme dit\n"
     ]
    },
    {
     "data": {
      "image/png": "[encoded data removed]",
      "text/plain": [
       "<Figure size 640x480 with 1 Axes>"
      ]
     },
     "metadata": {},
     "output_type": "display_data"
    }
   ],
   "source": [
    "import matplotlib.pyplot as plt\n",
    "import numpy as np\n",
    "\n",
    "def f(x):\n",
    "    return x**2\n",
    "\n",
    "def fd(x):\n",
    "    return 2*x\n",
    "\n",
    "x0 = 0.1\n",
    "\n",
    "n_max = 100\n",
    "epsilon = 10**-10\n",
    "\n",
    "i = 0\n",
    "feil = 1 # Tilfeldig verdi til å starte med\n",
    "\n",
    "alle_feil = []\n",
    "\n",
    "while i < n_max and feil > epsilon:\n",
    "\n",
    "    x = x0 - f(x0)/fd(x0)\n",
    "    \n",
    "    feil = abs(x)\n",
    "    i += 1\n",
    "    x0 = x\n",
    "\n",
    "    alle_feil.append(feil)\n",
    "    \n",
    "\n",
    "print(f\"x={x} er den approksimerte løningen\")\n",
    "print(f\"Feilen er {feil} og det tok {i} iterasjoner og komme dit\")\n",
    "\n",
    "\n",
    "alle_feil = np.array(alle_feil)\n",
    "plt.semilogy(alle_feil[1:]/alle_feil[:-1])\n",
    "plt.grid()\n"
   ]
  },
  {
   "cell_type": "markdown",
   "id": "5b4cf3f4",
   "metadata": {},
   "source": [
    "### Oppgave 9 – Bølgelengde i havet\n",
    "\n",
    "For bølger på havet er sammenhengen mellom perioden $T$ og bølgelengden $L$ gitt med den såkalte dispersjonsrelasjonen:  \n",
    "\n",
    "$\\omega^2 = g k \\tanh(k h)$\n",
    "\n",
    "der  \n",
    "\n",
    "$\\omega = \\frac{2 \\pi}{T}$ er vinkelhastigheten, $k = \\frac{2 \\pi}{L}$ er bølgetallet, $g = 9.81$m/s^2 er tyngeakselerasjonen og $h$ er vanndybden.\n",
    "\n",
    "- Beregn bølgelengden $L$ for en bølge med periode $T = 7 \\, \\mathrm{s}$ og dybde $h = 100 \\, \\mathrm{m}$. \n",
    "- Gjenta for $h = 10 \\, \\mathrm{m}$, $5 \\, \\mathrm{m}$, og $1 \\, \\mathrm{m}$.  \n",
    "\n",
    "**Hint:** Bruk en ikke-lineær solver (f.eks. Newtons metode) i Python for å løse ligningen for $k$.  "
   ]
  },
  {
   "cell_type": "code",
   "execution_count": 72,
   "id": "890120eb",
   "metadata": {},
   "outputs": [
    {
     "name": "stdout",
     "output_type": "stream",
     "text": [
      "L=76.50417834592378m er den approksimerte løningen\n",
      "Feilen er 8.422845754196828e-13 og det tok 3 iterasjoner og komme dit\n"
     ]
    }
   ],
   "source": [
    "import matplotlib.pyplot as plt\n",
    "import numpy as np\n",
    "\n",
    "def f(o, k, g, h):\n",
    "    return g*k*np.tanh(k*h) - o**2\n",
    "\n",
    "def fd(o, k, g, h):\n",
    "    return g*np.tanh(k*h) + h*k/(np.cosh(k*h)**2)\n",
    "\n",
    "n_max = 100\n",
    "epsilon = 10**-10\n",
    "\n",
    "g = 9.81\n",
    "T = 7\n",
    "o = 2*np.pi/T\n",
    "h = 100\n",
    "\n",
    "\n",
    "L0 = 100\n",
    "k0 = 2*np.pi/L0\n",
    "\n",
    "i = 0\n",
    "feil = 1 # Tilfeldig verdi til å starte med\n",
    "alle_feil = []\n",
    "\n",
    "while i < n_max and feil > epsilon:\n",
    "\n",
    "    k = k0 - f(o, k0, g, h)/fd(o, k0, g, h)\n",
    "    \n",
    "    feil = abs(k-k0)\n",
    "    i += 1\n",
    "    k0 = k\n",
    "    \n",
    "\n",
    "L = 2*np.pi/k\n",
    "\n",
    "print(f\"L={L}m er den approksimerte løningen\")\n",
    "print(f\"Feilen er {feil} og det tok {i} iterasjoner og komme dit\")\n",
    "\n"
   ]
  },
  {
   "cell_type": "markdown",
   "id": "a23a9fd4",
   "metadata": {},
   "source": []
  }
 ],
 "metadata": {
  "kernelspec": {
   "display_name": ".venv (3.12.3)",
   "language": "python",
   "name": "python3"
  },
  "language_info": {
   "codemirror_mode": {
    "name": "ipython",
    "version": 3
   },
   "file_extension": ".py",
   "mimetype": "text/x-python",
   "name": "python",
   "nbconvert_exporter": "python",
   "pygments_lexer": "ipython3",
   "version": "3.12.3"
  }
 },
 "nbformat": 4,
 "nbformat_minor": 5
}
