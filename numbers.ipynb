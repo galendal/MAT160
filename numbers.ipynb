{
 "cells": [
  {
   "cell_type": "markdown",
   "id": "d2ab4e7f",
   "metadata": {},
   "source": [
    "# Numerical representation. \n",
    "Much of the following is based on this: \n",
    "\n",
    "https://pythonnumericalmethods.studentorg.berkeley.edu/notebooks/chapter09.01-BaseN-and-Binary.html\n",
    "\n",
    "In addition to the course book. \n",
    "\n",
    "Lets' load some libraries up front:"
   ]
  },
  {
   "cell_type": "code",
   "execution_count": 4,
   "id": "bd7da95c",
   "metadata": {},
   "outputs": [],
   "source": [
    "import numpy as np \n",
    "import scipy as sp  \n",
    "import matplotlib.pyplot as plt\n",
    "import sys"
   ]
  },
  {
   "cell_type": "markdown",
   "id": "2bf586ec",
   "metadata": {},
   "source": [
    "## From last time  \n"
   ]
  },
  {
   "cell_type": "markdown",
   "id": "0843ad03",
   "metadata": {},
   "source": [
    "### The iterative map\n",
    "\n",
    "$$\n",
    " x_{n+1}=\\left\\{\\begin{array}{lcl}\n",
    " 2 x_n, & & x_n\\in [0,\\frac{1}{2}] \\\\\n",
    " 2x_n-1, &  & x_n\\in (\\frac{1}{2},1]\\end{array} \\right.\n",
    "$$\n",
    "By hand, calculate the first iterations, starting with $x_0=\\frac{1}{10}$. Thereafter, calculate the 50 first iterations in the cell below. \n"
   ]
  },
  {
   "cell_type": "code",
   "execution_count": 80,
   "id": "db2633e0",
   "metadata": {},
   "outputs": [
    {
     "name": "stdout",
     "output_type": "stream",
     "text": [
      "n=0, x=0.1\n",
      "n=1, x=0.2\n",
      "n=2, x=0.4\n",
      "n=3, x=0.8\n",
      "n=4, x=0.6000000000000001\n",
      "n=5, x=0.20000000000000018\n",
      "n=6, x=0.40000000000000036\n",
      "n=7, x=0.8000000000000007\n",
      "n=8, x=0.6000000000000014\n",
      "n=9, x=0.20000000000000284\n",
      "n=10, x=0.4000000000000057\n",
      "n=11, x=0.8000000000000114\n",
      "n=12, x=0.6000000000000227\n",
      "n=13, x=0.20000000000004547\n",
      "n=14, x=0.40000000000009095\n",
      "n=15, x=0.8000000000001819\n",
      "n=16, x=0.6000000000003638\n",
      "n=17, x=0.2000000000007276\n",
      "n=18, x=0.4000000000014552\n",
      "n=19, x=0.8000000000029104\n",
      "n=20, x=0.6000000000058208\n",
      "n=21, x=0.20000000001164153\n",
      "n=22, x=0.40000000002328306\n",
      "n=23, x=0.8000000000465661\n",
      "n=24, x=0.6000000000931323\n",
      "n=25, x=0.20000000018626451\n",
      "n=26, x=0.40000000037252903\n",
      "n=27, x=0.8000000007450581\n",
      "n=28, x=0.6000000014901161\n",
      "n=29, x=0.20000000298023224\n",
      "n=30, x=0.4000000059604645\n",
      "n=31, x=0.800000011920929\n",
      "n=32, x=0.6000000238418579\n",
      "n=33, x=0.20000004768371582\n",
      "n=34, x=0.40000009536743164\n",
      "n=35, x=0.8000001907348633\n",
      "n=36, x=0.6000003814697266\n",
      "n=37, x=0.20000076293945312\n",
      "n=38, x=0.40000152587890625\n",
      "n=39, x=0.8000030517578125\n",
      "n=40, x=0.600006103515625\n",
      "n=41, x=0.20001220703125\n",
      "n=42, x=0.4000244140625\n",
      "n=43, x=0.800048828125\n",
      "n=44, x=0.60009765625\n",
      "n=45, x=0.2001953125\n",
      "n=46, x=0.400390625\n",
      "n=47, x=0.80078125\n",
      "n=48, x=0.6015625\n",
      "n=49, x=0.203125\n"
     ]
    }
   ],
   "source": [
    "\n",
    "x = 1.0/10\n",
    "for n in range(50):\n",
    "    print(f'n={n}, x={x}')\n",
    "    if x<= 0.5:\n",
    "        x = 2*x\n",
    "    else:\n",
    "        x = 2*x - 1\n"
   ]
  },
  {
   "cell_type": "markdown",
   "id": "c1762593",
   "metadata": {},
   "source": [
    "## Number bases"
   ]
  },
  {
   "cell_type": "markdown",
   "id": "ac7a9e91",
   "metadata": {},
   "source": [
    "Number representation in different bases, $\\beta$:\n",
    "$$\n",
    "x = \\sum_{k=-m}^{n} a_k \\beta^k = a_n β^n + a_{n−1}β^{n−1} + \\ldots + a_1β^1 + a_0β^0 + a_{−1}β^{−1} + a_{−2}β^{−2} + \\ldots + a_{−m} β^{−m}\n",
    "$$\n",
    "where each of the coefficients $a_k$ are integers in the range $[0,\\beta-1]$.\n",
    "\n",
    "We will mostly think in decimal and binary bases. "
   ]
  },
  {
   "cell_type": "markdown",
   "id": "14115b3b",
   "metadata": {},
   "source": [
    "## From binary to decimal\n",
    "Each binary number can be written \n",
    "$$\n",
    "x(base\\ 2) = \\sum_{k=-m}^{n} a_k 2^k = a_n 2^n + a_{n−1}2^{n−1} + \\ldots + a_12^1 + a_02^0 + a_{−1}2^{−1} + a_{−2}2^{−2} + \\ldots + a_{−m} 2^{−m}\n",
    "$$\n",
    "\n",
    "Example:\n",
    "$$\n",
    "11001.1= 1\\cdot2^4+1\\cdot2^3+0\\cdot2^2+0\\cdot2^1+1\\cdot2^0+1\\cdot2^{-1}=16+8+1+0.5=25.5(base\\ 10)\n",
    "$$"
   ]
  },
  {
   "cell_type": "code",
   "execution_count": 178,
   "id": "3cc43976",
   "metadata": {},
   "outputs": [
    {
     "name": "stdout",
     "output_type": "stream",
     "text": [
      "Binary 11001.1 in decimal 25.5\n",
      "Binary 101.101 in decimal 5.625\n"
     ]
    }
   ],
   "source": [
    "def binary_to_decimal(binary_str): # Made by AI, be careful. \n",
    "    \"\"\"\n",
    "    Convert a binary string (including fractional part) to decimal.\n",
    "    Example: '11001.1' -> 25.5\n",
    "    \"\"\"\n",
    "    if '.' in binary_str:\n",
    "        int_part, frac_part = binary_str.split('.')\n",
    "    else:\n",
    "        int_part, frac_part = binary_str, ''\n",
    "    # Convert integer part without using int()\n",
    "    decimal = 0\n",
    "    #print(list(enumerate(reversed(int_part))))\n",
    "    for idx, digit in enumerate(reversed(int_part)):\n",
    "        if digit == '1':\n",
    "            decimal += 2 ** idx\n",
    "    #decimal = int(int_part, 2) if int_part else 0\n",
    "    # Convert fractional part\n",
    "    for idx, digit in enumerate(frac_part):\n",
    "        if digit == '1':\n",
    "            decimal += 2 ** -(idx + 1)\n",
    "    return decimal\n",
    "\n",
    "# Example usage:\n",
    "binary='11001.1'\n",
    "print(f\"Binary {binary} in decimal {binary_to_decimal('11001.1')}\")  # Output: 25.5\n",
    "binary='101.101'\n",
    "print(f\"Binary {binary} in decimal {binary_to_decimal('101.101')}\") # Output: 5.625"
   ]
  },
  {
   "cell_type": "markdown",
   "id": "6d0e257c",
   "metadata": {},
   "source": [
    "## From decimal to binary\n",
    "Repeating, since binary number can be written \n",
    "$$\n",
    "x(base\\ 2) =  a_n 2^n + a_{n−1}2^{n−1} + \\ldots + a_12^1 + a_02^0 + a_{−1}2^{−1} + a_{−2}2^{−2} + \\ldots + a_{−m} 2^{−m}=x(base\\ 10)\n",
    "$$\n",
    "\n",
    "Example:\n",
    "$$\n",
    "11(base \\ 10)= 8+2+1= 2^3+2^1+2^0=1011(base\\ 2)\n",
    "$$\n",
    "\n",
    "In general, given a $x(base\\ 10)$ number we need to find the coefficients in \n",
    "$$\n",
    "x(base\\ 10) = a_n 2^n + a_{n−1}2^{n−1} + \\ldots + a_12^1 + a_02^0 + a_{−1}2^{−1} + a_{−2}2^{−2} + \\ldots + a_{−m} 2^{−m}\n",
    "$$\n",
    "\n",
    "Split the $x(base\\ 10)$ into the integer and decimal parts, $x(base\\ 10)=I+D$, where $I\\in \\mathbb{Z}$ and $D\\in [0,1)$\n",
    "\n",
    "### The integer part\n",
    "$$\n",
    "\\begin{array}{rcl}\n",
    "I(base\\ 10) &=& a_n 2^n + a_{n−1}2^{n−1} + \\ldots + a_1 2^1 + a_0 2^0 \\\\\n",
    "&=& 2\\cdot\\left[a_n 2^n-1 + a_{n−1}2^{n−2} + \\ldots + a_1\\right]+a_0\\\\\n",
    "&=& 2\\cdot q+r\n",
    "\\end{array}\n",
    "$$\n",
    "where $ q=mod(I(base\\ 10),2)$ and $r$ is the remainder.\n",
    "\n",
    "### The decimal part\n",
    "$$\n",
    "\\begin{array}{rcl}\n",
    "D(base\\ 10) &=& a_{-1} 2^{-1} + a_{-2}2^{−2} + \\ldots + a_{-3} 2^{-3} + \\ldots \\\\\n",
    "&\\Downarrow& \\\\\n",
    "2D (base \\ 10) &=& a_{-1}2^0  + a_{-2}2^{−1} + \\ldots + a_{-3} 2^{-2} + \\ldots \n",
    "\\end{array}\n",
    "$$\n",
    "The integer part of $2D$ is either 1 or 0, so $int(2D)=a_{-1}$.\n",
    "Repeat."
   ]
  },
  {
   "cell_type": "markdown",
   "id": "16191f8e",
   "metadata": {},
   "source": [
    "\n",
    "### Algorithm with example\n",
    "\n",
    "To convert a **base 10 (decimal)** number to **binary**, follow these steps:\n",
    "\n",
    "#### 1. **Split the Number**\n",
    "Separate the number into its **integer** and **fractional** parts.\n",
    "\n",
    "**Example**:  \n",
    "Decimal: `13.625`  \n",
    "- Integer part: `13`  \n",
    "- Fractional part: `0.625`\n",
    "\n",
    "---\n",
    "\n",
    "#### 2. **Convert the Integer Part**\n",
    "Use repeated **division by 2**, and record the **remainders**:\n",
    "\n",
    "```\n",
    "13 ÷ 2 = 6 remainder 1  \n",
    "6 ÷ 2 = 3 remainder 0  \n",
    "3 ÷ 2 = 1 remainder 1  \n",
    "1 ÷ 2 = 0 remainder 1\n",
    "```\n",
    "\n",
    "Write the remainders **bottom to top**:  \n",
    "**Binary integer part = `1101`**\n",
    "\n",
    "---\n",
    "\n",
    "#### 3. **Convert the Fractional Part**\n",
    "Use repeated **multiplication by 2**, and record the **integer part** of each result:\n",
    "\n",
    "```\n",
    "0.625 × 2 = 1.25 → 1  \n",
    "0.25 × 2 = 0.5  → 0  \n",
    "0.5 × 2 = 1.0   → 1\n",
    "```\n",
    "\n",
    "**Binary fractional part = `.101`**\n",
    "\n",
    "---\n",
    "\n",
    "#### ✅ Final Result\n",
    "```plaintext\n",
    "13.625 (decimal) = 1101.101 (binary)\n",
    "```\n",
    "\n"
   ]
  },
  {
   "cell_type": "code",
   "execution_count": 179,
   "id": "41eee8ba",
   "metadata": {},
   "outputs": [
    {
     "data": {
      "text/plain": [
       "'00011001100110011001100110011001'"
      ]
     },
     "execution_count": 179,
     "metadata": {},
     "output_type": "execute_result"
    }
   ],
   "source": [
    "def decimal_to_binary_fraction(x, precision=32, return_int=False):# Made by AI, be careful.\n",
    "    \"\"\"\n",
    "    Convert a decimal number in [0, 1) to binary string.\n",
    "    \n",
    "    Parameters:\n",
    "        x (float): Decimal number between 0 and 1.\n",
    "        precision (int): Number of binary digits after the point.\n",
    "    \n",
    "    Returns:\n",
    "        str: Binary representation as a string.\n",
    "    \"\"\"\n",
    "    if not (0 <= x < 1):\n",
    "        raise ValueError(\"Input must be in the range [0, 1).\")\n",
    "    \n",
    "    binary = []\n",
    "    for _ in range(precision):\n",
    "        x *= 2\n",
    "        bit = int(x)\n",
    "        binary.append(str(bit))\n",
    "        x -= bit\n",
    "        if x == 0:\n",
    "            break\n",
    "    if return_int:\n",
    "        out = '0.' + ''.join(binary)\n",
    "    else:\n",
    "        out = ''.join(binary)\n",
    "    return out\n",
    "\n",
    "decimal_to_binary_fraction(0.1)\n"
   ]
  },
  {
   "cell_type": "markdown",
   "id": "3e8eb7c2",
   "metadata": {},
   "source": [
    "## Representing numbers in the computer\n"
   ]
  },
  {
   "cell_type": "code",
   "execution_count": null,
   "id": "565e6315",
   "metadata": {},
   "outputs": [
    {
     "name": "stdout",
     "output_type": "stream",
     "text": [
      "x = 15.000000\n",
      "  mantissa: 1.875000, exponent: 3\n",
      "  mantissa (binary, only significant): 111\n",
      "  mantissa (binary, padded to 5 digits): 1110000000000000000000000000000000000000000000000000\n",
      "  exponent (binary): 10000000010\n",
      "  reconstructed: 15.000000\n"
     ]
    }
   ],
   "source": [
    "x = 15 # Example value\n",
    "print(f\"x = {x:.6f}\") # \n",
    "mantissa, exponent = np.frexp(x) # np.frexp gives mantissa between [0.5, 1) will adjust in next lines\n",
    "mantissa = mantissa * 2 # Adjust mantissa to be in [1, 2)\n",
    "exponent = exponent - 1 # Adjust exponent accordingly\n",
    "\n",
    "\n",
    "print(f\"  mantissa: {mantissa:.6f}, exponent: {exponent}\")\n",
    "reconstructed = mantissa * 2.0**exponent\n",
    "mantissa_bin = decimal_to_binary_fraction(mantissa-1)#np.binary_repr(mantissa - 1, width=54)\n",
    "exponent_bin = np.binary_repr(exponent+1023)\n",
    "print(f\"  mantissa (binary, only significant): {mantissa_bin}\")\n",
    "mantissa_bin_padded = mantissa_bin.ljust(52, '0')\n",
    "print(f\"  mantissa (binary, padded to 5 digits): {mantissa_bin_padded}\")\n",
    "print(f\"  exponent (binary): {exponent_bin}\")\n",
    "print(f\"  reconstructed: {reconstructed:.6f}\")\n"
   ]
  },
  {
   "cell_type": "markdown",
   "id": "f3e0fe8c",
   "metadata": {},
   "source": [
    "What will be the neighbouring numbers we can represent? The next "
   ]
  },
  {
   "cell_type": "code",
   "execution_count": 181,
   "id": "60f323cc",
   "metadata": {},
   "outputs": [
    {
     "name": "stdout",
     "output_type": "stream",
     "text": [
      "mantissa_bin_padded:       1110000000000000000000000000000000000000000000000000\n",
      "mantissa_bin_padded_plus1: 1110000000000000000000000000000000000000000000000001\n"
     ]
    }
   ],
   "source": [
    "# Convert mantissa_bin_padded to a list for mutability\n",
    "mantissa_bin_list = list(mantissa_bin_padded)\n",
    "\n",
    "# Add one to the last digit (binary addition with carry)\n",
    "carry = 1\n",
    "for i in range(len(mantissa_bin_list)-1, -1, -1):\n",
    "    if mantissa_bin_list[i] == '0':\n",
    "        mantissa_bin_list[i] = '1'\n",
    "        carry = 0\n",
    "        break\n",
    "    else:\n",
    "        mantissa_bin_list[i] = '0'\n",
    "# If carry is still 1, it means overflow, but we ignore it for 53 bits\n",
    "\n",
    "mantissa_bin_padded_plus1 = ''.join(mantissa_bin_list)\n",
    "print(\"mantissa_bin_padded:      \", mantissa_bin_padded)\n",
    "print(\"mantissa_bin_padded_plus1:\", mantissa_bin_padded_plus1)"
   ]
  },
  {
   "cell_type": "code",
   "execution_count": 183,
   "id": "07b5d78f",
   "metadata": {},
   "outputs": [
    {
     "name": "stdout",
     "output_type": "stream",
     "text": [
      "mantissa_bin_padded:        1110000000000000000000000000000000000000000000000000\n",
      "mantissa_bin_padded_minus1: 1101111111111111111111111111111111111111111111111111\n"
     ]
    }
   ],
   "source": [
    "# Convert mantissa_bin_padded to a list for mutability\n",
    "mantissa_bin_list = list(mantissa_bin_padded)\n",
    "\n",
    "# Subtract one from the last digit (binary subtraction with borrow)\n",
    "borrow = 1\n",
    "for i in range(len(mantissa_bin_list)-1, -1, -1):\n",
    "    if mantissa_bin_list[i] == '1':\n",
    "        mantissa_bin_list[i] = '0'\n",
    "        borrow = 0\n",
    "        break\n",
    "    else:\n",
    "        mantissa_bin_list[i] = '1'\n",
    "# If borrow is still 1, it means underflow, but we ignore it for 53 bits\n",
    "\n",
    "mantissa_bin_padded_minus1 = ''.join(mantissa_bin_list)\n",
    "print(\"mantissa_bin_padded:       \", mantissa_bin_padded)\n",
    "print(\"mantissa_bin_padded_minus1:\", mantissa_bin_padded_minus1)"
   ]
  },
  {
   "cell_type": "code",
   "execution_count": 189,
   "id": "7051b90f",
   "metadata": {},
   "outputs": [
    {
     "name": "stdout",
     "output_type": "stream",
     "text": [
      "0.8749999999999998\n",
      "0.8750000000000002\n",
      "minus: 1.87499999999999978, pluss: 1.87500000000000022\n",
      "Reconstructed (mantissa - 1): 14.99999999999999822\n",
      "Reconstructed (mantissa + 1): 15.00000000000000178\n",
      "Difference: 3.552713678800501e-15\n",
      "The reconstructed values are different.\n"
     ]
    }
   ],
   "source": [
    "# Reconstruct the numbers using the mantissa_bin_padded_minus1 and mantissa_bin_padded_plus1\n",
    "\n",
    "def binary_fraction_to_decimal(bin_str):\n",
    "    \"\"\"Convert a binary string (fractional part only, e.g., '101') to decimal in [0, 1).\"\"\"\n",
    "    return np.float64(sum(np.float64(int(bit)) * np.float64(2)**-(i+1) for i, bit in enumerate(bin_str)))\n",
    "\n",
    "print(binary_fraction_to_decimal(mantissa_bin_padded_minus1))  # Should be close to 0.5\n",
    "print(binary_fraction_to_decimal(mantissa_bin_padded_plus1))   # Should be close to 0.5\n",
    "\n",
    "sign = np.float64(1)  # assuming positive numbers as in the example\n",
    "\n",
    "# Reconstruct using mantissa_bin_padded_minus1\n",
    "mantissa_minus1 =  1+binary_fraction_to_decimal(mantissa_bin_padded_minus1)\n",
    "reconstructed_minus1 =sign * mantissa_minus1 * np.float64(2.0)**np.float64(exponent)\n",
    "\n",
    "# Reconstruct using mantissa_bin_padded_plus1\n",
    "mantissa_plus1 = 1 + binary_fraction_to_decimal(mantissa_bin_padded_plus1)\n",
    "reconstructed_plus1 = sign * (mantissa_plus1) * np.float64(2.0)**np.float64(exponent)\n",
    "\n",
    "print(f\"minus: {mantissa_minus1:.17f}, pluss: {mantissa_plus1:.17f}\")\n",
    "print(f\"Reconstructed (mantissa - 1): {reconstructed_minus1:.17f}\")\n",
    "print(f\"Reconstructed (mantissa + 1): {reconstructed_plus1:.17f}\")\n",
    "print(f\"Difference: {reconstructed_plus1 - reconstructed_minus1}\")\n",
    "\n",
    "# Check if they are exactly equal\n",
    "if reconstructed_plus1 == reconstructed_minus1:\n",
    "    print(\"The reconstructed values are exactly equal.\")\n",
    "else:\n",
    "    print(\"The reconstructed values are different.\")"
   ]
  },
  {
   "cell_type": "markdown",
   "id": "706bfa03",
   "metadata": {},
   "source": [
    "## Machine accuracy"
   ]
  },
  {
   "cell_type": "code",
   "execution_count": null,
   "id": "328357e6",
   "metadata": {},
   "outputs": [
    {
     "data": {
      "text/plain": [
       "sys.float_info(max=1.7976931348623157e+308, max_exp=1024, max_10_exp=308, min=2.2250738585072014e-308, min_exp=-1021, min_10_exp=-307, dig=15, mant_dig=53, epsilon=2.220446049250313e-16, radix=2, rounds=1)"
      ]
     },
     "execution_count": 3,
     "metadata": {},
     "output_type": "execute_result"
    }
   ],
   "source": [
    "sys.float_info"
   ]
  },
  {
   "cell_type": "markdown",
   "id": "f47b13d4",
   "metadata": {},
   "source": [
    "`sys.float_info` provides detailed information about the properties of floating point numbers (type `float`) on your system, according to the IEEE 754 double-precision standard (which is what Python uses for `float`). Here’s what the main fields mean:\n",
    "\n",
    "- **max**: Largest representable positive float (`1.7976931348623157e+308`)\n",
    "- **min**: Smallest positive normalized float (`2.2250738585072014e-308`)\n",
    "- **epsilon**: The difference between 1 and the next representable float (`2.220446049250313e-16`). This is the machine precision.\n",
    "- **dig**: Number of decimal digits of precision (15)\n",
    "- **mant_dig**: Number of bits in the mantissa (53)\n",
    "- **max_exp**: Maximum exponent for base 2 (1024)\n",
    "- **min_exp**: Minimum exponent for base 2 (-1021)\n",
    "- **max_10_exp**: Maximum exponent for base 10 (308)\n",
    "- **min_10_exp**: Minimum exponent for base 10 (-307)\n",
    "- **radix**: Base of the exponent (2, since binary)\n",
    "- **rounds**: Rounding mode (1 means round to nearest)\n",
    "\n",
    "In summary, this tells you the range, precision, and behavior of floating point numbers in Python on your system."
   ]
  },
  {
   "cell_type": "markdown",
   "id": "acf43d3e",
   "metadata": {},
   "source": [
    "The **mantissa** (also called the significand) and the **exponent base** are key components of floating-point numbers, which are used to represent real numbers in computers.\n",
    "\n",
    "- **Mantissa (Significand):**  \n",
    "    This is the part of a floating-point number that contains its significant digits. For example, in scientific notation, the number 6.022 × 10²³ has a mantissa of 6.022.\n",
    "\n",
    "- **Exponent Base:**  \n",
    "    This is the base used for the exponent part of the number. In most computer systems (following the IEEE 754 standard), the base is 2 (binary). So, a floating-point number is represented as:  \n",
    "    **number = mantissa × (base)^(exponent)**  \n",
    "    For example, 1.5 × 2³ = 12.\n",
    "\n",
    "In summary, the mantissa determines the precision of the number, while the exponent (with its base) determines the scale or magnitude. In Python, the base is always 2 for floating-point numbers."
   ]
  },
  {
   "cell_type": "markdown",
   "id": "1421a4e3",
   "metadata": {},
   "source": [
    "### The numpy library"
   ]
  },
  {
   "cell_type": "code",
   "execution_count": 51,
   "id": "10a55688",
   "metadata": {},
   "outputs": [
    {
     "name": "stdout",
     "output_type": "stream",
     "text": [
      "Machine parameters for float32\n",
      "---------------------------------------------------------------\n",
      "precision =   6   resolution = 1.0000000e-06\n",
      "machep =    -23   eps =        1.1920929e-07\n",
      "negep =     -24   epsneg =     5.9604645e-08\n",
      "minexp =   -126   tiny =       1.1754944e-38\n",
      "maxexp =    128   max =        3.4028235e+38\n",
      "nexp =        8   min =        -max\n",
      "smallest_normal = 1.1754944e-38   smallest_subnormal = 1.4012985e-45\n",
      "---------------------------------------------------------------\n",
      "\n",
      "Machine parameters for float64\n",
      "---------------------------------------------------------------\n",
      "precision =  15   resolution = 1.0000000000000001e-15\n",
      "machep =    -52   eps =        2.2204460492503131e-16\n",
      "negep =     -53   epsneg =     1.1102230246251565e-16\n",
      "minexp =  -1022   tiny =       2.2250738585072014e-308\n",
      "maxexp =   1024   max =        1.7976931348623157e+308\n",
      "nexp =       11   min =        -max\n",
      "smallest_normal = 2.2250738585072014e-308   smallest_subnormal = 4.9406564584124654e-324\n",
      "---------------------------------------------------------------\n",
      "\n"
     ]
    }
   ],
   "source": [
    "import numpy as np\n",
    "# NumPy provides info for float32, since sys.float_info is for Python's float (float64)\n",
    "print(np.finfo(np.float32))\n",
    "print(np.finfo(np.float64))"
   ]
  },
  {
   "cell_type": "code",
   "execution_count": 159,
   "id": "6895cbda",
   "metadata": {},
   "outputs": [
    {
     "data": {
      "text/plain": [
       "np.float64(1.1920928955078125e-07)"
      ]
     },
     "execution_count": 159,
     "metadata": {},
     "output_type": "execute_result"
    }
   ],
   "source": [
    "np.spacing(1e9)"
   ]
  },
  {
   "cell_type": "markdown",
   "id": "7962d8b0",
   "metadata": {},
   "source": [
    "`np.spacing(1e9)` returns the smallest possible difference between two distinct floating point numbers around the value `1e9` (one billion), using NumPy's float64 precision.\n",
    "\n",
    "The result, `1.1920928955078125e-07`, is the distance between `1e9` and the next larger representable float. This value is also known as the **machine epsilon** at that scale. It shows the precision limit of floating point arithmetic near `1e9`: any two numbers closer than this cannot be distinguished by a float64 variable.\n",
    "\n",
    "Try with other values. "
   ]
  },
  {
   "cell_type": "code",
   "execution_count": 5,
   "id": "b8eb81eb",
   "metadata": {},
   "outputs": [
    {
     "data": {
      "text/plain": [
       "np.float64(2.220446049250313e-16)"
      ]
     },
     "execution_count": 5,
     "metadata": {},
     "output_type": "execute_result"
    }
   ],
   "source": [
    "np.spacing(1)  # This will give the spacing for float64, which is the default in Python"
   ]
  },
  {
   "cell_type": "markdown",
   "id": "e948ce94",
   "metadata": {},
   "source": [
    "## More on round off errors. "
   ]
  },
  {
   "cell_type": "markdown",
   "id": "e9f27e53",
   "metadata": {},
   "source": [
    "Adding a small number to a large number and then subtract the larger, we should get back the original small one. "
   ]
  },
  {
   "cell_type": "code",
   "execution_count": 9,
   "id": "45673f14",
   "metadata": {},
   "outputs": [
    {
     "name": "stdout",
     "output_type": "stream",
     "text": [
      "small number: 0.123456789\n",
      "new number: 0.12345695495605469\n",
      "difference: -1.6595605469016395e-07\n",
      "relative difference: -1.3442440552229488e-06\n"
     ]
    }
   ],
   "source": [
    "# Add 10^x+small_number-10^x\n",
    "\n",
    "small_number = 0.123456789\n",
    "expon = 10 # Try different exponents. \n",
    "\n",
    "new_number = (10.**expon + small_number) - 10**expon\n",
    "\n",
    "print(f\"small number: {small_number}\")\n",
    "print(f\"new number: {new_number}\")\n",
    "print(f\"difference: {small_number - new_number}\")\n",
    "print(f\"relative difference: {(small_number - new_number) / small_number}\")\n"
   ]
  },
  {
   "cell_type": "markdown",
   "id": "b3a94219",
   "metadata": {},
   "source": [
    "### Example 9 on page 30\n",
    "Presented in a slightly different way. \n",
    "\n",
    "Assuming we have the discrete map:\n",
    "$$\n",
    "x_{k+1}=(n+1)\\cdot x_k -1, \n",
    "$$\n",
    "assuming $n$ positive integer. This is a discrete map on the form \n",
    "$$\n",
    "x_{k+1}=f(x_k). \n",
    "$$\n",
    "The equilibrium points for this map, $x^*$, will be if we get back the same value as the one we put into $f(x)$. So we need to solve $x^*=f(x^*)$. In our case: \n",
    "$$\n",
    "x^*=(n+1)\\cdot x^* -1 \\Rightarrow x^* =1/n\n",
    "$$\n",
    "So if we start with $x_0=1/n$ we should for each iteration get back $1/n$. \n",
    "\n",
    "In anticipation of what follows, let's go a bit further and check stability for this fixed point. Assuming we enter the fixes point and add a small perturbation\n",
    "$$\n",
    "x_{n+1}=f(x^*+\\epsilon_k)\\sim f(x^*)+\\epsilon f'(x^*)+ O(\\epsilon^2) = x^* + \\epsilon_k f'(x^*)\n",
    "$$\n",
    "So the perturbation develops. \n",
    "$$ \n",
    "\\begin{array}{clc}\n",
    "k=0, \\ & x_0=x^* + \\epsilon, & f(x_0)\\sim x^*+ \\epsilon f'(x^*), \\\\\n",
    "k=1, \\ & x_1=x^* + \\epsilon f'(x^*), & f(x_1)\\sim x^*+ \\epsilon f'(x^*)^2, \\\\\n",
    "k=2, \\ & x_2=x^* + \\epsilon f'(x^*)^2, & f(x_2)\\sim x^*+ \\epsilon f'(x^*)^3, \\\\\n",
    "& \\vdots & \\\\\n",
    "k=m, \\ & x_2=x^* + \\epsilon f'(x^*)^m, & f(x_m)\\sim x^*+ \\epsilon f'(x^*)^m+1, \\\\\n",
    "\\end{array}\n",
    "$$\n",
    "Hence the fixed point is stable if $|f'(x^*)|<1$.\n",
    "\n",
    "In our example $f(x)=(n+1)x-1$ so $f'(x)=(n+1)$, and since $n$ is assumed positive, the fixed point is unstable. As will be be demonstrated. "
   ]
  },
  {
   "cell_type": "code",
   "execution_count": 168,
   "id": "2e951a25",
   "metadata": {},
   "outputs": [
    {
     "name": "stdout",
     "output_type": "stream",
     "text": [
      "n = 1  1/n= 1.0  x_10 = 1.0  x_29 = 1.0\n",
      "n = 2  1/n= 0.5  x_10 = 0.5  x_29 = 0.5\n",
      "n = 3  1/n= 0.3333333333333333  x_10 = 0.3333333333139308  x_29 = -5592405.0\n",
      "n = 4  1/n= 0.25  x_10 = 0.25  x_29 = 0.25\n",
      "n = 5  1/n= 0.2  x_10 = 0.20000000179015842  x_29 = 65959556527001.77\n",
      "n = 6  1/n= 0.16666666666666666  x_10 = 0.16666666069313285  x_29 = -1.9234215915856572e+16\n",
      "n = 7  1/n= 0.14285714285714285  x_10 = 0.1428571343421936  x_29 = -1.3176245766935393e+18\n",
      "n = 8  1/n= 0.125  x_10 = 0.125  x_29 = 0.125\n",
      "n = 9  1/n= 0.1111111111111111  x_10 = 0.11111116045435665  x_29 = 4.934324553889585e+21\n",
      "n = 10  1/n= 0.1  x_10 = 0.10000020942782539  x_29 = 3.322173065069967e+23\n",
      "n = 11  1/n= 0.09090909090909091  x_10 = 0.09090867429040372  x_29 = -8.241284018680293e+24\n",
      "n = 12  1/n= 0.08333333333333333  x_10 = 0.08333254844270876  x_29 = -1.581853859316291e+26\n",
      "n = 13  1/n= 0.07692307692307693  x_10 = 0.07692660590305422  x_29 = 6.100455014607263e+27\n",
      "n = 14  1/n= 0.07142857142857142  x_10 = 0.07142735197992223  x_29 = -1.558870467763749e+28\n",
      "n = 15  1/n= 0.06666666666666667  x_10 = 0.0666656494140625  x_29 = -8.45100400152153e+28\n",
      "n = 16  1/n= 0.0625  x_10 = 0.0625  x_29 = 0.0625\n"
     ]
    }
   ],
   "source": [
    "a = [ ] \n",
    "for n in range (1 ,17) : \n",
    "    x = 1/n \n",
    "    for k in range (10) : # do 10 iterations\n",
    "        x = (n + 1) * x - 1 \n",
    "    x_10= x\n",
    "    for k in range (29) : # do 29 further iterations\n",
    "        x = (n + 1) * x - 1\n",
    "    x_29= x\n",
    "    print(\"n =\", n, \" 1/n=\", 1/n, \" x_10 =\", x_10, \" x_29 =\", x_29)"
   ]
  },
  {
   "cell_type": "markdown",
   "id": "c3eb920d",
   "metadata": {},
   "source": [
    "### Another example. \n",
    "Demonstrating that the order of doing calculations matters. \n",
    "\n",
    "Evaluate\n",
    "$$\n",
    "\\frac{1.234}{0.1234}-\\frac{1.234}{0.1233}\n",
    "$$\n",
    "In two different ways and get two different results. \n",
    "1. Directly, by performing the fractions and then subtract. \n",
    "2. Evaluate \n",
    "$$\n",
    "1.234(\\frac{1}{0.1234}-\\frac{1}{0.1233})\n",
    "$$"
   ]
  },
  {
   "cell_type": "code",
   "execution_count": 160,
   "id": "c52b3277",
   "metadata": {},
   "outputs": [
    {
     "name": "stdout",
     "output_type": "stream",
     "text": [
      "-0.008110046\n",
      "-0.00811074\n"
     ]
    }
   ],
   "source": [
    "# In float 32 \n",
    "print(np.float32(1.234/0.1234) - np.float32(1.234/0.1233))\n",
    "print(1.234*(np.float32(1/0.1234) - np.float32(1/0.1233)))  # This demonstrates some of the pitfalls more dramatically"
   ]
  },
  {
   "cell_type": "code",
   "execution_count": 162,
   "id": "050fa621",
   "metadata": {},
   "outputs": [
    {
     "name": "stdout",
     "output_type": "stream",
     "text": [
      "-0.008110300081101585\n",
      "-0.008110300081103212\n"
     ]
    }
   ],
   "source": [
    "#In float 64\n",
    "print(np.float64(1.234/0.1234) - np.float64(1.234/0.1233))\n",
    "print(1.234*(np.float64(1/0.1234) - np.float64(1/0.1233)))  # This demonstrates some of the pitfalls more dramatically"
   ]
  },
  {
   "cell_type": "code",
   "execution_count": null,
   "id": "9c3c67da",
   "metadata": {},
   "outputs": [
    {
     "name": "stdout",
     "output_type": "stream",
     "text": [
      "-0.007812\n",
      "-0.00964\n"
     ]
    }
   ],
   "source": [
    "#What about float 16?\n",
    "print(np.float16(1.234/0.1234) - np.float16(1.234/0.1233))\n",
    "print(1.234*(np.float16(1/0.1234) - np.float16(1/0.1233)))  # This demonstrates some of the pitfalls more dramatically"
   ]
  },
  {
   "cell_type": "markdown",
   "id": "9173ba89",
   "metadata": {},
   "source": [
    "### Timing\n",
    "How we do calculations also changes how long time they take. Calculate \n",
    "$$\n",
    "1^3+2^3+3^3\\ldots n^3\n",
    "$$\n",
    "for a given $n$.\n"
   ]
  },
  {
   "cell_type": "code",
   "execution_count": 175,
   "id": "f34b0080",
   "metadata": {},
   "outputs": [
    {
     "name": "stdout",
     "output_type": "stream",
     "text": [
      "n=101\n",
      "Sum using running total: 25502500\n",
      "Time for running total: 0.0001308917999267578 seconds\n",
      "Sum using sum() on list: 25502500\n",
      "Time for sum() on list: 0.00013494491577148438 seconds\n",
      "time difference: 4.0531158447265625e-06 seconds\n",
      "time difference in percent: 3.096539162112933 %\n"
     ]
    }
   ],
   "source": [
    "import time\n",
    "\n",
    "# Method 1: Running total using a for loop\n",
    "Total = 0\n",
    "n=101\n",
    "print(f\"n={n}\")\n",
    "start1 = time.time()\n",
    "for i in range(1, n):\n",
    "    Total += i**3\n",
    "end1 = time.time()\n",
    "print(\"Sum using running total:\", Total)\n",
    "print(\"Time for running total:\", end1 - start1, \"seconds\")\n",
    "\n",
    "    # Method 2: Build a list of perfect cubes and sum with sum()\n",
    "cubes = []\n",
    "start2 = time.time()\n",
    "for i in range(1, n):\n",
    "    cubes.append(i**3)\n",
    "sum_cubes = sum(cubes)\n",
    "end2 = time.time()\n",
    "\n",
    "print(\"Sum using sum() on list:\", sum_cubes)\n",
    "print(\"Time for sum() on list:\", end2 - start2, \"seconds\")\n",
    "print(\"time difference:\", (end2 - start2)-(end1 - start1), \"seconds\")\n",
    "print(\"time difference in percent:\", ((end2 - start2)-(end1 - start1)) / (end1 - start1) * 100, \"%\")\n"
   ]
  },
  {
   "cell_type": "markdown",
   "id": "418f2ae0",
   "metadata": {},
   "source": [
    "## Computational Complexity of Operations\n",
    "\n",
    "Computational complexity describes how the time (or number of steps) required to perform an operation grows as the size of the input increases. Here are some common complexities:\n",
    "\n",
    "- **O(1): Constant time** — The operation takes the same amount of time regardless of input size. Example: accessing an element in a list by index.\n",
    "- **O(n): Linear time** — The time grows linearly with input size. Example: summing all elements in a list.\n",
    "- **O(n²): Quadratic time** — The time grows with the square of the input size. Example: nested loops over a list.\n",
    "\n",
    "Let's demonstrate this with a numerical example by timing three operations: accessing an element, summing a list, and a nested loop.\n"
   ]
  },
  {
   "cell_type": "code",
   "execution_count": 73,
   "id": "90fe26c6",
   "metadata": {},
   "outputs": [
    {
     "name": "stdout",
     "output_type": "stream",
     "text": [
      "O(log n) binary search time: 4.00543212890625e-05 seconds\n",
      "O(1) access time: 3.910064697265625e-05 seconds\n",
      "O(n) sum time: 0.006695985794067383 seconds\n",
      "O(log n) binary search time: 3.4809112548828125e-05 seconds\n",
      "O(n^2) nested loop time: 0.07391166687011719 seconds\n"
     ]
    }
   ],
   "source": [
    "\n",
    "import time\n",
    "import numpy as np\n",
    "import bisect\n",
    "import time\n",
    "\n",
    "n = 10**6\n",
    "lst = list(range(n))\n",
    "\n",
    "# O(log n): Binary search for an element\n",
    "target = n - 1\n",
    "start = time.time()\n",
    "index = bisect.bisect_left(lst, target)\n",
    "end = time.time()\n",
    "print(\"O(log n) binary search time:\", end - start, \"seconds\")\n",
    "\n",
    "n = 10**6\n",
    "lst = list(range(n))\n",
    "\n",
    "# O(1): Accessing an element\n",
    "start = time.time()\n",
    "x = lst[n//2]\n",
    "end = time.time()\n",
    "print(\"O(1) access time:\", end - start, \"seconds\")\n",
    "\n",
    "# O(n): Summing all elements\n",
    "start = time.time()\n",
    "total = sum(lst)\n",
    "end = time.time()\n",
    "print(\"O(n) sum time:\", end - start, \"seconds\")\n",
    "\n",
    "# O(log n): Binary search for an element\n",
    "target = n - 1\n",
    "start = time.time()\n",
    "index = bisect.bisect_left(lst, target)\n",
    "end = time.time()\n",
    "print(\"O(log n) binary search time:\", end - start, \"seconds\")\n",
    "\n",
    "# O(n^2): Nested loop (warning: can be slow for large n)\n",
    "n_small = 1000  # Use a smaller n for quadratic example\n",
    "lst_small = list(range(n_small))\n",
    "start = time.time()\n",
    "count = 0\n",
    "for i in lst_small:\n",
    "    for j in lst_small:\n",
    "        count += i * j\n",
    "end = time.time()\n",
    "print(\"O(n^2) nested loop time:\", end - start, \"seconds\")"
   ]
  },
  {
   "cell_type": "markdown",
   "id": "1b0a2e5c",
   "metadata": {},
   "source": [
    "**Task** Try this with increasing dimension and see how these numbers change."
   ]
  },
  {
   "cell_type": "markdown",
   "id": "f229e090",
   "metadata": {},
   "source": [
    "## Theory: Why These Examples Have Their Complexity\n",
    "\n",
    "- **O(1): Constant Time**  \n",
    "  Accessing an element in a list by its index (e.g., `lst[n//2]`) is a constant-time operation. No matter how large the list is, Python can directly retrieve the value at any index without scanning the list. This is because lists are implemented as arrays in memory.\n",
    "\n",
    "- **O(n): Linear Time**  \n",
    "  Summing all elements in a list (e.g., `sum(lst)`) requires visiting each element exactly once. As the list grows, the time taken grows proportionally. If you double the size of the list, the time to sum it roughly doubles.\n",
    "\n",
    "- **O(log n): Logarithmic Time**  \n",
    "  Operations like binary search (`bisect.bisect_left(lst, target)`) have logarithmic complexity. Each step cuts the search space in half, so the number of steps grows with the logarithm of the input size. For example, searching in a list of 1,000,000 elements takes only about 20 steps, since $2^{20} \\approx 1,000,000$. This makes logarithmic algorithms very efficient for large datasets.\n",
    "\n",
    "- **O(n²): Quadratic Time**  \n",
    "  A nested loop over a list (e.g., `for i in lst: for j in lst: ...`) means that for every element in the outer loop, you iterate over every element in the inner loop. If the list has `n` elements, you perform `n * n = n²` operations. This means the time increases very rapidly as the list size increases.\n",
    "\n",
    "These examples illustrate how the structure of your code determines how well it will scale to large inputs."
   ]
  },
  {
   "cell_type": "markdown",
   "id": "b6a44682",
   "metadata": {},
   "source": [
    "## Keep in mind the truncation error\n",
    "In NumPy, functions like sin, cos, and exp are evaluated using vectorized operations that are highly optimized and implemented in compiled C code under the hood for performance, more advanced methods than Taylor expansions. Still there will be truncation errors in these evaluations. Example in the next cell.  "
   ]
  },
  {
   "cell_type": "code",
   "execution_count": null,
   "id": "d020d5de",
   "metadata": {},
   "outputs": [
    {
     "name": "stdout",
     "output_type": "stream",
     "text": [
      "Taylor series: 0.7046526512091675\n",
      "NumPy sin:     0.7071067811865475\n",
      "Exact value:   0.7071067811865476\n"
     ]
    }
   ],
   "source": [
    "import numpy as np\n",
    "import math\n",
    "\n",
    "def taylor_sin(x, terms=10): # Compute sin(x) using Taylor series to a specified number of terms\n",
    "    result = 0\n",
    "    for n in range(terms):\n",
    "        term = ((-1)**n) * (x**(2*n + 1)) / math.factorial(2*n + 1)\n",
    "        result += term\n",
    "    return result\n",
    "\n",
    "# Compare with NumPy's sin\n",
    "x = np.pi/4 # 45 degrees in radians\n",
    "print(f\"Taylor series: {taylor_sin(x, terms=2)}\") # Taylor series approximation\n",
    "print(f\"NumPy sin:     {np.sin(x)}\") # NumPy's implementation\n",
    "print(f\"Exact value:   {np.sqrt(2)/2}\") # Exact value for sin(π/4)"
   ]
  },
  {
   "cell_type": "markdown",
   "id": "a051a75e",
   "metadata": {},
   "source": [
    "Notice how the NumPy sin and \"exact\" value differs on last digit. "
   ]
  }
 ],
 "metadata": {
  "kernelspec": {
   "display_name": "base",
   "language": "python",
   "name": "python3"
  },
  "language_info": {
   "codemirror_mode": {
    "name": "ipython",
    "version": 3
   },
   "file_extension": ".py",
   "mimetype": "text/x-python",
   "name": "python",
   "nbconvert_exporter": "python",
   "pygments_lexer": "ipython3",
   "version": "3.10.13"
  }
 },
 "nbformat": 4,
 "nbformat_minor": 5
}
