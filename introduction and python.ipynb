{
 "cells": [
  {
   "cell_type": "markdown",
   "id": "75ee2664",
   "metadata": {},
   "source": [
    "# Python, Jupyter and Colab\n",
    "In this course, we’ll use Python to demonstrate and solve problems. We’ll use a platform called Jupyter, which allows for dynamic pages, and run them in Colab. This means you’ll need a Google account. \n",
    "\n",
    "If you have already installed Python and Jupyter on your machine you can of course download the files to you computer and run them locally. \n",
    " \n"
   ]
  },
  {
   "cell_type": "markdown",
   "id": "80d79df5",
   "metadata": {},
   "source": [
    "### Why Python?\n",
    "[Python](https://www.python.org/) is free, frequently used, flexible and relatively easy to learn. However, it is slow compared to _C, C++, Fortran and Julia_, and for statistical and data science purposes _R_ is often used. \n",
    "\n",
    "Specialiced community libraries exists, we will mostly use three of the many libraries:\n",
    "- Numpy (numerical Python): https://www.numpy.org/\n",
    "- Matplotlib (a suite of plotting tools): https://matplotlib.org/\n",
    "- SciPy (scientific Python): https://www.scipy.org/\n"
   ]
  },
  {
   "cell_type": "markdown",
   "id": "62bfd4c7",
   "metadata": {},
   "source": [
    "\n",
    "### Why Jupyter?\n",
    "[Jupyter](https://jupyter.org) provides a dynamic document that can contain text, code and graphics. It is a volatile tool. This cell is a markdown cell that allows us to write latex, so we can write equations within the document. \n",
    "\n",
    "Example: An inline equation $x^2+2x+c=0$ and an equation on its own line\n",
    "$$\n",
    " \\frac{df}{dx}= e^{x^2} \n",
    "$$\n",
    "\n",
    "### Why Colab?\n",
    "[Colab](https://colab.research.google.com/notebooks/intro.ipynb#scrollTo=5fCEDCU_qrC0) allows us to run these files without having to install Python on you computer. Unfortunately, this requires a Google account. If you, for any reason, do not want to have a Google account, you can run the files directly in your computer after installing Python, e.g. through Anaconda. \n",
    "\n",
    "There is also an opportunity to use Jupyter lab, I have not yet looked into that option.  "
   ]
  },
  {
   "cell_type": "markdown",
   "id": "b1625076",
   "metadata": {},
   "source": [
    "## Short on Python \n",
    "\n",
    "Picking from these excellent sources: \n",
    "- [Numerical Analysis](https://gustavdelius.github.io/NumericalAnalysis2025/) course by Gustav Delius and Eric Sullivan.\n",
    "- [Data science fundamental](https://colab.research.google.com/github/JLDC/Data-Science-Fundamentals/blob/master/notebooks/000_introduction-to-python.ipynb#scrollTo=e08c3438-4b44-40b7-8a87-8cf36322f443)\n",
    "- [Python Programming And Numerical Methods: A Guide For Engineers And Scientists](https://pythonnumericalmethods.studentorg.berkeley.edu/notebooks/Index.html)\n",
    "\n",
    "There is a [Style guide](https://peps.python.org/pep-0008/) for writing Python code, have a look. \n"
   ]
  },
  {
   "cell_type": "markdown",
   "id": "5684ab86",
   "metadata": {},
   "source": [
    "The classical Jupyter example. "
   ]
  },
  {
   "cell_type": "code",
   "execution_count": 1,
   "id": "c605b422",
   "metadata": {},
   "outputs": [
    {
     "data": {
      "text/plain": [
       "86400"
      ]
     },
     "execution_count": 1,
     "metadata": {},
     "output_type": "execute_result"
    }
   ],
   "source": [
    "seconds_in_a_day = 24 * 60 * 60 # Compute the value and store it\n",
    "seconds_in_a_day # Display the value"
   ]
  },
  {
   "cell_type": "markdown",
   "id": "a79743ad",
   "metadata": {},
   "source": [
    "we can use the variable in the next cell, as the matter of facts, throughout the document. "
   ]
  },
  {
   "cell_type": "code",
   "execution_count": 3,
   "id": "73bc16d8",
   "metadata": {},
   "outputs": [
    {
     "data": {
      "text/plain": [
       "604800"
      ]
     },
     "execution_count": 3,
     "metadata": {},
     "output_type": "execute_result"
    }
   ],
   "source": [
    "seconds_in_a_week = 7 * seconds_in_a_day # Use the variable defined in the previous cell\n",
    "seconds_in_a_week # Display the result"
   ]
  },
  {
   "cell_type": "markdown",
   "id": "c0e7a22c",
   "metadata": {},
   "source": [
    "**Exercise**\n",
    "\n",
    "Can you find how many seconds there is in an hour?"
   ]
  },
  {
   "cell_type": "code",
   "execution_count": null,
   "id": "b7e8f13d",
   "metadata": {},
   "outputs": [],
   "source": [
    "# Enter your code here. You may use AI.\n"
   ]
  },
  {
   "cell_type": "markdown",
   "id": "52f99ea9",
   "metadata": {},
   "source": [
    "### Variable types\n",
    "A variable can have different types. In the above example, our `x` was always an integer, the most common types are:\n",
    "\n",
    "|Type|Description|\n",
    "|----|-----------|\n",
    "|`int`|Integer, a number in $\\mathbb{Z}$|\n",
    "|`float`| Decimal or floating point number, a number in $\\mathbb{R}$|\n",
    "|`str`| String, a character string, e.g. `\"unisg\"`|\n",
    "|`bool`| Boolean, either `True` or `False`|"
   ]
  },
  {
   "cell_type": "code",
   "execution_count": 13,
   "id": "38d913c4",
   "metadata": {},
   "outputs": [
    {
     "data": {
      "text/plain": [
       "\"x is <class 'int'>, y is <class 'float'>, and z is <class 'str'>\""
      ]
     },
     "execution_count": 13,
     "metadata": {},
     "output_type": "execute_result"
    }
   ],
   "source": [
    "x=3 #x is an integer\n",
    "y=2.5 #y is a float\n",
    "z=\"Hello \" #z is a string    \n",
    "f\"x is {type(x)}, y is {type(y)}, and z is {type(z)}\" # Display the types of the variables"
   ]
  },
  {
   "cell_type": "code",
   "execution_count": null,
   "id": "69bcbe5c",
   "metadata": {},
   "outputs": [
    {
     "data": {
      "text/plain": [
       "float"
      ]
     },
     "execution_count": 14,
     "metadata": {},
     "output_type": "execute_result"
    }
   ],
   "source": [
    "type(x*y) # Display the type of the product of x and y, which is a float\n"
   ]
  },
  {
   "cell_type": "code",
   "execution_count": null,
   "id": "c0eb5035",
   "metadata": {},
   "outputs": [
    {
     "data": {
      "text/plain": [
       "7"
      ]
     },
     "execution_count": 16,
     "metadata": {},
     "output_type": "execute_result"
    }
   ],
   "source": [
    "int(x*y) # Convert the product of x and y to an integer, which is 7"
   ]
  },
  {
   "cell_type": "code",
   "execution_count": null,
   "id": "b76b768c",
   "metadata": {},
   "outputs": [
    {
     "data": {
      "text/plain": [
       "'The fraction 22/7 is equal to 3.14.'"
      ]
     },
     "execution_count": 17,
     "metadata": {},
     "output_type": "execute_result"
    }
   ],
   "source": [
    "# Compute a fraction\n",
    "numerator = 22\n",
    "denominator = 7\n",
    "fraction = 22 / 7\n",
    "# A powerful use of f-Strings\n",
    "f\"The fraction {numerator}/{denominator} is equal to {fraction:.2f}.\" # Display the fraction with two decimal places\n"
   ]
  },
  {
   "cell_type": "code",
   "execution_count": 15,
   "id": "00d98876",
   "metadata": {},
   "outputs": [
    {
     "data": {
      "text/plain": [
       "'Hello Hello Hello '"
      ]
     },
     "execution_count": 15,
     "metadata": {},
     "output_type": "execute_result"
    }
   ],
   "source": [
    "z*x # Display the result of multiplying z and x, repeating the string z three times."
   ]
  },
  {
   "cell_type": "code",
   "execution_count": null,
   "id": "15b47186",
   "metadata": {},
   "outputs": [
    {
     "name": "stdout",
     "output_type": "stream",
     "text": [
      "Variable            Type     Data/Info\n",
      "--------------------------------------\n",
      "denominator         int      7\n",
      "fraction            float    3.142857142857143\n",
      "multiples_sum       int      1741780800\n",
      "numerator           int      22\n",
      "seconds_in_a_day    int      86400\n",
      "seconds_in_a_week   int      604800\n",
      "x                   int      3\n",
      "y                   float    2.5\n",
      "z                   str      Hello \n"
     ]
    }
   ],
   "source": [
    "%whos # Display the variables in the current namespace"
   ]
  },
  {
   "cell_type": "markdown",
   "id": "94c346c7",
   "metadata": {},
   "source": [
    "## Loops\n",
    "Modify the code below to sum the numbers from 1 to 100, borrowed from [here](https://colab.research.google.com/github/JLDC/Data-Science-Fundamentals/blob/master/notebooks/000_introduction-to-python.ipynb#scrollTo=b9970959-d29d-435a-b6ed-f8105fb76894)."
   ]
  },
  {
   "cell_type": "code",
   "execution_count": 34,
   "id": "72375414",
   "metadata": {},
   "outputs": [
    {
     "name": "stdout",
     "output_type": "stream",
     "text": [
      "-------------------------------------\n",
      "The final sum is 0\n",
      "\n",
      "⛔ There is an error somewhere. The sum should be 5050. ⛔\n"
     ]
    }
   ],
   "source": [
    "mysum = 0 # A variable that keeps track of the sum\n",
    "\n",
    "# ✏️ ... modify\n",
    "n = 0 \n",
    "\n",
    "# Run the loop\n",
    "for i in range(1, n):\n",
    "    if i % 5 == 0: # Every 5 step, print the result\n",
    "        print(f\"At iteration {i:>3}, the sum is {mysum:>5}\")\n",
    "    \n",
    "    # ✏️ ... modify (⚠️ think about incrementation)\n",
    "    mysum = 0\n",
    "\n",
    "# Print the final result\n",
    "print(\"-\"*37)\n",
    "print(f\"The final sum is {mysum}\")\n",
    "\n",
    "# Warn the user in case the final sum is not correct\n",
    "if mysum != sum(range(101)):\n",
    "    print(f\"\\n⛔ There is an error somewhere. The sum should be {sum(range(101))}. ⛔\")"
   ]
  },
  {
   "cell_type": "markdown",
   "id": "bbaec295",
   "metadata": {},
   "source": [
    "## Series expansion. \n",
    "From Chapter 1.4. \n",
    "Remember that \n",
    "$$\n",
    "f(x)=\\sum_{n=0}^{\\infty} \\frac{f^{(n)}(a)}{n!}(x-a)^n=f(a)+f'(a)(x-a)+\\frac{f''(a)}{2!}(x-a)+\\ldots\n",
    "$$\n",
    "\n",
    "The two special series, geometric and the exponential. \n",
    "\n",
    "### The geometric series\n",
    "$$\n",
    "\\frac{1}{1-x}=\\sum_{k=0}^{\\infty} x^k=1+x+x^2+\\ldots \n",
    "$$\n",
    "Converges for $|x|<1$. \n",
    "\n",
    "### The exponential \n",
    "$$\n",
    "e^{x}=\\sum_{k=0}^{\\infty} \\frac{x^k}{k!}=1+x+\\frac{1}{2}x^2+\\ldots \n",
    "$$\n",
    "Converges for all $x$. \n",
    "\n",
    "Let's look at truncation errors. \n"
   ]
  },
  {
   "cell_type": "markdown",
   "id": "b24e3436",
   "metadata": {},
   "source": [
    "*Exercise*\n",
    "\n",
    "1. For the geometric series. \n",
    "\n",
    "Evaluate the function at a given $x$ and find the error for the $n$-term series expansion. Can you make a figure that show how the error is reduced with increasing $n$?\n",
    "\n",
    "What happens if $x=3$?"
   ]
  },
  {
   "cell_type": "code",
   "execution_count": null,
   "id": "2d54d324",
   "metadata": {},
   "outputs": [],
   "source": [
    "def geometric_series_sum(x): # Exact sum of the geometric series\n",
    "    return 1 / (1 - x)\n",
    " \n",
    "def geometric_series_taylor(x, n): # Taylor series expansion of the geometric series\n",
    "    return sum(x**k for k in range(n))\n",
    "\n",
    "# Write your code here. You may use AI. "
   ]
  },
  {
   "cell_type": "markdown",
   "id": "fb31dc08",
   "metadata": {},
   "source": [
    "**Exercise**\n",
    "\n",
    "Do the same for $e^x$. Demonstrate that this converges for all x. "
   ]
  },
  {
   "cell_type": "code",
   "execution_count": null,
   "id": "f7e27556",
   "metadata": {},
   "outputs": [],
   "source": []
  }
 ],
 "metadata": {
  "kernelspec": {
   "display_name": "base",
   "language": "python",
   "name": "python3"
  },
  "language_info": {
   "codemirror_mode": {
    "name": "ipython",
    "version": 3
   },
   "file_extension": ".py",
   "mimetype": "text/x-python",
   "name": "python",
   "nbconvert_exporter": "python",
   "pygments_lexer": "ipython3",
   "version": "3.10.13"
  }
 },
 "nbformat": 4,
 "nbformat_minor": 5
}
