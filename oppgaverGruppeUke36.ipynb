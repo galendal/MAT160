{
 "cells": [
  {
   "cell_type": "markdown",
   "id": "a208db93",
   "metadata": {},
   "source": [
    "# Ukesoppgaver uke 36\n",
    "\n",
    "## Oppgaver for hånd\n",
    "\n",
    "**Oppgave 1 - Perfekte estimater** \n",
    "\n",
    "Det finnes uendelige mange måter å estimere deriverte til en funksjon på, med så høy konvergens en bare ønsker. Men i denne oppgaven skal vi fokusere på to av dem, endelig fremover differanse:\n",
    "\n",
    "$$f'(x)\\approx \\frac{f(x+h)-f(x)}{h}$$\n",
    "\n",
    "og sentraldifferansen:\n",
    "\n",
    "$$f'(x)\\approx \\frac{f(x+h)-f(x-h)}{2h}$$\n",
    "\n",
    "La oss fokusere på funksjonene $f(x)=2x+3$, $g(x)=x^2+1$ og $h(x)=x^3 - x$. \n",
    "\n",
    "a) Hva er de ekte deriverte til funksjonene i $x=1$? \n",
    "\n",
    "b) Hva er estimatet til de deriverte i punktet $x=1$ med endelig fremover differansen estimatet med $h=1$?\n",
    "\n",
    "c) Hva er estimatet til de deriverte i punktet $x=1$ med sentral differansen med $h=1$? \n",
    "\n",
    "Som du kanskje noterte deg er noen av estimatene korrekte, selv med den store steglengden $h=1$. \n",
    "Ta for deg de generelle lineære og kvadratiske polynomene $F(x)=ax+b$ og $G(x)=ax^2+bx+c$. \n",
    "\n",
    "d) Hvis ved innsetting at fremover differansen og sentral differansen finner rett derivert for $F(x)$ for alle $x$ og $h$, og at sentraldifferansen gjør det samme for $G(x)$.\n",
    "\n",
    "\n",
    "**Oppgave 2 - trunkasjonsfeil endelig deriverte**\n",
    "I denne oppgaven skal vi finne trunkasjonsfeilene til fremover differansen og sentral differansen:\n",
    "\n",
    "$$ f'(x)\\approx \\frac{f(x+h)-f(x)}{h} \\quad \\text{og} \\quad f'(x)\\approx \\frac{f(x+h)-f(x-h)}{2h} $$\n",
    "\n",
    "For å finne de er vi først nødt å Taylor finne noen Taylor rekker.\n",
    "\n",
    "a) Finn 3. ordens Taylorrekken til $f(x_0+h)$ om punktet $x=x_0$\n",
    "\n",
    "b) Sett inn for rekken din i uttrykket $f'(x_0)\\approx \\frac{f(x_0+h)-f(x_0)}{h}$ og vis at trunkasjonsfeilen er $\\frac{h}{2} f''(c) + O(h^2)$\n",
    "\n",
    "c) Finn 3. ordens Taylorrekken til $f(x_0-h)$ om punktet $x=x_0$, og bruk dette til å finne trunkasjonsfeilen til sentral differansen. \n",
    "\n",
    "d) Kan du forklare resultatene fra oppgave 1 med hjelp av disse trunkasjonsfeilene?"
   ]
  },
  {
   "cell_type": "markdown",
   "id": "9e9aada8",
   "metadata": {},
   "source": [
    "## Kodeoppgaver\n",
    "\n",
    "**Oppgave X - Deriverte til en funksjon**\n",
    "\n",
    "Ta for deg funksjonen $f(x)=sin(10x), \\quad x\\in[0,2]$. Vi skal teste ulike metoder for å estimere den deriverte. \n",
    "(Tips: sinus og cosinus kan finnes med np.sin(a) og np.cos(a) )\n",
    "\n",
    "a) Lag en funksjon som tar inn $x$ verdi(er) og returnerer $f(x)$ verdiene.\n",
    "\n",
    "b) Lag en funksjon som tar inn $x$ verdi(er) og returnerer de eksakte $f'(x)$ verdiene. Plot verdiene.\n",
    "\n",
    "c) Lag en funksjon som tar inn $x$ verdi(er) og en steglengde $h$ og estimerer $f'(x)$ med fremover differanse. Plot verdiene. \n",
    "\n",
    "d) Gjør det samme med sentraldifferansen. \n",
    "\n",
    "e) Hvilket av estimatene fungerer best her? Hvordan kan du forklare det? Lek gjerne med ulike verdier av $h$ for å se hva som skjer. \n",
    "\n",
    "\n",
    "\n"
   ]
  },
  {
   "cell_type": "code",
   "execution_count": 27,
   "id": "486dee98",
   "metadata": {},
   "outputs": [
    {
     "data": {
      "image/png": "[encoded data removed]",
      "text/plain": [
       "<Figure size 640x480 with 1 Axes>"
      ]
     },
     "metadata": {},
     "output_type": "display_data"
    }
   ],
   "source": [
    "import numpy as np\n",
    "import matplotlib.pyplot as plt\n",
    "\n",
    "# ---- Definer funksjoner her ----\n",
    "def kalkuler_f(x):\n",
    "    pass # Fjern denne linjen når du koder selv\n",
    "    return y\n",
    "\n",
    "def deriver_f(x): \n",
    "    pass # Fjern denne linjen når du koder selv\n",
    "    return f_derivert\n",
    "\n",
    "def fremover_differanse(x, h):\n",
    "    pass # Fjern denne linjen når du koder selv\n",
    "    return f_derivert\n",
    "\n",
    "def sentral_differanse(x, h):\n",
    "    pass # Fjern denne linjen når du koder selv\n",
    "    return f_derivert\n",
    "\n",
    "# ---- Gjør utregninger her ----\n",
    "# h = \n",
    "xs = np.linspace(0, 2, 100)\n",
    "# ys = kalkuler_f(xs)\n",
    "# frem_diff = fremover_differanse(xs, h)\n",
    "# sent_diff = sentral_differanse(xs, h)\n",
    "\n",
    "\n",
    "# ---- Plot her ----\n",
    "fig, ax = plt.subplots()\n",
    "#ax.plot()\n",
    "\n",
    "\n"
   ]
  },
  {
   "cell_type": "markdown",
   "id": "2f5f6b8f",
   "metadata": {},
   "source": [
    "**Oppgave X - Teste trunkasjonsfeil** \n",
    "\n",
    "Vi skal nå teste trunkasjonsfeilen til tre ulike metoder. Gjennom oppgaven bruker vi funksjonen $f(x)=e^x$ og vi er bare interessert i verdien i punktet $x=1$. \n",
    "\n",
    "a) Implementer fremover differanse, sentraldifferansen, og sentraldifferansen for å finne andre deriverte:\n",
    "\n",
    "$$ \n",
    "f'(x)\\approx \\frac{f(x+h)-f(x)}{h}, \\quad \n",
    "f'(x)\\approx \\frac{f(x+h)-f(x-h)}{2h}, \\quad \n",
    "f''(x)\\approx \\frac{f(x+h)-2f(x)+f(x-h)}{h^2} \n",
    "$$ \n",
    "\n",
    "b) La $h=10^-1$. For hver av metodene kalkuler trunkasjonsfeilen $E(h)=|f'_{eksakt}(1)-f'_{approks}(1,h)|$ for den enkeltderiverte og $E(h)=|f''_{eksakt}(1)-f''_{approks}(1,h)|$ for den dobbeltderiverte. \n",
    "\n",
    "c) Finn feilene også for $h=10^-2, 10^-3, 10^-4, 10^-5$ og lagre disse i en vektor for alle metodene. \n",
    "\n",
    "Hvis en metode er av orden $n$ vil feilen være $E(h)=O(h^n)$. Hvis vi tar logaritmen av dette uttrykket får vi:\n",
    "\n",
    "$\\log(E)=n\\log(h)$\n",
    "\n",
    "Så hvis vi plotter feilen for ulike $h$-verdier i et log-log diagram vil stigningstallet til grafen være ordenen til metoden. \n",
    "\n",
    "d) Plot $(h, E(h))$ for de ulike metodene i et log-log diagram (ax.loglog(x,y)). Les av ordenen til metodene fra stigningstallet til metoden."
   ]
  },
  {
   "cell_type": "code",
   "execution_count": null,
   "id": "c5bf64f6",
   "metadata": {},
   "outputs": [],
   "source": [
    "import numpy as np\n",
    "import matplotlib.pyplot as plt\n",
    "\n",
    "# ---- Lag eventuelle funksjoner her ----\n",
    "def f(x):\n",
    "    return np.exp(x)\n",
    "\n",
    "# ---- Gjør utregning her -----\n",
    "\n",
    "\n",
    "# ---- Plot her ----\n",
    "\n"
   ]
  },
  {
   "cell_type": "markdown",
   "id": "e206f7b7",
   "metadata": {},
   "source": [
    "**Oppgave X - Partiell derivasjon**\n",
    "\n",
    "I denne oppgaven skal vi øve oss på partiell derivasjon av en funksjon av flere variabler. \n",
    "\n",
    "Vi skal jobbe med funksjonen $f(x,y)=\\frac{5xy}{x^2+y^2}, x\\in[-2,2], y\\in[-2,2]$\n",
    "\n",
    "Sentral differansen i x-retning blir:\n",
    "\n",
    "$\\frac{\\partial}{\\partial x} f \\approx \\frac{f(x+h,y)-f(x-h,y)}{2h}$\n",
    "\n",
    "Og i y-retning: \n",
    "\n",
    "$\\frac{\\partial}{\\partial y} f \\approx \\frac{f(x,y+h)-f(x,y-h)}{2h}$\n"
   ]
  },
  {
   "cell_type": "code",
   "execution_count": null,
   "id": "c363cb81",
   "metadata": {},
   "outputs": [],
   "source": [
    "import numpy as np\n",
    "import matplotlib.pyplot as plt\n",
    "\n",
    "# ---- Lag eventuelle funksjoner her ----\n",
    "\n",
    "def f(x,y):\n",
    "    return 7*x*y / np.exp(x**2 + y**2)\n",
    "\n",
    "\n",
    "\n"
   ]
  },
  {
   "cell_type": "markdown",
   "id": "62658aac",
   "metadata": {},
   "source": [
    "**Opppgave X - Behandle ekte signal**\n",
    "\n",
    "I denne oppgaven skal vi jobbe med et ekte datasett. \n",
    "\n",
    "For å finne gravitasjonsakselerasjonen $g$ inni realfagsbygget har du satt opp et eksperiment. I trappehuset har du laget et langt vakuumkammer, som du slipper en ball i. Med et kamera tar du målinger av hvor langt $s$ ballen har falt etter $t$ sekunder. Kameraene er ikke perfekte, hvor ballen er litt uskarp på bilde, og du er ikke helt sikker på om den tar bilder helt jevnt. \n",
    "\n",
    "I teorien skal ballen falle med bevegelsen $s(t)=gt^2$, så du tror at det skal være mulig å finne $g$ ved å dobbeltderivere dataene dine.\n",
    "\n",
    "Dataene ligger i feltet under.\n",
    "\n",
    "a) Implementer en funksjon som regner ut fremover, bakover, og sentraldifferansen. (Merk at du ikke har et valg om $h$, du må bare bruke det du har fra tidsdataene dine. Legg også merke til at du må gjøre et valg når du kommer til endene av dataene dine.) \n",
    "\n",
    "b) Plot farten du fant og kommenter på det du ser.\n",
    "\n",
    "c) Regn ut akselerasjonen på to måter: \n",
    "1) Ved å bruke fremoverdifferansen for å finne v for så å bruke bakoverdifferensen for å finne a\n",
    "2) Bruke andre ordens sentral differansen for å finne $a$ direkte fra $s$. \n",
    "\n",
    "Sammenlign de to metodene og kommentar på hva du ser. \n",
    "\n",
    "d) Plot akselerasjonen. Hvordan kan du finne ut $g$ fra å se på denne grafen/jobbe med disse dataene? (Åpent spørsmål)"
   ]
  },
  {
   "cell_type": "code",
   "execution_count": 26,
   "id": "ecb2a363",
   "metadata": {},
   "outputs": [
    {
     "data": {
      "text/plain": [
       "Text(0.5, 0, 'Tid [s]')"
      ]
     },
     "execution_count": 26,
     "metadata": {},
     "output_type": "execute_result"
    },
    {
     "data": {
      "image/png": "[encoded data removed]",
      "text/plain": [
       "<Figure size 640x480 with 3 Axes>"
      ]
     },
     "metadata": {},
     "output_type": "display_data"
    }
   ],
   "source": [
    "import numpy as np \n",
    "import matplotlib.pyplot as plt\n",
    "\n",
    "# Lag \\ funksjoner her\n",
    "def fremover_differanse(xs, ys):\n",
    "    pass                                # Fjern dette når du fyller inn funksjonen\n",
    "    return derivert\n",
    "\n",
    "def bakover_differanse(xs, ys):\n",
    "    pass                                # Fjern dette når du fyller inn funksjonen\n",
    "    return derivert\n",
    "\n",
    "def sentral_differanse(xs, ys):\n",
    "    pass                                # Fjern dette når du fyller inn funksjonen\n",
    "    return derivert\n",
    "\n",
    "def andre_ordens_sentral_differanse(xs, ys):\n",
    "    pass                                # Fjern dette når du fyller inn funksjonen\n",
    "    return dobbelt_derivert \n",
    "\n",
    "# Dataene er:\n",
    "t = np.array([0., 0.1, 0.2, 0.3, 0.4, 0.5, 0.6, 0.7, 0.8, 0.9, 1., \n",
    "              1.1, 1.2, 1.3, 1.4, 1.5, 1.6, 1.7, 1.8, 1.9, 2.])\n",
    "s = np.array([0.025, 0.165, 0.185, 0.501, 0.689,  1.21, 1.81,  \n",
    "              2.34,  3.26,  4.01,  4.91,  5.95, 7.08, 8.25, 9.68, \n",
    "              10.9, 12.5, 14.1, 15.9, 17.7, 19.6])\n",
    "\n",
    "# Behandle dataene\n",
    "\n",
    "\n",
    "# Plot \n",
    "\n",
    "fig, axs = plt.subplots(3,1)\n",
    "\n",
    "axS = axs[0] \n",
    "axS.plot(t,s)\n",
    "axS.set_ylabel(\"Posisjon [m]\")\n",
    "\n",
    "axV = axs[1]\n",
    "                            # Plot farten\n",
    "axV.set_ylabel(\"Fart [m/s]\")\n",
    "\n",
    "axA = axs[2]\n",
    "                            # Plot akselerasjonen\n",
    "axA.set_ylabel(\"Akselerasjon [m/s^2]\")\n",
    "axA.set_xlabel(\"Tid [s]\")\n",
    "\n"
   ]
  },
  {
   "cell_type": "code",
   "execution_count": null,
   "id": "f24be305",
   "metadata": {},
   "outputs": [],
   "source": []
  }
 ],
 "metadata": {
  "kernelspec": {
   "display_name": "base",
   "language": "python",
   "name": "python3"
  },
  "language_info": {
   "codemirror_mode": {
    "name": "ipython",
    "version": 3
   },
   "file_extension": ".py",
   "mimetype": "text/x-python",
   "name": "python",
   "nbconvert_exporter": "python",
   "pygments_lexer": "ipython3",
   "version": "3.12.3"
  }
 },
 "nbformat": 4,
 "nbformat_minor": 5
}
