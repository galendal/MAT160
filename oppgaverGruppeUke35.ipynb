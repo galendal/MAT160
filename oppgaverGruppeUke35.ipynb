{
 "cells": [
  {
   "cell_type": "markdown",
   "id": "e30ed891",
   "metadata": {},
   "source": [
    "For øyeblikket er dette en tom fil. Vil teste om jeg klarer å jobbe med GitHub."
   ]
  },
  {
   "cell_type": "code",
   "execution_count": null,
   "id": "35788510",
   "metadata": {
    "vscode": {
     "languageId": "plaintext"
    }
   },
   "outputs": [],
   "source": [
    "a = 2\n",
    "b = 3\n",
    "print(a+b)"
   ]
  }
 ],
 "metadata": {
  "language_info": {
   "name": "python"
  }
 },
 "nbformat": 4,
 "nbformat_minor": 5
}
